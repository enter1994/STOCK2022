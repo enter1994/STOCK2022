{
 "cells": [
  {
   "cell_type": "code",
   "execution_count": 11,
   "id": "c01ac4da-ed5c-4dcf-95a8-42d83ef5d6fa",
   "metadata": {},
   "outputs": [],
   "source": [
    "import requests, lxml\n",
    "from bs4 import BeautifulSoup\n",
    "from selenium import webdriver\n",
    "from selenium.webdriver.chrome.options import Options"
   ]
  },
  {
   "cell_type": "code",
   "execution_count": 6,
   "id": "0f686013-44ea-40d4-ba54-74c076ae972a",
   "metadata": {
    "tags": []
   },
   "outputs": [],
   "source": [
    "# bs4 options\n",
    "\n",
    "headers = {\n",
    "    \"User-Agent\" : \"Mozilla/5.0 (Macintosh; Intel Mac OS X 10_15_7) AppleWebKit/537.36 (KHTML, like Gecko) Chrome/102.0.5005.61 Safari/537.36\"\n",
    "}\n",
    "\n",
    "params = {\n",
    "    'q' : 'AAPL',\n",
    "    'hl' : 'en-US',\n",
    "    'gl' : 'US',\n",
    "    'ceid' : 'US%3Aen'\n",
    "}\n",
    "\n",
    "# response = requests.get(\"https://news.google.com/search\", headers=headers, params=params)"
   ]
  },
  {
   "cell_type": "code",
   "execution_count": 14,
   "id": "a84b657a-9d3f-49dc-bfeb-ab3c22b0f085",
   "metadata": {},
   "outputs": [
    {
     "name": "stderr",
     "output_type": "stream",
     "text": [
      "/var/folders/xw/rbcyfp692g3c5w_0qcls7ncm0000gn/T/ipykernel_25212/3846108339.py:1: DeprecationWarning: executable_path has been deprecated, please pass in a Service object\n",
      "  driver = webdriver.Chrome(executable_path='/Users/parkdoyeong/Documents/Paper/STOCK2022/chromedriver')\n"
     ]
    }
   ],
   "source": [
    "driver = webdriver.Chrome(executable_path='/Users/parkdoyeong/Documents/Paper/STOCK2022/chromedriver')\n",
    "url = \"https://news.google.com/search?q=AAPL&hl=en-US&gl=US&ceid=US%3Aen\"\n",
    "driver.get(url)\n",
    "soup = BeautifulSoup(driver.page_source, 'lxml')"
   ]
  },
  {
   "cell_type": "code",
   "execution_count": 16,
   "id": "6c5a3009-22ac-4dbf-b10d-baff70211189",
   "metadata": {},
   "outputs": [],
   "source": [
    "titles = []\n",
    "\n",
    "for line in soup.select('h3'):\n",
    "    title = line.select_one('a').text\n",
    "    titles.append(title)"
   ]
  },
  {
   "cell_type": "code",
   "execution_count": null,
   "id": "644aa92f-69a7-403c-9457-63a7634b6696",
   "metadata": {},
   "outputs": [],
   "source": []
  },
  {
   "cell_type": "code",
   "execution_count": null,
   "id": "b9cc01fb-810f-4d31-b2da-67acb5b3bf6f",
   "metadata": {},
   "outputs": [],
   "source": []
  },
  {
   "cell_type": "code",
   "execution_count": null,
   "id": "a7397612-064d-4e61-a7e8-084110cbfb75",
   "metadata": {},
   "outputs": [],
   "source": []
  }
 ],
 "metadata": {
  "kernelspec": {
   "display_name": "Python 3 (ipykernel)",
   "language": "python",
   "name": "python3"
  },
  "language_info": {
   "codemirror_mode": {
    "name": "ipython",
    "version": 3
   },
   "file_extension": ".py",
   "mimetype": "text/x-python",
   "name": "python",
   "nbconvert_exporter": "python",
   "pygments_lexer": "ipython3",
   "version": "3.9.0"
  }
 },
 "nbformat": 4,
 "nbformat_minor": 5
}
