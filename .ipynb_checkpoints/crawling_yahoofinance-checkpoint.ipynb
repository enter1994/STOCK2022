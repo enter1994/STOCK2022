{
 "cells": [
  {
   "cell_type": "code",
   "execution_count": 8,
   "id": "c01ac4da-ed5c-4dcf-95a8-42d83ef5d6fa",
   "metadata": {},
   "outputs": [],
   "source": [
    "import requests, lxml\n",
    "from bs4 import BeautifulSoup\n",
    "from selenium import webdriver\n",
    "from selenium.webdriver.chrome.options import Options\n",
    "from selenium.webdriver.common.by import By\n",
    "from selenium.webdriver.common.keys import Keys\n",
    "import time, datetime"
   ]
  },
  {
   "cell_type": "code",
   "execution_count": 3,
   "id": "0f686013-44ea-40d4-ba54-74c076ae972a",
   "metadata": {
    "tags": []
   },
   "outputs": [],
   "source": [
    "# options\n",
    "headers = {\n",
    "    \"User-Agent\" : \"Mozilla/5.0 (Macintosh; Intel Mac OS X 10_15_7) AppleWebKit/537.36 (KHTML, like Gecko) Chrome/102.0.5005.61 Safari/537.36\"\n",
    "}\n",
    "\n",
    "# params = {\n",
    "#     'q' : 'AAPL',\n",
    "#     'hl' : 'en-US',\n",
    "#     'gl' : 'US',\n",
    "#     'ceid' : 'US%3Aen'\n",
    "# }\n",
    "# response = requests.get(\"https://news.google.com/search\", headers=headers, params=params)"
   ]
  },
  {
   "cell_type": "markdown",
   "id": "9490aa35-1986-4faf-a7fc-ff7e70fe7e5a",
   "metadata": {},
   "source": [
    "### title xpath 형식\n",
    "\n",
    "//*[@id=\"quoteNewsStream-0-Stream\"]/ul/li[1]/div/div/div[2]/h3/a/text()  \n",
    "//*[@id=\"quoteNewsStream-0-Stream\"]/ul/li[6]/div/div/div[2]/h3/a/text()  \n",
    "//*[@id=\"quoteNewsStream-0-Stream\"]/ul/li[8]/div/div/div[2]/h3/a/text()  \n",
    "//*[@id=\"quoteNewsStream-0-Stream\"]/ul/li[19]/div/div/div[2]/h3/a/text()  "
   ]
  },
  {
   "cell_type": "code",
   "execution_count": 20,
   "id": "0059a808-883f-4bc9-83c4-229282c5357b",
   "metadata": {},
   "outputs": [
    {
     "name": "stderr",
     "output_type": "stream",
     "text": [
      "/var/folders/xw/rbcyfp692g3c5w_0qcls7ncm0000gn/T/ipykernel_47104/2638852020.py:17: DeprecationWarning: executable_path has been deprecated, please pass in a Service object\n",
      "  driver = webdriver.Chrome(executable_path='/Users/parkdoyeong/Documents/Paper/STOCK2022/chromedriver', options=options)\n",
      "/var/folders/xw/rbcyfp692g3c5w_0qcls7ncm0000gn/T/ipykernel_47104/2638852020.py:31: DeprecationWarning: find_element_by_css_selector is deprecated. Please use find_element(by=By.CSS_SELECTOR, value=css_selector) instead\n",
      "  body = driver.find_element_by_css_selector('body')\n"
     ]
    }
   ],
   "source": [
    "titles = []\n",
    "\n",
    "# selenium setting\n",
    "url = \"https://finance.yahoo.com/quote/AAPL?p=AAPL&.tsrc=fin-srch\"\n",
    "whileSeconds = 10\n",
    "\n",
    "# protect deny\n",
    "options = webdriver.ChromeOptions()\n",
    "options.add_experimental_option('excludeSwitches', ['enable-logging'])\n",
    "options.add_argument('user-agent=Mozilla/5.0 (Macintosh; Intel Mac OS X 10_15_7) AppleWebKit/537.36 (KHTML, like Gecko) Chrome/102.0.5005.61 Safari/537.36')\n",
    "\n",
    "# start, end\n",
    "start = datetime.datetime.now()\n",
    "end = start + datetime.timedelta(seconds=whileSeconds)    \n",
    "\n",
    "# open yahoo finance\n",
    "driver = webdriver.Chrome(executable_path='/Users/parkdoyeong/Documents/Paper/STOCK2022/chromedriver', options=options)\n",
    "driver.get(url)\n",
    "\n",
    "# scroll\n",
    "# excute_script method\n",
    "# while True:\n",
    "#     driver.execute_script('window.scrollTo(0, document.body.scrollHeight);')\n",
    "#     time.sleep(whileSeconds)\n",
    "    \n",
    "#     if datetime.datetime.now() > end:\n",
    "#         break\n",
    "\n",
    "# send_kes method\n",
    "driver.implicitly_wait(10)\n",
    "body = driver.find_element_by_css_selector('body') \n",
    "\n",
    "for i in range(30):\n",
    "    body.send_keys(Keys.PAGE_DOWN)\n",
    "    time.sleep(0.5)\n",
    "\n",
    "title = driver.find_element(By.XPATH, '//*[@id=\"quoteNewsStream-0-Stream\"]/ul')\n",
    "title = title.get_attribute('innerText')\n",
    "titles.append(title)\n",
    "\n",
    "driver.close()"
   ]
  },
  {
   "cell_type": "code",
   "execution_count": 19,
   "id": "51c18a3d-a159-4777-b746-5aad665d7da0",
   "metadata": {},
   "outputs": [
    {
     "data": {
      "text/plain": [
       "513"
      ]
     },
     "execution_count": 19,
     "metadata": {},
     "output_type": "execute_result"
    }
   ],
   "source": [
    "len(titles[0].split('\\n'))"
   ]
  },
  {
   "cell_type": "code",
   "execution_count": 21,
   "id": "e743060d-46c9-44d1-9b6c-23be9adfc1a9",
   "metadata": {},
   "outputs": [
    {
     "data": {
      "text/plain": [
       "940"
      ]
     },
     "execution_count": 21,
     "metadata": {},
     "output_type": "execute_result"
    }
   ],
   "source": [
    "len(titles[0].split('\\n'))"
   ]
  },
  {
   "cell_type": "code",
   "execution_count": 12,
   "id": "febe49fe-3d6b-4248-8254-85d571dcee4d",
   "metadata": {},
   "outputs": [],
   "source": [
    "def doScrollDown(whileSeconds):\n",
    "    start = datetime.datetime.now()\n",
    "    end = start + datetime.timedelta(seconds=whileSeconds)\n",
    "    \n",
    "    while True:\n",
    "        driver.execute_script('window.scrollTo(0, document.body.scrollHeight);')\n",
    "        time.sleep(SCROLL_PAUSE_TIME)\n",
    "        if datetime.datetime.now() > end:\n",
    "            break"
   ]
  },
  {
   "cell_type": "code",
   "execution_count": null,
   "id": "b9cc01fb-810f-4d31-b2da-67acb5b3bf6f",
   "metadata": {},
   "outputs": [
    {
     "name": "stdout",
     "output_type": "stream",
     "text": [
      "None\n"
     ]
    }
   ],
   "source": [
    "print(doScrollDown(10))"
   ]
  },
  {
   "cell_type": "code",
   "execution_count": null,
   "id": "a7397612-064d-4e61-a7e8-084110cbfb75",
   "metadata": {},
   "outputs": [],
   "source": []
  }
 ],
 "metadata": {
  "kernelspec": {
   "display_name": "Python 3 (ipykernel)",
   "language": "python",
   "name": "python3"
  },
  "language_info": {
   "codemirror_mode": {
    "name": "ipython",
    "version": 3
   },
   "file_extension": ".py",
   "mimetype": "text/x-python",
   "name": "python",
   "nbconvert_exporter": "python",
   "pygments_lexer": "ipython3",
   "version": "3.9.0"
  }
 },
 "nbformat": 4,
 "nbformat_minor": 5
}
