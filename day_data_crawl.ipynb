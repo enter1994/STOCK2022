{
 "cells": [
  {
   "cell_type": "code",
   "execution_count": 54,
   "id": "c95f39da-0fab-4cd1-81a3-f4eff4a7e8a4",
   "metadata": {},
   "outputs": [],
   "source": [
    "from random import randint\n",
    "import time\n",
    "from time import gmtime, mktime\n",
    "from datetime import datetime\n",
    "import yfinance as yf\n",
    "import requests\n",
    "from bs4 import BeautifulSoup\n",
    "\n",
    "from investpy.stocks import (\n",
    "    get_stock_recent_data, get_stock_countries, get_stock_company_profile, get_stock_historical_data\n",
    ")\n",
    "from investpy.utils.extra import random_user_agent\n",
    "import json\n",
    "import pandas as pd\n",
    "from urllib import parse\n",
    "import csv\n",
    "\n",
    "from tqdm import tqdm"
   ]
  },
  {
   "cell_type": "code",
   "execution_count": 55,
   "id": "9c5d1340-1be2-4fa9-a689-c93822e5026e",
   "metadata": {},
   "outputs": [
    {
     "name": "stdout",
     "output_type": "stream",
     "text": [
      "1498867200\n",
      "1654819200\n"
     ]
    }
   ],
   "source": [
    "s = time.strptime('2017-07-01', '%Y-%m-%d')\n",
    "e = time.strptime('2022-06-10', '%Y-%m-%d')\n",
    "start_1 = int(mktime(s)) + 32400\n",
    "end_1 = int(mktime(e)) + 32400\n",
    "\n",
    "print(start_1)\n",
    "print(end_1)"
   ]
  },
  {
   "cell_type": "code",
   "execution_count": 56,
   "id": "e4b6fbc1-c350-42f9-ab15-9b398458d4a8",
   "metadata": {},
   "outputs": [],
   "source": [
    "stocks_path = \"/Users/parkdoyeong/miniforge3/envs/crawling/lib/python3.8/site-packages/investpy/resources/stocks.csv\"\n",
    "json_path = \"/Users/parkdoyeong/Documents/Paper/research-stock-GPT/corporate.json\""
   ]
  },
  {
   "cell_type": "code",
   "execution_count": 57,
   "id": "cf9604e6-0697-4297-99c4-d8bb7aa890b0",
   "metadata": {},
   "outputs": [],
   "source": [
    "df = pd.read_csv(stocks_path)\n",
    "df = df[df[\"country\"] == \"united states\"]"
   ]
  },
  {
   "cell_type": "code",
   "execution_count": 45,
   "id": "99942271-81d5-4fd0-b1fb-e8dd342271b1",
   "metadata": {
    "tags": []
   },
   "outputs": [],
   "source": [
    "def get_hour(tag):\n",
    "    name = df[df[\"symbol\"] == tag][\"tag\"].values[0]\n",
    "    \n",
    "    req = requests.get(\n",
    "        f\"https://www.investing.com/equities/{name}-chart\",\n",
    "        headers = {\n",
    "            \"User-Agent\": random_user_agent(),\n",
    "            \"X-Requested-With\": \"XMLHttpRequest\",\n",
    "            \"Accept\": \"text/html\",\n",
    "            \"Accept-Encoding\": \"gzip, deflate\",\n",
    "            \"Connection\": \"keep-alive\",\n",
    "        }\n",
    "    )\n",
    "    \n",
    "    soup = BeautifulSoup(req.text, 'html.parser')\n",
    "    url = soup.select_one(\"#leftColumn > div.tvChartContainer > div:nth-child(1) > iframe\").attrs[\"src\"]\n",
    "    # print(url)\n",
    "    url_parsing = parse.urlparse(url)\n",
    "    \n",
    "    qs = parse.parse_qs(url_parsing.query)\n",
    "    carrier = qs['carrier'][0]\n",
    "    symbol = qs['pair_ID'][0]\n",
    "    t = qs['time'][0]\n",
    "    # t = \"1655695721\"\n",
    "    \n",
    "    url1 = f\"https://tvc4.investing.com/{carrier}/{t}/1/1/8/history?symbol={symbol}&resolution=D&from={start_1}&to={end_1}\"\n",
    "\n",
    "    req1 = requests.get(\n",
    "        url1,\n",
    "        headers = {\n",
    "            \"User-Agent\": random_user_agent(),\n",
    "            \"X-Requested-With\": \"XMLHttpRequest\",\n",
    "            \"Accept\": \"text/html\",\n",
    "            \"Accept-Encoding\": \"gzip, deflate\",\n",
    "            \"Connection\": \"keep-alive\",\n",
    "        }\n",
    "    )\n",
    "    \n",
    "    price_1 = json.loads(req1.text)\n",
    "\n",
    "    for i in range(len(price_1['t'])):\n",
    "        price_1['t'][i] = datetime.fromtimestamp(price_1['t'][i] - 46800)\n",
    "    \n",
    "    Df_price = pd.DataFrame({\n",
    "        'Time' : price_1['t'],\n",
    "        'Opened' : price_1['o'],\n",
    "        'Closed' : price_1['c'],\n",
    "        'High' : price_1['h'],\n",
    "        'Low' : price_1['l'],\n",
    "        'Volume' : price_1['vo']\n",
    "    })\n",
    "    \n",
    "    Df_price.to_csv(f'./day_data/{tag}.csv')"
   ]
  },
  {
   "cell_type": "code",
   "execution_count": 58,
   "id": "c2e24020-ae63-4768-855f-4898f08d21ca",
   "metadata": {
    "scrolled": true,
    "tags": []
   },
   "outputs": [
    {
     "name": "stdout",
     "output_type": "stream",
     "text": [
      "https://www.investing.com/equities/apple-computer-inc-chart\n"
     ]
    }
   ],
   "source": [
    "with open(json_path, 'r') as f:\n",
    "    json_data = json.load(f)\n",
    "    \n",
    "print(json_data['AAPL']['chart_url'])"
   ]
  },
  {
   "cell_type": "code",
   "execution_count": 59,
   "id": "22f9050e-ea99-45cb-9964-1bf7c4a1d929",
   "metadata": {},
   "outputs": [],
   "source": [
    "req = requests.get(\n",
    "    json_data['AAPL']['chart_url'],\n",
    "    headers = {\n",
    "        \"User-Agent\": random_user_agent(),\n",
    "        \"X-Requested-With\": \"XMLHttpRequest\",\n",
    "        \"Accept\": \"text/html\",\n",
    "        \"Accept-Encoding\": \"gzip, deflate\",\n",
    "        \"Connection\": \"keep-alive\",\n",
    "    }\n",
    ")"
   ]
  },
  {
   "cell_type": "code",
   "execution_count": 60,
   "id": "be1c6f52-7a24-40ed-b83f-ed01ac20237e",
   "metadata": {},
   "outputs": [],
   "source": [
    "soup = BeautifulSoup(req.text, 'html.parser')\n",
    "url = soup.select_one(\"#leftColumn > div.tvChartContainer > div:nth-child(1) > iframe\").attrs[\"src\"]\n",
    "\n",
    "url_parsing = parse.urlparse(url)\n",
    "\n",
    "qs = parse.parse_qs(url_parsing.query)\n",
    "carrier = qs['carrier'][0]\n",
    "symbol = qs['pair_ID'][0]\n",
    "t = qs['time'][0]\n",
    "# t = \"1655695721\"\n",
    "\n",
    "url1 = f\"https://tvc4.investing.com/{carrier}/{t}/1/1/8/history?symbol={symbol}&resolution=D&from={start_1}&to={end_1}\"\n",
    "\n",
    "req1 = requests.get(\n",
    "    url1,\n",
    "    headers = {\n",
    "        \"User-Agent\": random_user_agent(),\n",
    "        \"X-Requested-With\": \"XMLHttpRequest\",\n",
    "        \"Accept\": \"text/html\",\n",
    "        \"Accept-Encoding\": \"gzip, deflate\",\n",
    "        \"Connection\": \"keep-alive\",\n",
    "    }\n",
    ")\n",
    "\n",
    "price_1 = json.loads(req1.text)"
   ]
  },
  {
   "cell_type": "code",
   "execution_count": 61,
   "id": "44287011-109b-44be-93f5-b15f691e9a4d",
   "metadata": {
    "scrolled": true,
    "tags": []
   },
   "outputs": [
    {
     "name": "stdout",
     "output_type": "stream",
     "text": [
      "{'t': [datetime.datetime(2017, 7, 3, 9, 0), datetime.datetime(2017, 7, 5, 9, 0), datetime.datetime(2017, 7, 6, 9, 0), datetime.datetime(2017, 7, 7, 9, 0), datetime.datetime(2017, 7, 10, 9, 0), datetime.datetime(2017, 7, 11, 9, 0), datetime.datetime(2017, 7, 12, 9, 0), datetime.datetime(2017, 7, 13, 9, 0), datetime.datetime(2017, 7, 14, 9, 0), datetime.datetime(2017, 7, 17, 9, 0), datetime.datetime(2017, 7, 18, 9, 0), datetime.datetime(2017, 7, 19, 9, 0), datetime.datetime(2017, 7, 20, 9, 0), datetime.datetime(2017, 7, 21, 9, 0), datetime.datetime(2017, 7, 24, 9, 0), datetime.datetime(2017, 7, 25, 9, 0), datetime.datetime(2017, 7, 26, 9, 0), datetime.datetime(2017, 7, 27, 9, 0), datetime.datetime(2017, 7, 28, 9, 0), datetime.datetime(2017, 7, 31, 9, 0), datetime.datetime(2017, 8, 1, 9, 0), datetime.datetime(2017, 8, 2, 9, 0), datetime.datetime(2017, 8, 3, 9, 0), datetime.datetime(2017, 8, 4, 9, 0), datetime.datetime(2017, 8, 7, 9, 0), datetime.datetime(2017, 8, 8, 9, 0), datetime.datetime(2017, 8, 9, 9, 0), datetime.datetime(2017, 8, 10, 9, 0), datetime.datetime(2017, 8, 11, 9, 0), datetime.datetime(2017, 8, 14, 9, 0), datetime.datetime(2017, 8, 15, 9, 0), datetime.datetime(2017, 8, 16, 9, 0), datetime.datetime(2017, 8, 17, 9, 0), datetime.datetime(2017, 8, 18, 9, 0), datetime.datetime(2017, 8, 21, 9, 0), datetime.datetime(2017, 8, 22, 9, 0), datetime.datetime(2017, 8, 23, 9, 0), datetime.datetime(2017, 8, 24, 9, 0), datetime.datetime(2017, 8, 25, 9, 0), datetime.datetime(2017, 8, 28, 9, 0), datetime.datetime(2017, 8, 29, 9, 0), datetime.datetime(2017, 8, 30, 9, 0), datetime.datetime(2017, 8, 31, 9, 0), datetime.datetime(2017, 9, 1, 9, 0), datetime.datetime(2017, 9, 5, 9, 0), datetime.datetime(2017, 9, 6, 9, 0), datetime.datetime(2017, 9, 7, 9, 0), datetime.datetime(2017, 9, 8, 9, 0), datetime.datetime(2017, 9, 11, 9, 0), datetime.datetime(2017, 9, 12, 9, 0), datetime.datetime(2017, 9, 13, 9, 0), datetime.datetime(2017, 9, 14, 9, 0), datetime.datetime(2017, 9, 15, 9, 0), datetime.datetime(2017, 9, 18, 9, 0), datetime.datetime(2017, 9, 19, 9, 0), datetime.datetime(2017, 9, 20, 9, 0), datetime.datetime(2017, 9, 21, 9, 0), datetime.datetime(2017, 9, 22, 9, 0), datetime.datetime(2017, 9, 25, 9, 0), datetime.datetime(2017, 9, 26, 9, 0), datetime.datetime(2017, 9, 27, 9, 0), datetime.datetime(2017, 9, 28, 9, 0), datetime.datetime(2017, 9, 29, 9, 0), datetime.datetime(2017, 10, 2, 9, 0), datetime.datetime(2017, 10, 3, 9, 0), datetime.datetime(2017, 10, 4, 9, 0), datetime.datetime(2017, 10, 5, 9, 0), datetime.datetime(2017, 10, 6, 9, 0), datetime.datetime(2017, 10, 9, 9, 0), datetime.datetime(2017, 10, 10, 9, 0), datetime.datetime(2017, 10, 11, 9, 0), datetime.datetime(2017, 10, 12, 9, 0), datetime.datetime(2017, 10, 13, 9, 0), datetime.datetime(2017, 10, 16, 9, 0), datetime.datetime(2017, 10, 17, 9, 0), datetime.datetime(2017, 10, 18, 9, 0), datetime.datetime(2017, 10, 19, 9, 0), datetime.datetime(2017, 10, 20, 9, 0), datetime.datetime(2017, 10, 23, 9, 0), datetime.datetime(2017, 10, 24, 9, 0), datetime.datetime(2017, 10, 25, 9, 0), datetime.datetime(2017, 10, 26, 9, 0), datetime.datetime(2017, 10, 27, 9, 0), datetime.datetime(2017, 10, 30, 9, 0), datetime.datetime(2017, 10, 31, 9, 0), datetime.datetime(2017, 11, 1, 9, 0), datetime.datetime(2017, 11, 2, 9, 0), datetime.datetime(2017, 11, 3, 9, 0), datetime.datetime(2017, 11, 6, 9, 0), datetime.datetime(2017, 11, 7, 9, 0), datetime.datetime(2017, 11, 8, 9, 0), datetime.datetime(2017, 11, 9, 9, 0), datetime.datetime(2017, 11, 10, 9, 0), datetime.datetime(2017, 11, 13, 9, 0), datetime.datetime(2017, 11, 14, 9, 0), datetime.datetime(2017, 11, 15, 9, 0), datetime.datetime(2017, 11, 16, 9, 0), datetime.datetime(2017, 11, 17, 9, 0), datetime.datetime(2017, 11, 20, 9, 0), datetime.datetime(2017, 11, 21, 9, 0), datetime.datetime(2017, 11, 22, 9, 0), datetime.datetime(2017, 11, 24, 9, 0), datetime.datetime(2017, 11, 27, 9, 0), datetime.datetime(2017, 11, 28, 9, 0), datetime.datetime(2017, 11, 29, 9, 0), datetime.datetime(2017, 11, 30, 9, 0), datetime.datetime(2017, 12, 1, 9, 0), datetime.datetime(2017, 12, 4, 9, 0), datetime.datetime(2017, 12, 5, 9, 0), datetime.datetime(2017, 12, 6, 9, 0), datetime.datetime(2017, 12, 7, 9, 0), datetime.datetime(2017, 12, 8, 9, 0), datetime.datetime(2017, 12, 11, 9, 0), datetime.datetime(2017, 12, 12, 9, 0), datetime.datetime(2017, 12, 13, 9, 0), datetime.datetime(2017, 12, 14, 9, 0), datetime.datetime(2017, 12, 15, 9, 0), datetime.datetime(2017, 12, 18, 9, 0), datetime.datetime(2017, 12, 19, 9, 0), datetime.datetime(2017, 12, 20, 9, 0), datetime.datetime(2017, 12, 21, 9, 0), datetime.datetime(2017, 12, 22, 9, 0), datetime.datetime(2017, 12, 26, 9, 0), datetime.datetime(2017, 12, 27, 9, 0), datetime.datetime(2017, 12, 28, 9, 0), datetime.datetime(2017, 12, 29, 9, 0), datetime.datetime(2018, 1, 2, 9, 0), datetime.datetime(2018, 1, 3, 9, 0), datetime.datetime(2018, 1, 4, 9, 0), datetime.datetime(2018, 1, 5, 9, 0), datetime.datetime(2018, 1, 8, 9, 0), datetime.datetime(2018, 1, 9, 9, 0), datetime.datetime(2018, 1, 10, 9, 0), datetime.datetime(2018, 1, 11, 9, 0), datetime.datetime(2018, 1, 12, 9, 0), datetime.datetime(2018, 1, 16, 9, 0), datetime.datetime(2018, 1, 17, 9, 0), datetime.datetime(2018, 1, 18, 9, 0), datetime.datetime(2018, 1, 19, 9, 0), datetime.datetime(2018, 1, 22, 9, 0), datetime.datetime(2018, 1, 23, 9, 0), datetime.datetime(2018, 1, 24, 9, 0), datetime.datetime(2018, 1, 25, 9, 0), datetime.datetime(2018, 1, 26, 9, 0), datetime.datetime(2018, 1, 29, 9, 0), datetime.datetime(2018, 1, 30, 9, 0), datetime.datetime(2018, 1, 31, 9, 0), datetime.datetime(2018, 2, 1, 9, 0), datetime.datetime(2018, 2, 2, 9, 0), datetime.datetime(2018, 2, 5, 9, 0), datetime.datetime(2018, 2, 6, 9, 0), datetime.datetime(2018, 2, 7, 9, 0), datetime.datetime(2018, 2, 8, 9, 0), datetime.datetime(2018, 2, 9, 9, 0), datetime.datetime(2018, 2, 12, 9, 0), datetime.datetime(2018, 2, 13, 9, 0), datetime.datetime(2018, 2, 14, 9, 0), datetime.datetime(2018, 2, 15, 9, 0), datetime.datetime(2018, 2, 16, 9, 0), datetime.datetime(2018, 2, 20, 9, 0), datetime.datetime(2018, 2, 21, 9, 0), datetime.datetime(2018, 2, 22, 9, 0), datetime.datetime(2018, 2, 23, 9, 0), datetime.datetime(2018, 2, 26, 9, 0), datetime.datetime(2018, 2, 27, 9, 0), datetime.datetime(2018, 2, 28, 9, 0), datetime.datetime(2018, 3, 1, 9, 0), datetime.datetime(2018, 3, 2, 9, 0), datetime.datetime(2018, 3, 5, 9, 0), datetime.datetime(2018, 3, 6, 9, 0), datetime.datetime(2018, 3, 7, 9, 0), datetime.datetime(2018, 3, 8, 9, 0), datetime.datetime(2018, 3, 9, 9, 0), datetime.datetime(2018, 3, 12, 9, 0), datetime.datetime(2018, 3, 13, 9, 0), datetime.datetime(2018, 3, 14, 9, 0), datetime.datetime(2018, 3, 15, 9, 0), datetime.datetime(2018, 3, 16, 9, 0), datetime.datetime(2018, 3, 19, 9, 0), datetime.datetime(2018, 3, 20, 9, 0), datetime.datetime(2018, 3, 21, 9, 0), datetime.datetime(2018, 3, 22, 9, 0), datetime.datetime(2018, 3, 23, 9, 0), datetime.datetime(2018, 3, 26, 9, 0), datetime.datetime(2018, 3, 27, 9, 0), datetime.datetime(2018, 3, 28, 9, 0), datetime.datetime(2018, 3, 29, 9, 0), datetime.datetime(2018, 4, 2, 9, 0), datetime.datetime(2018, 4, 3, 9, 0), datetime.datetime(2018, 4, 4, 9, 0), datetime.datetime(2018, 4, 5, 9, 0), datetime.datetime(2018, 4, 6, 9, 0), datetime.datetime(2018, 4, 9, 9, 0), datetime.datetime(2018, 4, 10, 9, 0), datetime.datetime(2018, 4, 11, 9, 0), datetime.datetime(2018, 4, 12, 9, 0), datetime.datetime(2018, 4, 13, 9, 0), datetime.datetime(2018, 4, 16, 9, 0), datetime.datetime(2018, 4, 17, 9, 0), datetime.datetime(2018, 4, 18, 9, 0), datetime.datetime(2018, 4, 19, 9, 0), datetime.datetime(2018, 4, 20, 9, 0), datetime.datetime(2018, 4, 23, 9, 0), datetime.datetime(2018, 4, 24, 9, 0), datetime.datetime(2018, 4, 25, 9, 0), datetime.datetime(2018, 4, 26, 9, 0), datetime.datetime(2018, 4, 27, 9, 0), datetime.datetime(2018, 4, 30, 9, 0), datetime.datetime(2018, 5, 1, 9, 0), datetime.datetime(2018, 5, 2, 9, 0), datetime.datetime(2018, 5, 3, 9, 0), datetime.datetime(2018, 5, 4, 9, 0), datetime.datetime(2018, 5, 7, 9, 0), datetime.datetime(2018, 5, 8, 9, 0), datetime.datetime(2018, 5, 9, 9, 0), datetime.datetime(2018, 5, 10, 9, 0), datetime.datetime(2018, 5, 11, 9, 0), datetime.datetime(2018, 5, 14, 9, 0), datetime.datetime(2018, 5, 15, 9, 0), datetime.datetime(2018, 5, 16, 9, 0), datetime.datetime(2018, 5, 17, 9, 0), datetime.datetime(2018, 5, 18, 9, 0), datetime.datetime(2018, 5, 21, 9, 0), datetime.datetime(2018, 5, 22, 9, 0), datetime.datetime(2018, 5, 23, 9, 0), datetime.datetime(2018, 5, 24, 9, 0), datetime.datetime(2018, 5, 25, 9, 0), datetime.datetime(2018, 5, 29, 9, 0), datetime.datetime(2018, 5, 30, 9, 0), datetime.datetime(2018, 5, 31, 9, 0), datetime.datetime(2018, 6, 1, 9, 0), datetime.datetime(2018, 6, 4, 9, 0), datetime.datetime(2018, 6, 5, 9, 0), datetime.datetime(2018, 6, 6, 9, 0), datetime.datetime(2018, 6, 7, 9, 0), datetime.datetime(2018, 6, 8, 9, 0), datetime.datetime(2018, 6, 11, 9, 0), datetime.datetime(2018, 6, 12, 9, 0), datetime.datetime(2018, 6, 13, 9, 0), datetime.datetime(2018, 6, 14, 9, 0), datetime.datetime(2018, 6, 15, 9, 0), datetime.datetime(2018, 6, 18, 9, 0), datetime.datetime(2018, 6, 19, 9, 0), datetime.datetime(2018, 6, 20, 9, 0), datetime.datetime(2018, 6, 21, 9, 0), datetime.datetime(2018, 6, 22, 9, 0), datetime.datetime(2018, 6, 25, 9, 0), datetime.datetime(2018, 6, 26, 9, 0), datetime.datetime(2018, 6, 27, 9, 0), datetime.datetime(2018, 6, 28, 9, 0), datetime.datetime(2018, 6, 29, 9, 0), datetime.datetime(2018, 7, 2, 9, 0), datetime.datetime(2018, 7, 3, 9, 0), datetime.datetime(2018, 7, 5, 9, 0), datetime.datetime(2018, 7, 6, 9, 0), datetime.datetime(2018, 7, 9, 9, 0), datetime.datetime(2018, 7, 10, 9, 0), datetime.datetime(2018, 7, 11, 9, 0), datetime.datetime(2018, 7, 12, 9, 0), datetime.datetime(2018, 7, 13, 9, 0), datetime.datetime(2018, 7, 16, 9, 0), datetime.datetime(2018, 7, 17, 9, 0), datetime.datetime(2018, 7, 18, 9, 0), datetime.datetime(2018, 7, 19, 9, 0), datetime.datetime(2018, 7, 20, 9, 0), datetime.datetime(2018, 7, 23, 9, 0), datetime.datetime(2018, 7, 24, 9, 0), datetime.datetime(2018, 7, 25, 9, 0), datetime.datetime(2018, 7, 26, 9, 0), datetime.datetime(2018, 7, 27, 9, 0), datetime.datetime(2018, 7, 30, 9, 0), datetime.datetime(2018, 7, 31, 9, 0), datetime.datetime(2018, 8, 1, 9, 0), datetime.datetime(2018, 8, 2, 9, 0), datetime.datetime(2018, 8, 3, 9, 0), datetime.datetime(2018, 8, 6, 9, 0), datetime.datetime(2018, 8, 7, 9, 0), datetime.datetime(2018, 8, 8, 9, 0), datetime.datetime(2018, 8, 9, 9, 0), datetime.datetime(2018, 8, 10, 9, 0), datetime.datetime(2018, 8, 13, 9, 0), datetime.datetime(2018, 8, 14, 9, 0), datetime.datetime(2018, 8, 15, 9, 0), datetime.datetime(2018, 8, 16, 9, 0), datetime.datetime(2018, 8, 17, 9, 0), datetime.datetime(2018, 8, 20, 9, 0), datetime.datetime(2018, 8, 21, 9, 0), datetime.datetime(2018, 8, 22, 9, 0), datetime.datetime(2018, 8, 23, 9, 0), datetime.datetime(2018, 8, 24, 9, 0), datetime.datetime(2018, 8, 27, 9, 0), datetime.datetime(2018, 8, 28, 9, 0), datetime.datetime(2018, 8, 29, 9, 0), datetime.datetime(2018, 8, 30, 9, 0), datetime.datetime(2018, 8, 31, 9, 0), datetime.datetime(2018, 9, 4, 9, 0), datetime.datetime(2018, 9, 5, 9, 0), datetime.datetime(2018, 9, 6, 9, 0), datetime.datetime(2018, 9, 7, 9, 0), datetime.datetime(2018, 9, 10, 9, 0), datetime.datetime(2018, 9, 11, 9, 0), datetime.datetime(2018, 9, 12, 9, 0), datetime.datetime(2018, 9, 13, 9, 0), datetime.datetime(2018, 9, 14, 9, 0), datetime.datetime(2018, 9, 17, 9, 0), datetime.datetime(2018, 9, 18, 9, 0), datetime.datetime(2018, 9, 19, 9, 0), datetime.datetime(2018, 9, 20, 9, 0), datetime.datetime(2018, 9, 21, 9, 0), datetime.datetime(2018, 9, 24, 9, 0), datetime.datetime(2018, 9, 25, 9, 0), datetime.datetime(2018, 9, 26, 9, 0), datetime.datetime(2018, 9, 27, 9, 0), datetime.datetime(2018, 9, 28, 9, 0), datetime.datetime(2018, 10, 1, 9, 0), datetime.datetime(2018, 10, 2, 9, 0), datetime.datetime(2018, 10, 3, 9, 0), datetime.datetime(2018, 10, 4, 9, 0), datetime.datetime(2018, 10, 5, 9, 0), datetime.datetime(2018, 10, 8, 9, 0), datetime.datetime(2018, 10, 9, 9, 0), datetime.datetime(2018, 10, 10, 9, 0), datetime.datetime(2018, 10, 11, 9, 0), datetime.datetime(2018, 10, 12, 9, 0), datetime.datetime(2018, 10, 15, 9, 0), datetime.datetime(2018, 10, 16, 9, 0), datetime.datetime(2018, 10, 17, 9, 0), datetime.datetime(2018, 10, 18, 9, 0), datetime.datetime(2018, 10, 19, 9, 0), datetime.datetime(2018, 10, 22, 9, 0), datetime.datetime(2018, 10, 23, 9, 0), datetime.datetime(2018, 10, 24, 9, 0), datetime.datetime(2018, 10, 25, 9, 0), datetime.datetime(2018, 10, 26, 9, 0), datetime.datetime(2018, 10, 29, 9, 0), datetime.datetime(2018, 10, 30, 9, 0), datetime.datetime(2018, 10, 31, 9, 0), datetime.datetime(2018, 11, 1, 9, 0), datetime.datetime(2018, 11, 2, 9, 0), datetime.datetime(2018, 11, 5, 9, 0), datetime.datetime(2018, 11, 6, 9, 0), datetime.datetime(2018, 11, 7, 9, 0), datetime.datetime(2018, 11, 8, 9, 0), datetime.datetime(2018, 11, 9, 9, 0), datetime.datetime(2018, 11, 12, 9, 0), datetime.datetime(2018, 11, 13, 9, 0), datetime.datetime(2018, 11, 14, 9, 0), datetime.datetime(2018, 11, 15, 9, 0), datetime.datetime(2018, 11, 16, 9, 0), datetime.datetime(2018, 11, 19, 9, 0), datetime.datetime(2018, 11, 20, 9, 0), datetime.datetime(2018, 11, 21, 9, 0), datetime.datetime(2018, 11, 23, 9, 0), datetime.datetime(2018, 11, 26, 9, 0), datetime.datetime(2018, 11, 27, 9, 0), datetime.datetime(2018, 11, 28, 9, 0), datetime.datetime(2018, 11, 29, 9, 0), datetime.datetime(2018, 11, 30, 9, 0), datetime.datetime(2018, 12, 3, 9, 0), datetime.datetime(2018, 12, 4, 9, 0), datetime.datetime(2018, 12, 6, 9, 0), datetime.datetime(2018, 12, 7, 9, 0), datetime.datetime(2018, 12, 10, 9, 0), datetime.datetime(2018, 12, 11, 9, 0), datetime.datetime(2018, 12, 12, 9, 0), datetime.datetime(2018, 12, 13, 9, 0), datetime.datetime(2018, 12, 14, 9, 0), datetime.datetime(2018, 12, 17, 9, 0), datetime.datetime(2018, 12, 18, 9, 0), datetime.datetime(2018, 12, 19, 9, 0), datetime.datetime(2018, 12, 20, 9, 0), datetime.datetime(2018, 12, 21, 9, 0), datetime.datetime(2018, 12, 24, 9, 0), datetime.datetime(2018, 12, 26, 9, 0), datetime.datetime(2018, 12, 27, 9, 0), datetime.datetime(2018, 12, 28, 9, 0), datetime.datetime(2018, 12, 31, 9, 0), datetime.datetime(2019, 1, 2, 9, 0), datetime.datetime(2019, 1, 3, 9, 0), datetime.datetime(2019, 1, 4, 9, 0), datetime.datetime(2019, 1, 7, 9, 0), datetime.datetime(2019, 1, 8, 9, 0), datetime.datetime(2019, 1, 9, 9, 0), datetime.datetime(2019, 1, 10, 9, 0), datetime.datetime(2019, 1, 11, 9, 0), datetime.datetime(2019, 1, 14, 9, 0), datetime.datetime(2019, 1, 15, 9, 0), datetime.datetime(2019, 1, 16, 9, 0), datetime.datetime(2019, 1, 17, 9, 0), datetime.datetime(2019, 1, 18, 9, 0), datetime.datetime(2019, 1, 22, 9, 0), datetime.datetime(2019, 1, 23, 9, 0), datetime.datetime(2019, 1, 24, 9, 0), datetime.datetime(2019, 1, 25, 9, 0), datetime.datetime(2019, 1, 28, 9, 0), datetime.datetime(2019, 1, 29, 9, 0), datetime.datetime(2019, 1, 30, 9, 0), datetime.datetime(2019, 1, 31, 9, 0), datetime.datetime(2019, 2, 1, 9, 0), datetime.datetime(2019, 2, 4, 9, 0), datetime.datetime(2019, 2, 5, 9, 0), datetime.datetime(2019, 2, 6, 9, 0), datetime.datetime(2019, 2, 7, 9, 0), datetime.datetime(2019, 2, 8, 9, 0), datetime.datetime(2019, 2, 11, 9, 0), datetime.datetime(2019, 2, 12, 9, 0), datetime.datetime(2019, 2, 13, 9, 0), datetime.datetime(2019, 2, 14, 9, 0), datetime.datetime(2019, 2, 15, 9, 0), datetime.datetime(2019, 2, 19, 9, 0), datetime.datetime(2019, 2, 20, 9, 0), datetime.datetime(2019, 2, 21, 9, 0), datetime.datetime(2019, 2, 22, 9, 0), datetime.datetime(2019, 2, 25, 9, 0), datetime.datetime(2019, 2, 26, 9, 0), datetime.datetime(2019, 2, 27, 9, 0), datetime.datetime(2019, 2, 28, 9, 0), datetime.datetime(2019, 3, 1, 9, 0), datetime.datetime(2019, 3, 4, 9, 0), datetime.datetime(2019, 3, 5, 9, 0), datetime.datetime(2019, 3, 6, 9, 0), datetime.datetime(2019, 3, 7, 9, 0), datetime.datetime(2019, 3, 8, 9, 0), datetime.datetime(2019, 3, 11, 9, 0), datetime.datetime(2019, 3, 12, 9, 0), datetime.datetime(2019, 3, 13, 9, 0), datetime.datetime(2019, 3, 14, 9, 0), datetime.datetime(2019, 3, 15, 9, 0), datetime.datetime(2019, 3, 18, 9, 0), datetime.datetime(2019, 3, 19, 9, 0), datetime.datetime(2019, 3, 20, 9, 0), datetime.datetime(2019, 3, 21, 9, 0), datetime.datetime(2019, 3, 22, 9, 0), datetime.datetime(2019, 3, 25, 9, 0), datetime.datetime(2019, 3, 26, 9, 0), datetime.datetime(2019, 3, 27, 9, 0), datetime.datetime(2019, 3, 28, 9, 0), datetime.datetime(2019, 3, 29, 9, 0), datetime.datetime(2019, 4, 1, 9, 0), datetime.datetime(2019, 4, 2, 9, 0), datetime.datetime(2019, 4, 3, 9, 0), datetime.datetime(2019, 4, 4, 9, 0), datetime.datetime(2019, 4, 5, 9, 0), datetime.datetime(2019, 4, 8, 9, 0), datetime.datetime(2019, 4, 9, 9, 0), datetime.datetime(2019, 4, 10, 9, 0), datetime.datetime(2019, 4, 11, 9, 0), datetime.datetime(2019, 4, 12, 9, 0), datetime.datetime(2019, 4, 15, 9, 0), datetime.datetime(2019, 4, 16, 9, 0), datetime.datetime(2019, 4, 17, 9, 0), datetime.datetime(2019, 4, 18, 9, 0), datetime.datetime(2019, 4, 22, 9, 0), datetime.datetime(2019, 4, 23, 9, 0), datetime.datetime(2019, 4, 24, 9, 0), datetime.datetime(2019, 4, 25, 9, 0), datetime.datetime(2019, 4, 26, 9, 0), datetime.datetime(2019, 4, 29, 9, 0), datetime.datetime(2019, 4, 30, 9, 0), datetime.datetime(2019, 5, 1, 9, 0), datetime.datetime(2019, 5, 2, 9, 0), datetime.datetime(2019, 5, 3, 9, 0), datetime.datetime(2019, 5, 6, 9, 0), datetime.datetime(2019, 5, 7, 9, 0), datetime.datetime(2019, 5, 8, 9, 0), datetime.datetime(2019, 5, 9, 9, 0), datetime.datetime(2019, 5, 10, 9, 0), datetime.datetime(2019, 5, 13, 9, 0), datetime.datetime(2019, 5, 14, 9, 0), datetime.datetime(2019, 5, 15, 9, 0), datetime.datetime(2019, 5, 16, 9, 0), datetime.datetime(2019, 5, 17, 9, 0), datetime.datetime(2019, 5, 20, 9, 0), datetime.datetime(2019, 5, 21, 9, 0), datetime.datetime(2019, 5, 22, 9, 0), datetime.datetime(2019, 5, 23, 9, 0), datetime.datetime(2019, 5, 24, 9, 0), datetime.datetime(2019, 5, 28, 9, 0), datetime.datetime(2019, 5, 29, 9, 0), datetime.datetime(2019, 5, 30, 9, 0), datetime.datetime(2019, 5, 31, 9, 0), datetime.datetime(2019, 6, 3, 9, 0), datetime.datetime(2019, 6, 4, 9, 0), datetime.datetime(2019, 6, 5, 9, 0), datetime.datetime(2019, 6, 6, 9, 0), datetime.datetime(2019, 6, 7, 9, 0), datetime.datetime(2019, 6, 10, 9, 0), datetime.datetime(2019, 6, 11, 9, 0), datetime.datetime(2019, 6, 12, 9, 0), datetime.datetime(2019, 6, 13, 9, 0), datetime.datetime(2019, 6, 14, 9, 0), datetime.datetime(2019, 6, 17, 9, 0), datetime.datetime(2019, 6, 18, 9, 0), datetime.datetime(2019, 6, 19, 9, 0), datetime.datetime(2019, 6, 20, 9, 0), datetime.datetime(2019, 6, 21, 9, 0), datetime.datetime(2019, 6, 24, 9, 0), datetime.datetime(2019, 6, 25, 9, 0), datetime.datetime(2019, 6, 26, 9, 0), datetime.datetime(2019, 6, 27, 9, 0), datetime.datetime(2019, 6, 28, 9, 0), datetime.datetime(2019, 7, 1, 9, 0), datetime.datetime(2019, 7, 2, 9, 0), datetime.datetime(2019, 7, 3, 9, 0), datetime.datetime(2019, 7, 5, 9, 0), datetime.datetime(2019, 7, 8, 9, 0), datetime.datetime(2019, 7, 9, 9, 0), datetime.datetime(2019, 7, 10, 9, 0), datetime.datetime(2019, 7, 11, 9, 0), datetime.datetime(2019, 7, 12, 9, 0), datetime.datetime(2019, 7, 15, 9, 0), datetime.datetime(2019, 7, 16, 9, 0), datetime.datetime(2019, 7, 17, 9, 0), datetime.datetime(2019, 7, 18, 9, 0), datetime.datetime(2019, 7, 19, 9, 0), datetime.datetime(2019, 7, 22, 9, 0), datetime.datetime(2019, 7, 23, 9, 0), datetime.datetime(2019, 7, 24, 9, 0), datetime.datetime(2019, 7, 25, 9, 0), datetime.datetime(2019, 7, 26, 9, 0), datetime.datetime(2019, 7, 29, 9, 0), datetime.datetime(2019, 7, 30, 9, 0), datetime.datetime(2019, 7, 31, 9, 0), datetime.datetime(2019, 8, 1, 9, 0), datetime.datetime(2019, 8, 2, 9, 0), datetime.datetime(2019, 8, 5, 9, 0), datetime.datetime(2019, 8, 6, 9, 0), datetime.datetime(2019, 8, 7, 9, 0), datetime.datetime(2019, 8, 8, 9, 0), datetime.datetime(2019, 8, 9, 9, 0), datetime.datetime(2019, 8, 12, 9, 0), datetime.datetime(2019, 8, 13, 9, 0), datetime.datetime(2019, 8, 14, 9, 0), datetime.datetime(2019, 8, 15, 9, 0), datetime.datetime(2019, 8, 16, 9, 0), datetime.datetime(2019, 8, 19, 9, 0), datetime.datetime(2019, 8, 20, 9, 0), datetime.datetime(2019, 8, 21, 9, 0), datetime.datetime(2019, 8, 22, 9, 0), datetime.datetime(2019, 8, 23, 9, 0), datetime.datetime(2019, 8, 26, 9, 0), datetime.datetime(2019, 8, 27, 9, 0), datetime.datetime(2019, 8, 28, 9, 0), datetime.datetime(2019, 8, 29, 9, 0), datetime.datetime(2019, 8, 30, 9, 0), datetime.datetime(2019, 9, 3, 9, 0), datetime.datetime(2019, 9, 4, 9, 0), datetime.datetime(2019, 9, 5, 9, 0), datetime.datetime(2019, 9, 6, 9, 0), datetime.datetime(2019, 9, 9, 9, 0), datetime.datetime(2019, 9, 10, 9, 0), datetime.datetime(2019, 9, 11, 9, 0), datetime.datetime(2019, 9, 12, 9, 0), datetime.datetime(2019, 9, 13, 9, 0), datetime.datetime(2019, 9, 16, 9, 0), datetime.datetime(2019, 9, 17, 9, 0), datetime.datetime(2019, 9, 18, 9, 0), datetime.datetime(2019, 9, 19, 9, 0), datetime.datetime(2019, 9, 20, 9, 0), datetime.datetime(2019, 9, 23, 9, 0), datetime.datetime(2019, 9, 24, 9, 0), datetime.datetime(2019, 9, 25, 9, 0), datetime.datetime(2019, 9, 26, 9, 0), datetime.datetime(2019, 9, 27, 9, 0), datetime.datetime(2019, 9, 30, 9, 0), datetime.datetime(2019, 10, 1, 9, 0), datetime.datetime(2019, 10, 2, 9, 0), datetime.datetime(2019, 10, 3, 9, 0), datetime.datetime(2019, 10, 4, 9, 0), datetime.datetime(2019, 10, 7, 9, 0), datetime.datetime(2019, 10, 8, 9, 0), datetime.datetime(2019, 10, 9, 9, 0), datetime.datetime(2019, 10, 10, 9, 0), datetime.datetime(2019, 10, 11, 9, 0), datetime.datetime(2019, 10, 14, 9, 0), datetime.datetime(2019, 10, 15, 9, 0), datetime.datetime(2019, 10, 16, 9, 0), datetime.datetime(2019, 10, 17, 9, 0), datetime.datetime(2019, 10, 18, 9, 0), datetime.datetime(2019, 10, 21, 9, 0), datetime.datetime(2019, 10, 22, 9, 0), datetime.datetime(2019, 10, 23, 9, 0), datetime.datetime(2019, 10, 24, 9, 0), datetime.datetime(2019, 10, 25, 9, 0), datetime.datetime(2019, 10, 28, 9, 0), datetime.datetime(2019, 10, 29, 9, 0), datetime.datetime(2019, 10, 30, 9, 0), datetime.datetime(2019, 10, 31, 9, 0), datetime.datetime(2019, 11, 1, 9, 0), datetime.datetime(2019, 11, 4, 9, 0), datetime.datetime(2019, 11, 5, 9, 0), datetime.datetime(2019, 11, 6, 9, 0), datetime.datetime(2019, 11, 7, 9, 0), datetime.datetime(2019, 11, 8, 9, 0), datetime.datetime(2019, 11, 11, 9, 0), datetime.datetime(2019, 11, 12, 9, 0), datetime.datetime(2019, 11, 13, 9, 0), datetime.datetime(2019, 11, 14, 9, 0), datetime.datetime(2019, 11, 15, 9, 0), datetime.datetime(2019, 11, 18, 9, 0), datetime.datetime(2019, 11, 19, 9, 0), datetime.datetime(2019, 11, 20, 9, 0), datetime.datetime(2019, 11, 21, 9, 0), datetime.datetime(2019, 11, 22, 9, 0), datetime.datetime(2019, 11, 25, 9, 0), datetime.datetime(2019, 11, 26, 9, 0), datetime.datetime(2019, 11, 27, 9, 0), datetime.datetime(2019, 11, 29, 9, 0), datetime.datetime(2019, 12, 2, 9, 0), datetime.datetime(2019, 12, 3, 9, 0), datetime.datetime(2019, 12, 4, 9, 0), datetime.datetime(2019, 12, 5, 9, 0), datetime.datetime(2019, 12, 6, 9, 0), datetime.datetime(2019, 12, 9, 9, 0), datetime.datetime(2019, 12, 10, 9, 0), datetime.datetime(2019, 12, 11, 9, 0), datetime.datetime(2019, 12, 12, 9, 0), datetime.datetime(2019, 12, 13, 9, 0), datetime.datetime(2019, 12, 16, 9, 0), datetime.datetime(2019, 12, 17, 9, 0), datetime.datetime(2019, 12, 18, 9, 0), datetime.datetime(2019, 12, 19, 9, 0), datetime.datetime(2019, 12, 20, 9, 0), datetime.datetime(2019, 12, 23, 9, 0), datetime.datetime(2019, 12, 24, 9, 0), datetime.datetime(2019, 12, 26, 9, 0), datetime.datetime(2019, 12, 27, 9, 0), datetime.datetime(2019, 12, 30, 9, 0), datetime.datetime(2019, 12, 31, 9, 0), datetime.datetime(2020, 1, 2, 9, 0), datetime.datetime(2020, 1, 3, 9, 0), datetime.datetime(2020, 1, 6, 9, 0), datetime.datetime(2020, 1, 7, 9, 0), datetime.datetime(2020, 1, 8, 9, 0), datetime.datetime(2020, 1, 9, 9, 0), datetime.datetime(2020, 1, 10, 9, 0), datetime.datetime(2020, 1, 13, 9, 0), datetime.datetime(2020, 1, 14, 9, 0), datetime.datetime(2020, 1, 15, 9, 0), datetime.datetime(2020, 1, 16, 9, 0), datetime.datetime(2020, 1, 17, 9, 0), datetime.datetime(2020, 1, 21, 9, 0), datetime.datetime(2020, 1, 22, 9, 0), datetime.datetime(2020, 1, 23, 9, 0), datetime.datetime(2020, 1, 24, 9, 0), datetime.datetime(2020, 1, 27, 9, 0), datetime.datetime(2020, 1, 28, 9, 0), datetime.datetime(2020, 1, 29, 9, 0), datetime.datetime(2020, 1, 30, 9, 0), datetime.datetime(2020, 1, 31, 9, 0), datetime.datetime(2020, 2, 3, 9, 0), datetime.datetime(2020, 2, 4, 9, 0), datetime.datetime(2020, 2, 5, 9, 0), datetime.datetime(2020, 2, 6, 9, 0), datetime.datetime(2020, 2, 7, 9, 0), datetime.datetime(2020, 2, 10, 9, 0), datetime.datetime(2020, 2, 11, 9, 0), datetime.datetime(2020, 2, 12, 9, 0), datetime.datetime(2020, 2, 13, 9, 0), datetime.datetime(2020, 2, 14, 9, 0), datetime.datetime(2020, 2, 18, 9, 0), datetime.datetime(2020, 2, 19, 9, 0), datetime.datetime(2020, 2, 20, 9, 0), datetime.datetime(2020, 2, 21, 9, 0), datetime.datetime(2020, 2, 24, 9, 0), datetime.datetime(2020, 2, 25, 9, 0), datetime.datetime(2020, 2, 26, 9, 0), datetime.datetime(2020, 2, 27, 9, 0), datetime.datetime(2020, 2, 28, 9, 0), datetime.datetime(2020, 3, 2, 9, 0), datetime.datetime(2020, 3, 3, 9, 0), datetime.datetime(2020, 3, 4, 9, 0), datetime.datetime(2020, 3, 5, 9, 0), datetime.datetime(2020, 3, 6, 9, 0), datetime.datetime(2020, 3, 9, 9, 0), datetime.datetime(2020, 3, 10, 9, 0), datetime.datetime(2020, 3, 11, 9, 0), datetime.datetime(2020, 3, 12, 9, 0), datetime.datetime(2020, 3, 13, 9, 0), datetime.datetime(2020, 3, 16, 9, 0), datetime.datetime(2020, 3, 17, 9, 0), datetime.datetime(2020, 3, 18, 9, 0), datetime.datetime(2020, 3, 19, 9, 0), datetime.datetime(2020, 3, 20, 9, 0), datetime.datetime(2020, 3, 23, 9, 0), datetime.datetime(2020, 3, 24, 9, 0), datetime.datetime(2020, 3, 25, 9, 0), datetime.datetime(2020, 3, 26, 9, 0), datetime.datetime(2020, 3, 27, 9, 0), datetime.datetime(2020, 3, 30, 9, 0), datetime.datetime(2020, 3, 31, 9, 0), datetime.datetime(2020, 4, 1, 9, 0), datetime.datetime(2020, 4, 2, 9, 0), datetime.datetime(2020, 4, 3, 9, 0), datetime.datetime(2020, 4, 6, 9, 0), datetime.datetime(2020, 4, 7, 9, 0), datetime.datetime(2020, 4, 8, 9, 0), datetime.datetime(2020, 4, 9, 9, 0), datetime.datetime(2020, 4, 13, 9, 0), datetime.datetime(2020, 4, 14, 9, 0), datetime.datetime(2020, 4, 15, 9, 0), datetime.datetime(2020, 4, 16, 9, 0), datetime.datetime(2020, 4, 17, 9, 0), datetime.datetime(2020, 4, 20, 9, 0), datetime.datetime(2020, 4, 21, 9, 0), datetime.datetime(2020, 4, 22, 9, 0), datetime.datetime(2020, 4, 23, 9, 0), datetime.datetime(2020, 4, 24, 9, 0), datetime.datetime(2020, 4, 27, 9, 0), datetime.datetime(2020, 4, 28, 9, 0), datetime.datetime(2020, 4, 29, 9, 0), datetime.datetime(2020, 4, 30, 9, 0), datetime.datetime(2020, 5, 1, 9, 0), datetime.datetime(2020, 5, 4, 9, 0), datetime.datetime(2020, 5, 5, 9, 0), datetime.datetime(2020, 5, 6, 9, 0), datetime.datetime(2020, 5, 7, 9, 0), datetime.datetime(2020, 5, 8, 9, 0), datetime.datetime(2020, 5, 11, 9, 0), datetime.datetime(2020, 5, 12, 9, 0), datetime.datetime(2020, 5, 13, 9, 0), datetime.datetime(2020, 5, 14, 9, 0), datetime.datetime(2020, 5, 15, 9, 0), datetime.datetime(2020, 5, 18, 9, 0), datetime.datetime(2020, 5, 19, 9, 0), datetime.datetime(2020, 5, 20, 9, 0), datetime.datetime(2020, 5, 21, 9, 0), datetime.datetime(2020, 5, 22, 9, 0), datetime.datetime(2020, 5, 26, 9, 0), datetime.datetime(2020, 5, 27, 9, 0), datetime.datetime(2020, 5, 28, 9, 0), datetime.datetime(2020, 5, 29, 9, 0), datetime.datetime(2020, 6, 1, 9, 0), datetime.datetime(2020, 6, 2, 9, 0), datetime.datetime(2020, 6, 3, 9, 0), datetime.datetime(2020, 6, 4, 9, 0), datetime.datetime(2020, 6, 5, 9, 0), datetime.datetime(2020, 6, 8, 9, 0), datetime.datetime(2020, 6, 9, 9, 0), datetime.datetime(2020, 6, 10, 9, 0), datetime.datetime(2020, 6, 11, 9, 0), datetime.datetime(2020, 6, 12, 9, 0), datetime.datetime(2020, 6, 15, 9, 0), datetime.datetime(2020, 6, 16, 9, 0), datetime.datetime(2020, 6, 17, 9, 0), datetime.datetime(2020, 6, 18, 9, 0), datetime.datetime(2020, 6, 19, 9, 0), datetime.datetime(2020, 6, 22, 9, 0), datetime.datetime(2020, 6, 23, 9, 0), datetime.datetime(2020, 6, 24, 9, 0), datetime.datetime(2020, 6, 25, 9, 0), datetime.datetime(2020, 6, 26, 9, 0), datetime.datetime(2020, 6, 29, 9, 0), datetime.datetime(2020, 6, 30, 9, 0), datetime.datetime(2020, 7, 1, 9, 0), datetime.datetime(2020, 7, 2, 9, 0), datetime.datetime(2020, 7, 6, 9, 0), datetime.datetime(2020, 7, 7, 9, 0), datetime.datetime(2020, 7, 8, 9, 0), datetime.datetime(2020, 7, 9, 9, 0), datetime.datetime(2020, 7, 10, 9, 0), datetime.datetime(2020, 7, 13, 9, 0), datetime.datetime(2020, 7, 14, 9, 0), datetime.datetime(2020, 7, 15, 9, 0), datetime.datetime(2020, 7, 16, 9, 0), datetime.datetime(2020, 7, 17, 9, 0), datetime.datetime(2020, 7, 20, 9, 0), datetime.datetime(2020, 7, 21, 9, 0), datetime.datetime(2020, 7, 22, 9, 0), datetime.datetime(2020, 7, 23, 9, 0), datetime.datetime(2020, 7, 24, 9, 0), datetime.datetime(2020, 7, 27, 9, 0), datetime.datetime(2020, 7, 28, 9, 0), datetime.datetime(2020, 7, 29, 9, 0), datetime.datetime(2020, 7, 30, 9, 0), datetime.datetime(2020, 7, 31, 9, 0), datetime.datetime(2020, 8, 3, 9, 0), datetime.datetime(2020, 8, 4, 9, 0), datetime.datetime(2020, 8, 5, 9, 0), datetime.datetime(2020, 8, 6, 9, 0), datetime.datetime(2020, 8, 7, 9, 0), datetime.datetime(2020, 8, 10, 9, 0), datetime.datetime(2020, 8, 11, 9, 0), datetime.datetime(2020, 8, 12, 9, 0), datetime.datetime(2020, 8, 13, 9, 0), datetime.datetime(2020, 8, 14, 9, 0), datetime.datetime(2020, 8, 17, 9, 0), datetime.datetime(2020, 8, 18, 9, 0), datetime.datetime(2020, 8, 19, 9, 0), datetime.datetime(2020, 8, 20, 9, 0), datetime.datetime(2020, 8, 21, 9, 0), datetime.datetime(2020, 8, 24, 9, 0), datetime.datetime(2020, 8, 25, 9, 0), datetime.datetime(2020, 8, 26, 9, 0), datetime.datetime(2020, 8, 27, 9, 0), datetime.datetime(2020, 8, 28, 9, 0), datetime.datetime(2020, 8, 31, 9, 0), datetime.datetime(2020, 9, 1, 9, 0), datetime.datetime(2020, 9, 2, 9, 0), datetime.datetime(2020, 9, 3, 9, 0), datetime.datetime(2020, 9, 4, 9, 0), datetime.datetime(2020, 9, 8, 9, 0), datetime.datetime(2020, 9, 9, 9, 0), datetime.datetime(2020, 9, 10, 9, 0), datetime.datetime(2020, 9, 11, 9, 0), datetime.datetime(2020, 9, 14, 9, 0), datetime.datetime(2020, 9, 15, 9, 0), datetime.datetime(2020, 9, 16, 9, 0), datetime.datetime(2020, 9, 17, 9, 0), datetime.datetime(2020, 9, 18, 9, 0), datetime.datetime(2020, 9, 21, 9, 0), datetime.datetime(2020, 9, 22, 9, 0), datetime.datetime(2020, 9, 23, 9, 0), datetime.datetime(2020, 9, 24, 9, 0), datetime.datetime(2020, 9, 25, 9, 0), datetime.datetime(2020, 9, 28, 9, 0), datetime.datetime(2020, 9, 29, 9, 0), datetime.datetime(2020, 9, 30, 9, 0), datetime.datetime(2020, 10, 1, 9, 0), datetime.datetime(2020, 10, 2, 9, 0), datetime.datetime(2020, 10, 5, 9, 0), datetime.datetime(2020, 10, 6, 9, 0), datetime.datetime(2020, 10, 7, 9, 0), datetime.datetime(2020, 10, 8, 9, 0), datetime.datetime(2020, 10, 9, 9, 0), datetime.datetime(2020, 10, 12, 9, 0), datetime.datetime(2020, 10, 13, 9, 0), datetime.datetime(2020, 10, 14, 9, 0), datetime.datetime(2020, 10, 15, 9, 0), datetime.datetime(2020, 10, 16, 9, 0), datetime.datetime(2020, 10, 19, 9, 0), datetime.datetime(2020, 10, 20, 9, 0), datetime.datetime(2020, 10, 21, 9, 0), datetime.datetime(2020, 10, 22, 9, 0), datetime.datetime(2020, 10, 23, 9, 0), datetime.datetime(2020, 10, 26, 9, 0), datetime.datetime(2020, 10, 27, 9, 0), datetime.datetime(2020, 10, 28, 9, 0), datetime.datetime(2020, 10, 29, 9, 0), datetime.datetime(2020, 10, 30, 9, 0), datetime.datetime(2020, 11, 2, 9, 0), datetime.datetime(2020, 11, 3, 9, 0), datetime.datetime(2020, 11, 4, 9, 0), datetime.datetime(2020, 11, 5, 9, 0), datetime.datetime(2020, 11, 6, 9, 0), datetime.datetime(2020, 11, 9, 9, 0), datetime.datetime(2020, 11, 10, 9, 0), datetime.datetime(2020, 11, 11, 9, 0), datetime.datetime(2020, 11, 12, 9, 0), datetime.datetime(2020, 11, 13, 9, 0), datetime.datetime(2020, 11, 16, 9, 0), datetime.datetime(2020, 11, 17, 9, 0), datetime.datetime(2020, 11, 18, 9, 0), datetime.datetime(2020, 11, 19, 9, 0), datetime.datetime(2020, 11, 20, 9, 0), datetime.datetime(2020, 11, 23, 9, 0), datetime.datetime(2020, 11, 24, 9, 0), datetime.datetime(2020, 11, 25, 9, 0), datetime.datetime(2020, 11, 27, 9, 0), datetime.datetime(2020, 11, 30, 9, 0), datetime.datetime(2020, 12, 1, 9, 0), datetime.datetime(2020, 12, 2, 9, 0), datetime.datetime(2020, 12, 3, 9, 0), datetime.datetime(2020, 12, 4, 9, 0), datetime.datetime(2020, 12, 7, 9, 0), datetime.datetime(2020, 12, 8, 9, 0), datetime.datetime(2020, 12, 9, 9, 0), datetime.datetime(2020, 12, 10, 9, 0), datetime.datetime(2020, 12, 11, 9, 0), datetime.datetime(2020, 12, 14, 9, 0), datetime.datetime(2020, 12, 15, 9, 0), datetime.datetime(2020, 12, 16, 9, 0), datetime.datetime(2020, 12, 17, 9, 0), datetime.datetime(2020, 12, 18, 9, 0), datetime.datetime(2020, 12, 21, 9, 0), datetime.datetime(2020, 12, 22, 9, 0), datetime.datetime(2020, 12, 23, 9, 0), datetime.datetime(2020, 12, 24, 9, 0), datetime.datetime(2020, 12, 28, 9, 0), datetime.datetime(2020, 12, 29, 9, 0), datetime.datetime(2020, 12, 30, 9, 0), datetime.datetime(2020, 12, 31, 9, 0), datetime.datetime(2021, 1, 4, 9, 0), datetime.datetime(2021, 1, 5, 9, 0), datetime.datetime(2021, 1, 6, 9, 0), datetime.datetime(2021, 1, 7, 9, 0), datetime.datetime(2021, 1, 8, 9, 0), datetime.datetime(2021, 1, 11, 9, 0), datetime.datetime(2021, 1, 12, 9, 0), datetime.datetime(2021, 1, 13, 9, 0), datetime.datetime(2021, 1, 14, 9, 0), datetime.datetime(2021, 1, 15, 9, 0), datetime.datetime(2021, 1, 19, 9, 0), datetime.datetime(2021, 1, 20, 9, 0), datetime.datetime(2021, 1, 21, 9, 0), datetime.datetime(2021, 1, 22, 9, 0), datetime.datetime(2021, 1, 25, 9, 0), datetime.datetime(2021, 1, 26, 9, 0), datetime.datetime(2021, 1, 27, 9, 0), datetime.datetime(2021, 1, 28, 9, 0), datetime.datetime(2021, 1, 29, 9, 0), datetime.datetime(2021, 2, 1, 9, 0), datetime.datetime(2021, 2, 2, 9, 0), datetime.datetime(2021, 2, 3, 9, 0), datetime.datetime(2021, 2, 4, 9, 0), datetime.datetime(2021, 2, 5, 9, 0), datetime.datetime(2021, 2, 8, 9, 0), datetime.datetime(2021, 2, 9, 9, 0), datetime.datetime(2021, 2, 10, 9, 0), datetime.datetime(2021, 2, 11, 9, 0), datetime.datetime(2021, 2, 12, 9, 0), datetime.datetime(2021, 2, 16, 9, 0), datetime.datetime(2021, 2, 17, 9, 0), datetime.datetime(2021, 2, 18, 9, 0), datetime.datetime(2021, 2, 19, 9, 0), datetime.datetime(2021, 2, 22, 9, 0), datetime.datetime(2021, 2, 23, 9, 0), datetime.datetime(2021, 2, 24, 9, 0), datetime.datetime(2021, 2, 25, 9, 0), datetime.datetime(2021, 2, 26, 9, 0), datetime.datetime(2021, 3, 1, 9, 0), datetime.datetime(2021, 3, 2, 9, 0), datetime.datetime(2021, 3, 3, 9, 0), datetime.datetime(2021, 3, 4, 9, 0), datetime.datetime(2021, 3, 5, 9, 0), datetime.datetime(2021, 3, 8, 9, 0), datetime.datetime(2021, 3, 9, 9, 0), datetime.datetime(2021, 3, 10, 9, 0), datetime.datetime(2021, 3, 11, 9, 0), datetime.datetime(2021, 3, 12, 9, 0), datetime.datetime(2021, 3, 15, 9, 0), datetime.datetime(2021, 3, 16, 9, 0), datetime.datetime(2021, 3, 17, 9, 0), datetime.datetime(2021, 3, 18, 9, 0), datetime.datetime(2021, 3, 19, 9, 0), datetime.datetime(2021, 3, 22, 9, 0), datetime.datetime(2021, 3, 23, 9, 0), datetime.datetime(2021, 3, 24, 9, 0), datetime.datetime(2021, 3, 25, 9, 0), datetime.datetime(2021, 3, 26, 9, 0), datetime.datetime(2021, 3, 29, 9, 0), datetime.datetime(2021, 3, 30, 9, 0), datetime.datetime(2021, 3, 31, 9, 0), datetime.datetime(2021, 4, 1, 9, 0), datetime.datetime(2021, 4, 5, 9, 0), datetime.datetime(2021, 4, 6, 9, 0), datetime.datetime(2021, 4, 7, 9, 0), datetime.datetime(2021, 4, 8, 9, 0), datetime.datetime(2021, 4, 9, 9, 0), datetime.datetime(2021, 4, 12, 9, 0), datetime.datetime(2021, 4, 13, 9, 0), datetime.datetime(2021, 4, 14, 9, 0), datetime.datetime(2021, 4, 15, 9, 0), datetime.datetime(2021, 4, 16, 9, 0), datetime.datetime(2021, 4, 19, 9, 0), datetime.datetime(2021, 4, 20, 9, 0), datetime.datetime(2021, 4, 21, 9, 0), datetime.datetime(2021, 4, 22, 9, 0), datetime.datetime(2021, 4, 23, 9, 0), datetime.datetime(2021, 4, 26, 9, 0), datetime.datetime(2021, 4, 27, 9, 0), datetime.datetime(2021, 4, 28, 9, 0), datetime.datetime(2021, 4, 29, 9, 0), datetime.datetime(2021, 4, 30, 9, 0), datetime.datetime(2021, 5, 3, 9, 0), datetime.datetime(2021, 5, 4, 9, 0), datetime.datetime(2021, 5, 5, 9, 0), datetime.datetime(2021, 5, 6, 9, 0), datetime.datetime(2021, 5, 7, 9, 0), datetime.datetime(2021, 5, 10, 9, 0), datetime.datetime(2021, 5, 11, 9, 0), datetime.datetime(2021, 5, 12, 9, 0), datetime.datetime(2021, 5, 13, 9, 0), datetime.datetime(2021, 5, 14, 9, 0), datetime.datetime(2021, 5, 17, 9, 0), datetime.datetime(2021, 5, 18, 9, 0), datetime.datetime(2021, 5, 19, 9, 0), datetime.datetime(2021, 5, 20, 9, 0), datetime.datetime(2021, 5, 21, 9, 0), datetime.datetime(2021, 5, 24, 9, 0), datetime.datetime(2021, 5, 25, 9, 0), datetime.datetime(2021, 5, 26, 9, 0), datetime.datetime(2021, 5, 27, 9, 0), datetime.datetime(2021, 5, 28, 9, 0), datetime.datetime(2021, 6, 1, 9, 0), datetime.datetime(2021, 6, 2, 9, 0), datetime.datetime(2021, 6, 3, 9, 0), datetime.datetime(2021, 6, 4, 9, 0), datetime.datetime(2021, 6, 7, 9, 0), datetime.datetime(2021, 6, 8, 9, 0), datetime.datetime(2021, 6, 9, 9, 0), datetime.datetime(2021, 6, 10, 9, 0), datetime.datetime(2021, 6, 11, 9, 0), datetime.datetime(2021, 6, 14, 9, 0), datetime.datetime(2021, 6, 15, 9, 0), datetime.datetime(2021, 6, 16, 9, 0), datetime.datetime(2021, 6, 17, 9, 0), datetime.datetime(2021, 6, 18, 9, 0), datetime.datetime(2021, 6, 21, 9, 0), datetime.datetime(2021, 6, 22, 9, 0), datetime.datetime(2021, 6, 23, 9, 0), datetime.datetime(2021, 6, 24, 9, 0), datetime.datetime(2021, 6, 25, 9, 0), datetime.datetime(2021, 6, 28, 9, 0), datetime.datetime(2021, 6, 29, 9, 0), datetime.datetime(2021, 6, 30, 9, 0), datetime.datetime(2021, 7, 1, 9, 0), datetime.datetime(2021, 7, 2, 9, 0), datetime.datetime(2021, 7, 6, 9, 0), datetime.datetime(2021, 7, 7, 9, 0), datetime.datetime(2021, 7, 8, 9, 0), datetime.datetime(2021, 7, 9, 9, 0), datetime.datetime(2021, 7, 12, 9, 0), datetime.datetime(2021, 7, 13, 9, 0), datetime.datetime(2021, 7, 14, 9, 0), datetime.datetime(2021, 7, 15, 9, 0), datetime.datetime(2021, 7, 16, 9, 0), datetime.datetime(2021, 7, 19, 9, 0), datetime.datetime(2021, 7, 20, 9, 0), datetime.datetime(2021, 7, 21, 9, 0), datetime.datetime(2021, 7, 22, 9, 0), datetime.datetime(2021, 7, 23, 9, 0), datetime.datetime(2021, 7, 26, 9, 0), datetime.datetime(2021, 7, 27, 9, 0), datetime.datetime(2021, 7, 28, 9, 0), datetime.datetime(2021, 7, 29, 9, 0), datetime.datetime(2021, 7, 30, 9, 0), datetime.datetime(2021, 8, 2, 9, 0), datetime.datetime(2021, 8, 3, 9, 0), datetime.datetime(2021, 8, 4, 9, 0), datetime.datetime(2021, 8, 5, 9, 0), datetime.datetime(2021, 8, 6, 9, 0), datetime.datetime(2021, 8, 9, 9, 0), datetime.datetime(2021, 8, 10, 9, 0), datetime.datetime(2021, 8, 11, 9, 0), datetime.datetime(2021, 8, 12, 9, 0), datetime.datetime(2021, 8, 13, 9, 0), datetime.datetime(2021, 8, 16, 9, 0), datetime.datetime(2021, 8, 17, 9, 0), datetime.datetime(2021, 8, 18, 9, 0), datetime.datetime(2021, 8, 19, 9, 0), datetime.datetime(2021, 8, 20, 9, 0), datetime.datetime(2021, 8, 23, 9, 0), datetime.datetime(2021, 8, 24, 9, 0), datetime.datetime(2021, 8, 25, 9, 0), datetime.datetime(2021, 8, 26, 9, 0), datetime.datetime(2021, 8, 27, 9, 0), datetime.datetime(2021, 8, 30, 9, 0), datetime.datetime(2021, 8, 31, 9, 0), datetime.datetime(2021, 9, 1, 9, 0), datetime.datetime(2021, 9, 2, 9, 0), datetime.datetime(2021, 9, 3, 9, 0), datetime.datetime(2021, 9, 7, 9, 0), datetime.datetime(2021, 9, 8, 9, 0), datetime.datetime(2021, 9, 9, 9, 0), datetime.datetime(2021, 9, 10, 9, 0), datetime.datetime(2021, 9, 13, 9, 0), datetime.datetime(2021, 9, 14, 9, 0), datetime.datetime(2021, 9, 15, 9, 0), datetime.datetime(2021, 9, 16, 9, 0), datetime.datetime(2021, 9, 17, 9, 0), datetime.datetime(2021, 9, 20, 9, 0), datetime.datetime(2021, 9, 21, 9, 0), datetime.datetime(2021, 9, 22, 9, 0), datetime.datetime(2021, 9, 23, 9, 0), datetime.datetime(2021, 9, 24, 9, 0), datetime.datetime(2021, 9, 27, 9, 0), datetime.datetime(2021, 9, 28, 9, 0), datetime.datetime(2021, 9, 29, 9, 0), datetime.datetime(2021, 9, 30, 9, 0), datetime.datetime(2021, 10, 1, 9, 0), datetime.datetime(2021, 10, 4, 9, 0), datetime.datetime(2021, 10, 5, 9, 0), datetime.datetime(2021, 10, 6, 9, 0), datetime.datetime(2021, 10, 7, 9, 0), datetime.datetime(2021, 10, 8, 9, 0), datetime.datetime(2021, 10, 11, 9, 0), datetime.datetime(2021, 10, 12, 9, 0), datetime.datetime(2021, 10, 13, 9, 0), datetime.datetime(2021, 10, 14, 9, 0), datetime.datetime(2021, 10, 15, 9, 0), datetime.datetime(2021, 10, 18, 9, 0), datetime.datetime(2021, 10, 19, 9, 0), datetime.datetime(2021, 10, 20, 9, 0), datetime.datetime(2021, 10, 21, 9, 0), datetime.datetime(2021, 10, 22, 9, 0), datetime.datetime(2021, 10, 25, 9, 0), datetime.datetime(2021, 10, 26, 9, 0), datetime.datetime(2021, 10, 27, 9, 0), datetime.datetime(2021, 10, 28, 9, 0), datetime.datetime(2021, 10, 29, 9, 0), datetime.datetime(2021, 11, 1, 9, 0), datetime.datetime(2021, 11, 2, 9, 0), datetime.datetime(2021, 11, 3, 9, 0), datetime.datetime(2021, 11, 4, 9, 0), datetime.datetime(2021, 11, 5, 9, 0), datetime.datetime(2021, 11, 8, 9, 0), datetime.datetime(2021, 11, 9, 9, 0), datetime.datetime(2021, 11, 10, 9, 0), datetime.datetime(2021, 11, 11, 9, 0), datetime.datetime(2021, 11, 12, 9, 0), datetime.datetime(2021, 11, 15, 9, 0), datetime.datetime(2021, 11, 16, 9, 0), datetime.datetime(2021, 11, 17, 9, 0), datetime.datetime(2021, 11, 18, 9, 0), datetime.datetime(2021, 11, 19, 9, 0), datetime.datetime(2021, 11, 22, 9, 0), datetime.datetime(2021, 11, 23, 9, 0), datetime.datetime(2021, 11, 24, 9, 0), datetime.datetime(2021, 11, 26, 9, 0), datetime.datetime(2021, 11, 29, 9, 0), datetime.datetime(2021, 11, 30, 9, 0), datetime.datetime(2021, 12, 1, 9, 0), datetime.datetime(2021, 12, 2, 9, 0), datetime.datetime(2021, 12, 3, 9, 0), datetime.datetime(2021, 12, 6, 9, 0), datetime.datetime(2021, 12, 7, 9, 0), datetime.datetime(2021, 12, 8, 9, 0), datetime.datetime(2021, 12, 9, 9, 0), datetime.datetime(2021, 12, 10, 9, 0), datetime.datetime(2021, 12, 13, 9, 0), datetime.datetime(2021, 12, 14, 9, 0), datetime.datetime(2021, 12, 15, 9, 0), datetime.datetime(2021, 12, 16, 9, 0), datetime.datetime(2021, 12, 17, 9, 0), datetime.datetime(2021, 12, 20, 9, 0), datetime.datetime(2021, 12, 21, 9, 0), datetime.datetime(2021, 12, 22, 9, 0), datetime.datetime(2021, 12, 23, 9, 0), datetime.datetime(2021, 12, 27, 9, 0), datetime.datetime(2021, 12, 28, 9, 0), datetime.datetime(2021, 12, 29, 9, 0), datetime.datetime(2021, 12, 30, 9, 0), datetime.datetime(2021, 12, 31, 9, 0), datetime.datetime(2022, 1, 3, 9, 0), datetime.datetime(2022, 1, 4, 9, 0), datetime.datetime(2022, 1, 5, 9, 0), datetime.datetime(2022, 1, 6, 9, 0), datetime.datetime(2022, 1, 7, 9, 0), datetime.datetime(2022, 1, 10, 9, 0), datetime.datetime(2022, 1, 11, 9, 0), datetime.datetime(2022, 1, 12, 9, 0), datetime.datetime(2022, 1, 13, 9, 0), datetime.datetime(2022, 1, 14, 9, 0), datetime.datetime(2022, 1, 18, 9, 0), datetime.datetime(2022, 1, 19, 9, 0), datetime.datetime(2022, 1, 20, 9, 0), datetime.datetime(2022, 1, 21, 9, 0), datetime.datetime(2022, 1, 24, 9, 0), datetime.datetime(2022, 1, 25, 9, 0), datetime.datetime(2022, 1, 26, 9, 0), datetime.datetime(2022, 1, 27, 9, 0), datetime.datetime(2022, 1, 28, 9, 0), datetime.datetime(2022, 1, 31, 9, 0), datetime.datetime(2022, 2, 1, 9, 0), datetime.datetime(2022, 2, 2, 9, 0), datetime.datetime(2022, 2, 3, 9, 0), datetime.datetime(2022, 2, 4, 9, 0), datetime.datetime(2022, 2, 7, 9, 0), datetime.datetime(2022, 2, 8, 9, 0), datetime.datetime(2022, 2, 9, 9, 0), datetime.datetime(2022, 2, 10, 9, 0), datetime.datetime(2022, 2, 11, 9, 0), datetime.datetime(2022, 2, 14, 9, 0), datetime.datetime(2022, 2, 15, 9, 0), datetime.datetime(2022, 2, 16, 9, 0), datetime.datetime(2022, 2, 17, 9, 0), datetime.datetime(2022, 2, 18, 9, 0), datetime.datetime(2022, 2, 22, 9, 0), datetime.datetime(2022, 2, 23, 9, 0), datetime.datetime(2022, 2, 24, 9, 0), datetime.datetime(2022, 2, 25, 9, 0), datetime.datetime(2022, 2, 28, 9, 0), datetime.datetime(2022, 3, 1, 9, 0), datetime.datetime(2022, 3, 2, 9, 0), datetime.datetime(2022, 3, 3, 9, 0), datetime.datetime(2022, 3, 4, 9, 0), datetime.datetime(2022, 3, 7, 9, 0), datetime.datetime(2022, 3, 8, 9, 0), datetime.datetime(2022, 3, 9, 9, 0), datetime.datetime(2022, 3, 10, 9, 0), datetime.datetime(2022, 3, 11, 9, 0), datetime.datetime(2022, 3, 14, 9, 0), datetime.datetime(2022, 3, 15, 9, 0), datetime.datetime(2022, 3, 16, 9, 0), datetime.datetime(2022, 3, 17, 9, 0), datetime.datetime(2022, 3, 18, 9, 0), datetime.datetime(2022, 3, 21, 9, 0), datetime.datetime(2022, 3, 22, 9, 0), datetime.datetime(2022, 3, 23, 9, 0), datetime.datetime(2022, 3, 24, 9, 0), datetime.datetime(2022, 3, 25, 9, 0), datetime.datetime(2022, 3, 28, 9, 0), datetime.datetime(2022, 3, 29, 9, 0), datetime.datetime(2022, 3, 30, 9, 0), datetime.datetime(2022, 3, 31, 9, 0), datetime.datetime(2022, 4, 1, 9, 0), datetime.datetime(2022, 4, 4, 9, 0), datetime.datetime(2022, 4, 5, 9, 0), datetime.datetime(2022, 4, 6, 9, 0), datetime.datetime(2022, 4, 7, 9, 0), datetime.datetime(2022, 4, 8, 9, 0), datetime.datetime(2022, 4, 11, 9, 0), datetime.datetime(2022, 4, 12, 9, 0), datetime.datetime(2022, 4, 13, 9, 0), datetime.datetime(2022, 4, 14, 9, 0), datetime.datetime(2022, 4, 18, 9, 0), datetime.datetime(2022, 4, 19, 9, 0), datetime.datetime(2022, 4, 20, 9, 0), datetime.datetime(2022, 4, 21, 9, 0), datetime.datetime(2022, 4, 22, 9, 0), datetime.datetime(2022, 4, 25, 9, 0), datetime.datetime(2022, 4, 26, 9, 0), datetime.datetime(2022, 4, 27, 9, 0), datetime.datetime(2022, 4, 28, 9, 0), datetime.datetime(2022, 4, 29, 9, 0), datetime.datetime(2022, 5, 2, 9, 0), datetime.datetime(2022, 5, 3, 9, 0), datetime.datetime(2022, 5, 4, 9, 0), datetime.datetime(2022, 5, 5, 9, 0), datetime.datetime(2022, 5, 6, 9, 0), datetime.datetime(2022, 5, 9, 9, 0), datetime.datetime(2022, 5, 10, 9, 0), datetime.datetime(2022, 5, 11, 9, 0), datetime.datetime(2022, 5, 12, 9, 0), datetime.datetime(2022, 5, 13, 9, 0), datetime.datetime(2022, 5, 16, 9, 0), datetime.datetime(2022, 5, 17, 9, 0), datetime.datetime(2022, 5, 18, 9, 0), datetime.datetime(2022, 5, 19, 9, 0), datetime.datetime(2022, 5, 20, 9, 0), datetime.datetime(2022, 5, 23, 9, 0), datetime.datetime(2022, 5, 24, 9, 0), datetime.datetime(2022, 5, 25, 9, 0), datetime.datetime(2022, 5, 26, 9, 0), datetime.datetime(2022, 5, 27, 9, 0), datetime.datetime(2022, 5, 31, 9, 0), datetime.datetime(2022, 6, 1, 9, 0), datetime.datetime(2022, 6, 2, 9, 0), datetime.datetime(2022, 6, 3, 9, 0), datetime.datetime(2022, 6, 6, 9, 0), datetime.datetime(2022, 6, 7, 9, 0), datetime.datetime(2022, 6, 8, 9, 0), datetime.datetime(2022, 6, 9, 9, 0), datetime.datetime(2022, 6, 10, 9, 0)], 'c': [35.880001068115, 36.020000457764, 35.680000305176, 36.049999237061, 36.270000457764, 36.380001068115, 36.439998626709, 36.939998626709, 37.259998321533, 37.389999389648, 37.520000457764, 37.759998321533, 37.590000152588, 37.569999694824, 38.020000457764, 38.189998626709, 38.369998931885, 37.639999389648, 37.380001068115, 37.180000305176, 37.509998321533, 39.279998779297, 38.889999389648, 39.099998474121, 39.700000762939, 40.020000457764, 40.270000457764, 38.830001831055, 39.369998931885, 39.959999084473, 40.400001525879, 40.240001678467, 39.470001220703, 39.380001068115, 39.299999237061, 39.950000762939, 39.990001678467, 39.819999694824, 39.970001220703, 40.369998931885, 40.729999542236, 40.840000152588, 41, 41.009998321533, 40.520000457764, 40.479999542236, 40.310001373291, 39.659999847412, 40.380001068115, 40.220001220703, 39.909999847412, 39.569999694824, 39.970001220703, 39.669998168945, 39.680000305176, 39.020000457764, 38.349998474121, 37.970001220703, 37.639999389648, 38.279998779297, 38.560001373291, 38.319999694824, 38.529998779297, 38.450000762939, 38.619998931885, 38.369998931885, 38.849998474121, 38.830001831055, 38.959999084473, 38.979999542236, 39.139999389648, 39, 39.25, 39.970001220703, 40.119998931885, 39.939998626709, 38.990001678467, 39.060001373291, 39.040000915527, 39.270000457764, 39.099998474121, 39.349998474121, 40.759998321533, 41.680000305176, 42.259998321533, 41.720001220703, 42.029998779297, 43.119998931885, 43.560001373291, 43.700000762939, 44.060001373291, 43.970001220703, 43.669998168945, 43.490001678467, 42.840000152588, 42.270000457764, 42.770000457764, 42.540000915527, 42.490001678467, 43.279998779297, 43.740001678467, 43.740001678467, 43.520000457764, 43.270000457764, 42.369998931885, 42.959999084473, 42.759998321533, 42.450000762939, 42.409999847412, 42.25, 42.330001831055, 42.340000152588, 43.169998168945, 42.919998168945, 43.069999694824, 43.049999237061, 43.490001678467, 44.099998474121, 43.630001068115, 43.590000152588, 43.75, 43.75, 42.639999389648, 42.650001525879, 42.770000457764, 42.310001373291, 43.060001373291, 43.060001373291, 43.259998321533, 43.75, 43.590000152588, 43.580001831055, 43.569999694824, 43.819999694824, 44.270000457764, 44.049999237061, 44.770000457764, 44.810001373291, 44.619998931885, 44.25, 44.259998321533, 43.549999237061, 42.779998779297, 42.880001068115, 41.990001678467, 41.740001678467, 41.860000610352, 41.950000762939, 40.119998931885, 39.119998931885, 40.759998321533, 39.880001068115, 38.790000915527, 39.099998474121, 40.680000305176, 41.090000152588, 41.840000152588, 43.25, 43.110000610352, 42.959999084473, 42.770000457764, 43.119998931885, 43.880001068115, 44.740001678467, 44.599998474121, 44.529998779297, 43.75, 44.049999237061, 44.200000762939, 44.169998168945, 43.759998321533, 44.229999542236, 44.990001678467, 45.430000305176, 44.990001678467, 44.610000610352, 44.659999847412, 44.509998321533, 43.830001831055, 43.810001373291, 42.819999694824, 42.209999084473, 41.229999542236, 43.189998626709, 42.090000152588, 41.619998931885, 41.950000762939, 41.669998168945, 42.099998474121, 42.900001525879, 43.200000762939, 42.090000152588, 42.509998321533, 43.310001373291, 43.110000610352, 43.529998779297, 43.680000305176, 43.950000762939, 44.560001373291, 44.459999084473, 43.200000762939, 41.430000305176, 41.310001373291, 40.729999542236, 40.909999847412, 41.049999237061, 40.580001831055, 41.310001373291, 42.270000457764, 44.139999389648, 44.220001220703, 45.959999084473, 46.290000915527, 46.509998321533, 46.840000152588, 47.509998321533, 47.150001525879, 47.040000915527, 46.610000610352, 47.049999237061, 46.75, 46.580001831055, 46.909999847412, 46.790000915527, 47.090000152588, 47.040000915527, 47.150001525879, 46.979999542236, 46.880001068115, 46.720001220703, 47.560001373291, 47.959999084473, 48.330001831055, 48.490001678467, 48.369998931885, 47.919998168945, 47.810001373291, 48.069999694824, 47.669998168945, 47.700000762939, 47.209999084473, 47.189998626709, 46.419998168945, 46.619998931885, 46.369998931885, 46.229999542236, 45.540000915527, 46.110000610352, 46.040000915527, 46.380001068115, 46.279998779297, 46.799999237061, 45.979999542236, 46.349998474121, 46.990001678467, 47.650001525879, 47.590000152588, 46.970001220703, 47.759998321533, 47.830001831055, 47.729999542236, 47.860000610352, 47.599998474121, 47.970001220703, 47.860000610352, 47.900001525879, 48.25, 48.700000762939, 48.549999237061, 47.740001678467, 47.479999542236, 47.569999694824, 50.380001068115, 51.849998474121, 52, 52.270000457764, 51.779998779297, 51.810001373291, 52.220001220703, 51.880001068115, 52.220001220703, 52.439998626709, 52.560001373291, 53.330001831055, 54.400001525879, 53.869998931885, 53.759998321533, 53.759998321533, 53.869998931885, 54.040000915527, 54.479999542236, 54.919998168945, 55.740001678467, 56.259998321533, 56.909999847412, 57.090000152588, 56.720001220703, 55.770000457764, 55.330001831055, 54.580001831055, 55.959999084473, 55.270000457764, 56.599998474121, 55.959999084473, 54.470001220703, 54.560001373291, 54.590000152588, 55.009998321533, 54.409999847412, 55.200000762939, 55.549999237061, 55.099998474121, 56.240001678467, 56.439998626709, 56.810001373291, 57.319999694824, 58.020000457764, 57, 56.069999694824, 55.939998626709, 56.720001220703, 54.090000152588, 53.610000610352, 55.529998779297, 54.340000152588, 55.540000915527, 55.299999237061, 54.009998321533, 54.830001831055, 55.159999847412, 55.680000305176, 53.770000457764, 54.950000762939, 54.080001831055, 53.060001373291, 53.330001831055, 54.720001220703, 55.549999237061, 51.869998931885, 50.400001525879, 50.939998626709, 52.490001678467, 52.119998931885, 51.119998931885, 48.540000915527, 48.060001373291, 46.700000762939, 47.849998474121, 48.380001068115, 46.470001220703, 44.240001678467, 44.200000762939, 43.069999694824, 43.659999847412, 43.560001373291, 45.229999542236, 44.889999389648, 44.650001525879, 46.200000762939, 44.169998168945, 43.680000305176, 42.119998931885, 42.400001525879, 42.159999847412, 42.270000457764, 42.740001678467, 41.369998931885, 40.979999542236, 41.520000457764, 40.220001220703, 39.209999084473, 37.680000305176, 36.709999084473, 39.290000915527, 39.040000915527, 39.060001373291, 39.439998626709, 39.479999542236, 35.549999237061, 37.060001373291, 36.979999542236, 37.689998626709, 38.330001831055, 38.450000762939, 38.069999694824, 37.5, 38.270000457764, 38.729999542236, 38.970001220703, 39.200000762939, 38.330001831055, 38.479999542236, 38.169998168945, 39.439998626709, 39.080001831055, 38.669998168945, 41.310001373291, 41.610000610352, 41.630001068115, 42.810001373291, 43.549999237061, 43.560001373291, 42.729999542236, 42.599998474121, 42.360000610352, 42.720001220703, 42.549999237061, 42.700000762939, 42.599998474121, 42.729999542236, 43.009998321533, 42.770000457764, 43.240001678467, 43.560001373291, 43.580001831055, 43.720001220703, 43.290000915527, 43.740001678467, 43.959999084473, 43.880001068115, 43.630001068115, 43.119998931885, 43.229999542236, 44.729999542236, 45.229999542236, 45.430000305176, 45.930000305176, 46.529998779297, 47.009998321533, 46.630001068115, 47.040000915527, 48.770000457764, 47.759998321533, 47.189998626709, 46.700000762939, 47.119998931885, 47.180000305176, 47.490001678467, 47.810001373291, 48.509998321533, 48.840000152588, 48.919998168945, 49.25, 50.020000457764, 49.880001068115, 50.159999847412, 49.740001678467, 49.720001220703, 49.810001373291, 49.810001373291, 50.779998779297, 50.970001220703, 51.130001068115, 51.869998931885, 51.790000915527, 51.319999694824, 51.080001831055, 51.150001525879, 50.169998168945, 52.630001068115, 52.290000915527, 52.939998626709, 52.119998931885, 50.720001220703, 50.729999542236, 50.180000305176, 49.299999237061, 46.430000305176, 47.159999847412, 47.729999542236, 47.520000457764, 47.25, 45.770000457764, 46.650001525879, 45.700000762939, 44.909999847412, 44.740001678467, 44.560001373291, 44.340000152588, 44.580001831055, 43.770000457764, 43.330001831055, 44.909999847412, 45.630001068115, 46.299999237061, 47.540000915527, 48.150001525879, 48.700000762939, 48.549999237061, 48.540000915527, 48.189998626709, 48.470001220703, 49.610000610352, 49.470001220703, 49.869998931885, 49.700000762939, 49.650001525879, 48.889999389648, 49.950000762939, 49.939998626709, 49.479999542236, 50.389999389648, 50.680000305176, 51.099998474121, 51.060001373291, 50.009998321533, 50.310001373291, 50.810001373291, 50.439998626709, 50.830001831055, 51.299999237061, 51.119998931885, 50.840000152588, 51.409999847412, 50.650001525879, 51.799999237061, 52.209999084473, 52.169998168945, 51.759998321533, 51.939998626709, 52.419998168945, 52.200000762939, 53.259998321533, 52.110000610352, 51.009998321533, 48.340000152588, 49.25, 49.759998321533, 50.860000610352, 50.25, 50.119998931885, 52.240001678467, 50.689998626709, 50.439998626709, 51.619998931885, 52.590000152588, 52.590000152588, 53.159999847412, 53.119998931885, 50.659999847412, 51.619998931885, 51.040000915527, 51.380001068115, 52.25, 52.189998626709, 51.419998168945, 52.299999237061, 53.319999694824, 53.310001373291, 53.540000915527, 54.169998168945, 55.900001525879, 55.770000457764, 54.689998626709, 54.979999542236, 55.169998168945, 55.689998626709, 55.240001678467, 54.430000305176, 54.680000305176, 54.419998168945, 55.259998321533, 54.970001220703, 54.700000762939, 55.990001678467, 56.150001525879, 54.740001678467, 55.200000762939, 56.75, 56.770000457764, 56.099998474121, 56.759998321533, 57.520000457764, 59.049999237061, 58.970001220703, 58.830001831055, 58.590000152588, 58.819999694824, 59.099998474121, 60.130001068115, 59.990001678467, 60.799999237061, 60.900001525879, 61.650001525879, 62.259998321533, 60.819999694824, 60.810001373291, 62.189998626709, 63.950000762939, 64.379997253418, 64.279998779297, 64.309997558594, 64.860000610352, 65.029998779297, 65.550003051758, 65.48999786377, 66.120002746582, 65.660003662109, 66.440002441406, 66.779998779297, 66.569999694824, 65.800003051758, 65.5, 65.440002441406, 66.589996337891, 66.069999694824, 66.959999084473, 66.809997558594, 66.040000915527, 64.860000610352, 65.440002441406, 66.389999389648, 67.680000305176, 66.730003356934, 67.120002746582, 67.690002441406, 67.860000610352, 68.790000915527, 69.970001220703, 70.099998474121, 69.940002441406, 70, 69.860000610352, 71, 71.069999694824, 72.480003356934, 72.449996948242, 72.879997253418, 73.410003662109, 75.089996337891, 74.360000610352, 74.949996948242, 74.599998474121, 75.800003051758, 77.410003662109, 77.580001831055, 79.23999786377, 78.169998168945, 77.830001831055, 78.809997558594, 79.680000305176, 79.139999389648, 79.419998168945, 79.809997558594, 79.580001831055, 77.23999786377, 79.419998168945, 81.080001831055, 80.970001220703, 77.379997253418, 77.169998168945, 79.709999084473, 80.360000610352, 81.300003051758, 80.01000213623, 80.389999389648, 79.900001525879, 81.800003051758, 81.220001220703, 81.23999786377, 79.75, 80.910003662109, 80.080001831055, 78.26000213623, 74.550003051758, 72.019996643066, 73.160003662109, 68.379997253418, 68.339996337891, 74.699996948242, 72.330001831055, 75.690002441406, 73.230003356934, 72.26000213623, 66.540000915527, 71.330001831055, 68.860000610352, 62.060001373291, 69.48999786377, 60.549999237061, 63.220001220703, 61.669998168945, 61.200000762939, 57.310001373291, 56.090000152588, 61.720001220703, 61.380001068115, 64.610000610352, 61.939998626709, 63.700000762939, 63.569999694824, 60.229999542236, 61.229999542236, 60.349998474121, 65.620002746582, 64.860000610352, 66.519996643066, 67, 68.309997558594, 71.76000213623, 71.110000610352, 71.669998168945, 70.699996948242, 69.230003356934, 67.089996337891, 69.029998779297, 68.76000213623, 70.73999786377, 70.790000915527, 69.639999389648, 71.930000305176, 73.449996948242, 72.269996643066, 73.290000915527, 74.389999389648, 75.160003662109, 75.940002441406, 77.529998779297, 78.75, 77.849998474121, 76.910003662109, 77.389999389648, 76.930000305176, 78.73999786377, 78.279998779297, 79.809997558594, 79.209999084473, 79.720001220703, 79.180000305176, 79.529998779297, 79.559997558594, 79.480003356934, 80.459999084473, 80.830001831055, 81.279998779297, 80.580001831055, 82.879997253418, 83.360000610352, 86, 88.209999084473, 83.970001220703, 84.699996948242, 85.75, 88.019996643066, 87.900001525879, 87.930000305176, 87.430000305176, 89.720001220703, 91.629997253418, 90.019996643066, 91.209999084473, 88.410003662109, 90.440002441406, 91.199996948242, 91.029998779297, 91.029998779297, 93.459999084473, 93.169998168945, 95.339996337891, 95.680000305176, 95.919998168945, 95.480003356934, 97.059997558594, 97.720001220703, 96.519996643066, 96.330001831055, 98.360000610352, 97, 97.269996643066, 92.839996337891, 92.610000610352, 94.809997558594, 93.25, 95.040000915527, 96.190002441406, 106.26000213623, 108.94000244141, 109.66999816895, 110.05999755859, 113.90000152588, 111.11000061035, 112.73000335693, 109.37999725342, 113.01000213623, 115.01000213623, 114.91000366211, 114.61000061035, 115.55999755859, 115.70999908447, 118.2799987793, 124.37000274658, 125.86000061035, 124.83000183105, 126.51999664307, 125.01000213623, 124.80999755859, 129.03999328613, 134.17999267578, 131.39999389648, 120.87999725342, 120.95999908447, 112.81999969482, 117.31999969482, 113.48999786377, 112, 115.36000061035, 115.54000091553, 112.12999725342, 110.33999633789, 106.83999633789, 110.08000183105, 111.80999755859, 107.12000274658, 108.2200012207, 112.2799987793, 114.95999908447, 114.08999633789, 115.80999755859, 116.79000091553, 113.01999664307, 116.5, 113.16000366211, 115.08000183105, 114.9700012207, 116.9700012207, 124.40000152588, 121.09999847412, 121.19000244141, 120.70999908447, 119.01999664307, 115.98000335693, 117.51000213623, 116.87000274658, 115.75, 115.04000091553, 115.05000305176, 116.59999847412, 111.19999694824, 115.31999969482, 108.86000061035, 108.76999664307, 110.44000244141, 114.94999694824, 119.0299987793, 118.69000244141, 116.31999969482, 115.9700012207, 119.48999786377, 119.20999908447, 119.26000213623, 120.30000305176, 119.38999938965, 118.0299987793, 118.63999938965, 117.33999633789, 113.84999847412, 115.16999816895, 116.0299987793, 116.58999633789, 119.05000305176, 122.7200012207, 123.08000183105, 122.94000244141, 122.25, 123.75, 124.37999725342, 121.7799987793, 123.23999786377, 122.41000366211, 121.7799987793, 127.87999725342, 127.80999755859, 128.69999694824, 126.66000366211, 128.22999572754, 131.88000488281, 130.96000671387, 131.9700012207, 136.69000244141, 134.86999511719, 133.7200012207, 132.69000244141, 129.41000366211, 131.00999450684, 126.59999847412, 130.91999816895, 132.05000305176, 128.97999572754, 128.80000305176, 130.88999938965, 128.91000366211, 127.13999938965, 127.83000183105, 132.0299987793, 136.86999511719, 139.07000732422, 142.91999816895, 143.16000366211, 142.05999755859, 137.08999633789, 131.96000671387, 134.13999938965, 134.99000549316, 133.94000244141, 137.38999938965, 136.75999450684, 136.91000366211, 136.00999450684, 135.38999938965, 135.13000488281, 135.36999511719, 133.19000244141, 130.83999633789, 129.71000671387, 129.86999511719, 126, 125.86000061035, 125.34999847412, 120.98999786377, 121.26000213623, 127.79000091553, 125.12000274658, 122.05999755859, 120.12999725342, 121.41999816895, 116.36000061035, 121.08000183105, 119.98000335693, 121.95999908447, 121.0299987793, 123.98999786377, 125.56999969482, 124.76000213623, 120.5299987793, 119.98999786377, 123.38999938965, 122.54000091553, 120.08999633789, 120.58999633789, 121.20999908447, 121.38999938965, 119.90000152588, 122.15000152588, 123, 125.90000152588, 126.20999908447, 127.90000152588, 130.36000061035, 133, 131.24000549316, 134.42999267578, 132.0299987793, 134.5, 134.16000366211, 134.83999633789, 133.11000061035, 133.5, 131.94000244141, 134.32000732422, 134.7200012207, 134.38999938965, 133.58000183105, 133.47999572754, 131.46000671387, 132.53999328613, 127.84999847412, 128.10000610352, 129.74000549316, 130.21000671387, 126.84999847412, 125.91000366211, 122.76999664307, 124.9700012207, 127.44999694824, 126.26999664307, 124.84999847412, 124.69000244141, 127.30999755859, 125.43000030518, 127.09999847412, 126.90000152588, 126.84999847412, 125.2799987793, 124.61000061035, 124.2799987793, 125.05999755859, 123.54000091553, 125.88999938965, 125.90000152588, 126.73999786377, 127.12999725342, 126.11000061035, 127.34999847412, 130.47999572754, 129.63999938965, 130.14999389648, 131.78999328613, 130.46000671387, 132.30000305176, 133.97999572754, 133.69999694824, 133.41000366211, 133.11000061035, 134.7799987793, 136.33000183105, 136.96000671387, 137.27000427246, 139.96000671387, 142.02000427246, 144.57000732422, 143.24000549316, 145.11000061035, 144.5, 145.63999938965, 149.14999389648, 148.47999572754, 146.38999938965, 142.44999694824, 146.14999389648, 145.39999389648, 146.80000305176, 148.55999755859, 148.99000549316, 146.77000427246, 144.97999572754, 145.63999938965, 145.86000061035, 145.52000427246, 147.36000061035, 146.94999694824, 147.05999755859, 146.13999938965, 146.08999633789, 145.60000610352, 145.86000061035, 148.88999938965, 149.10000610352, 151.11999511719, 150.19000244141, 146.36000061035, 146.69999694824, 148.19000244141, 149.71000671387, 149.61999511719, 148.36000061035, 147.53999328613, 148.60000610352, 153.11999511719, 151.83000183105, 152.50999450684, 153.64999389648, 154.30000305176, 156.69000244141, 155.11000061035, 154.07000732422, 148.9700012207, 149.55000305176, 148.11999511719, 149.0299987793, 148.78999328613, 146.05999755859, 142.94000244141, 143.42999267578, 145.85000610352, 146.83000183105, 146.91999816895, 145.36999511719, 141.91000366211, 142.83000183105, 141.5, 142.64999389648, 139.13999938965, 141.11000061035, 142, 143.28999328613, 142.89999389648, 142.80999755859, 141.50999450684, 140.91000366211, 143.75999450684, 144.83999633789, 146.55000305176, 148.75999450684, 149.25999450684, 149.47999572754, 148.69000244141, 148.63999938965, 149.32000732422, 148.85000610352, 152.57000732422, 149.80000305176, 148.96000671387, 150.02000427246, 151.49000549316, 150.96000671387, 151.2799987793, 150.44000244141, 150.80999755859, 147.91999816895, 147.86999511719, 149.99000549316, 150, 151, 153.49000549316, 157.86999511719, 160.55000305176, 161.02000427246, 161.41000366211, 161.94000244141, 156.80999755859, 160.24000549316, 165.30000305176, 164.77000427246, 163.75999450684, 161.83999633789, 165.32000732422, 171.17999267578, 175.08000183105, 174.55999755859, 179.44999694824, 175.74000549316, 174.33000183105, 179.30000305176, 172.25999450684, 171.13999938965, 169.75, 172.99000549316, 175.63999938965, 176.2799987793, 180.33000183105, 179.28999328613, 179.38000488281, 178.19999694824, 177.57000732422, 182.00999450684, 179.69999694824, 174.91999816895, 172, 172.16999816895, 172.19000244141, 175.08000183105, 175.5299987793, 172.19000244141, 173.07000732422, 169.80000305176, 166.22999572754, 164.50999450684, 162.41000366211, 161.61999511719, 159.7799987793, 159.69000244141, 159.2200012207, 170.33000183105, 174.7799987793, 174.61000061035, 175.83999633789, 172.89999389648, 172.38999938965, 171.66000366211, 174.83000183105, 176.2799987793, 172.11999511719, 168.63999938965, 168.88000488281, 172.78999328613, 172.55000305176, 168.88000488281, 167.30000305176, 164.32000732422, 160.07000732422, 162.74000549316, 164.85000610352, 165.11999511719, 163.19999694824, 166.55999755859, 166.22999572754, 163.16999816895, 159.30000305176, 157.44000244141, 162.94999694824, 158.52000427246, 154.72999572754, 150.61999511719, 155.08999633789, 159.58999633789, 160.61999511719, 163.97999572754, 165.38000488281, 168.82000732422, 170.21000671387, 174.07000732422, 174.7200012207, 175.60000610352, 178.96000671387, 177.77000427246, 174.61000061035, 174.30999755859, 178.44000244141, 175.05999755859, 171.83000183105, 172.13999938965, 170.08999633789, 165.75, 167.66000366211, 170.39999389648, 165.28999328613, 165.07000732422, 167.39999389648, 167.22999572754, 166.41999816895, 161.78999328613, 162.88000488281, 156.80000305176, 156.57000732422, 163.63999938965, 157.64999389648, 157.96000671387, 159.47999572754, 166.02000427246, 156.77000427246, 157.2799987793, 152.05999755859, 154.50999450684, 146.5, 142.55999755859, 147.11000061035, 145.53999328613, 149.24000549316, 140.82000732422, 137.35000610352, 137.58999633789, 143.11000061035, 140.36000061035, 140.52000427246, 143.7799987793, 149.63999938965, 148.83999633789, 148.71000671387, 151.21000671387, 145.38000488281, 146.13999938965, 148.71000671387, 147.96000671387, 142.63999938965, 137.13000488281], 'o': [36.220001220703, 35.919998168945, 35.759998321533, 35.729999542236, 36.029998779297, 36.180000305176, 36.470001220703, 36.380001068115, 36.990001678467, 37.200000762939, 37.299999237061, 37.619998931885, 37.880001068115, 37.5, 37.650001525879, 37.950000762939, 38.340000152588, 38.439998626709, 37.470001220703, 37.479999542236, 37.270000457764, 39.819999694824, 39.259998321533, 39.020000457764, 39.270000457764, 39.650001525879, 39.810001373291, 39.979999542236, 39.150001525879, 39.830001831055, 40.159999847412, 40.479999542236, 40.130001068115, 39.470001220703, 39.380001068115, 39.560001373291, 39.770000457764, 40.110000610352, 39.909999847412, 40.029998779297, 40.020000457764, 40.950000762939, 40.909999847412, 41.200000762939, 40.939998626709, 40.680000305176, 40.520000457764, 40.220001220703, 40.119998931885, 40.650001525879, 39.970001220703, 39.75, 39.619998931885, 40.029998779297, 39.880001068115, 39.479999542236, 38.950000762939, 38.009998321533, 37.5, 37.950000762939, 38.450000762939, 38.470001220703, 38.299999237061, 38.560001373291, 38.5, 38.409999847412, 38.549999237061, 38.740001678467, 38.950000762939, 39.009998321533, 38.990001678467, 39.090000152588, 39.180000305176, 39.479999542236, 39.950000762939, 40.099998474121, 39.189998626709, 39.150001525879, 39.220001220703, 39.069999694824, 39.229999542236, 39.310001373291, 39.819999694824, 40.970001220703, 41.979999542236, 42.470001220703, 41.909999847412, 43.5, 43.090000152588, 43.479999542236, 43.659999847412, 43.779998779297, 43.779998779297, 43.380001068115, 43.259998321533, 42.490001678467, 42.799999237061, 42.759998321533, 42.569999694824, 42.700000762939, 43.340000152588, 43.770000457764, 43.759998321533, 43.580001831055, 43.159999847412, 42.610000610352, 42.490001678467, 43.119998931885, 42.270000457764, 41.880001068115, 42.259998321533, 42.619998931885, 42.299999237061, 43.040000915527, 43.119998931885, 43.099998474121, 43.409999847412, 43.720001220703, 43.759998321533, 43.720001220703, 43.540000915527, 43.669998168945, 42.700000762939, 42.520000457764, 42.75, 42.630001068115, 42.540000915527, 43.130001068115, 43.130001068115, 43.360000610352, 43.590000152588, 43.639999389648, 43.290000915527, 43.650001525879, 44.049999237061, 44.479999542236, 44.040000915527, 44.840000152588, 44.650001525879, 44.330001831055, 44.330001831055, 44.310001373291, 43.630001068115, 43, 42.540000915527, 41.380001068115, 41.720001220703, 41.790000915527, 41.5, 39.770000457764, 38.709999084473, 40.770000457764, 40.069999694824, 39.270000457764, 39.619998931885, 40.490001678467, 40.759998321533, 42.450000762939, 43.090000152588, 43.009998321533, 43.209999084473, 42.950000762939, 43.419998168945, 44.090000152588, 44.770000457764, 44.810001373291, 44.630001068115, 43.200000762939, 43.799999237061, 44.479999542236, 43.729999542236, 43.869998931885, 44.490001678467, 45.069999694824, 45.650001525879, 45.080001831055, 44.619998931885, 44.659999847412, 44.330001831055, 43.810001373291, 43.759998321533, 42.5, 42.099998474121, 42.020000457764, 43.419998168945, 41.810001373291, 41.950000762939, 41.970001220703, 41.909999847412, 41.220001220703, 43.150001525879, 42.740001678467, 42.470001220703, 43.25, 43.060001373291, 43.349998474121, 43.700000762939, 43.759998321533, 44.119998931885, 44.450000762939, 43.740001678467, 42.650001525879, 41.709999084473, 41.419998168945, 40.659999847412, 41.029998779297, 41, 40.529998779297, 41.599998474121, 43.810001373291, 43.970001220703, 44.560001373291, 46.299999237061, 46.25, 46.639999389648, 46.939998626709, 47.369998931885, 47.25, 46.700000762939, 46.520000457764, 47, 46.799999237061, 47, 47.090000152588, 46.590000152588, 47.189998626709, 47.060001373291, 46.900001525879, 46.930000305176, 46.799999237061, 47, 47.909999847412, 48.270000457764, 48.409999847412, 48.529998779297, 47.790000915527, 47.840000152588, 47.849998474121, 48.099998474121, 47.889999389648, 47.509998321533, 46.970001220703, 46.279998779297, 46.590000152588, 46.810001373291, 46.529998779297, 45.849998474121, 45.75, 46.310001373291, 46.020000457764, 46.569999694824, 45.950000762939, 46.950000762939, 46.310001373291, 46.349998474121, 47.380001068115, 47.680000305176, 47.119998931885, 47.380001068115, 47.770000457764, 47.880001068115, 47.439998626709, 47.950000762939, 47.419998168945, 47.950000762939, 47.669998168945, 48.110000610352, 48.270000457764, 48.650001525879, 48.75, 47.979999542236, 47.580001831055, 49.779998779297, 50.150001525879, 51.759998321533, 52, 52.330001831055, 51.509998321533, 51.819999694824, 51.840000152588, 51.919998168945, 52.540000915527, 52.299999237061, 52.939998626709, 53.360000610352, 54.520000457764, 54.200000762939, 53.520000457764, 53.659999847412, 54.150001525879, 54.290000915527, 54.75, 55.040000915527, 55.810001373291, 56.630001068115, 57.099998474121, 57.25, 56.560001373291, 55.459999084473, 55.240001678467, 54.5, 56.229999542236, 55.880001068115, 56.439998626709, 55.540000915527, 54.450000762939, 54.619998931885, 55.060001373291, 55.200000762939, 54.200000762939, 54.939998626709, 55.25, 55.950000762939, 56.200000762939, 56.990001678467, 56.810001373291, 57.509998321533, 57.700000762939, 56.990001678467, 55.549999237061, 55.909999847412, 56.369998931885, 53.630001068115, 55.099998474121, 55.290000915527, 54.729999542236, 55.580001831055, 54.470001220703, 54.520000457764, 54.950000762939, 53.959999084473, 55.650001525879, 54.430000305176, 53.979999542236, 54.799999237061, 52.790000915527, 54.220001220703, 54.759998321533, 52.389999389648, 51.080001831055, 50.479999542236, 51.490001678467, 52.490001678467, 51.389999389648, 49.75, 47.909999847412, 48.479999542236, 47.099998474121, 47.619998931885, 47.5, 44.590000152588, 44.930000305176, 43.729999542236, 43.560001373291, 42.880001068115, 44.180000305176, 45.659999847412, 45.069999694824, 46.119998931885, 45.240001678467, 42.939998626709, 43.369998931885, 41.25, 42.909999847412, 42.599998474121, 42.619998931885, 42.25, 41.360000610352, 41.340000152588, 41.5, 40.099998474121, 39.220001220703, 37.040000915527, 37.080001831055, 38.959999084473, 39.380001068115, 39.630001068115, 38.720001220703, 35.990001678467, 36.130001068115, 37.169998168945, 37.389999389648, 37.819999694824, 38.119998931885, 38.220001220703, 37.709999084473, 37.569999694824, 38.270000457764, 38.549999237061, 39.380001068115, 39.099998474121, 38.540000915527, 38.529998779297, 38.869998931885, 38.950000762939, 39.060001373291, 40.810001373291, 41.529998779297, 41.740001678467, 41.849998474121, 43.220001220703, 43.659999847412, 43.099998474121, 42.25, 42.759998321533, 42.520000457764, 42.849998474121, 42.430000305176, 42.810001373291, 42.430000305176, 42.799999237061, 42.950000762939, 42.900001525879, 43.540000915527, 43.430000305176, 43.299999237061, 43.580001831055, 43.569999694824, 43.919998168945, 43.979999542236, 43.669998168945, 43.470001220703, 42.580001831055, 43.869998931885, 45, 45.560001373291, 45.979999542236, 46.209999084473, 46.450000762939, 47.090000152588, 46.560001373291, 47.509998321533, 48.840000152588, 47.880001068115, 47.919998168945, 47.189998626709, 47.240001678467, 47.459999084473, 47.909999847412, 47.770000457764, 48.310001373291, 48.700000762939, 49.110000610352, 49.099998474121, 50.080001831055, 49.669998168945, 50.209999084473, 49.799999237061, 49.650001525879, 49.869998931885, 49.880001068115, 50.779998779297, 50.709999084473, 51.110000610352, 51.840000152588, 51.709999084473, 51.229999542236, 51.099998474121, 50.770000457764, 52.470001220703, 52.459999084473, 52.720001220703, 51.069999694824, 51.470001220703, 50.479999542236, 50.099998474121, 49.349998474121, 46.930000305176, 46.599998474121, 46.569999694824, 47.479999542236, 46.729999542236, 45.880001068115, 46.299999237061, 46.159999847412, 44.950000762939, 45.049999237061, 44.729999542236, 44.099998474121, 44.490001678467, 44.060001373291, 43.900001525879, 43.860000610352, 46.069999694824, 45.770000457764, 46.630001068115, 47.950000762939, 48.720001220703, 48.490001678467, 48.669998168945, 47.889999389648, 48.229999542236, 49.009998321533, 49.919998168945, 50.090000152588, 49.700000762939, 49.630001068115, 49.610000610352, 49.439998626709, 50.069999694824, 49.669998168945, 50.790000915527, 50.349998474121, 50.819999694824, 50.840000152588, 50.200000762939, 49.799999237061, 50.459999084473, 50.830001831055, 50.610000610352, 51.020000457764, 51.150001525879, 51.009998321533, 51, 51.450000762939, 50.909999847412, 52.119998931885, 51.919998168945, 52.220001220703, 51.869998931885, 52.119998931885, 52.189998626709, 54.099998474121, 53.479999542236, 51.380001068115, 49.5, 49.080001831055, 48.849998474121, 50.049999237061, 50.330001831055, 49.909999847412, 50.259998321533, 50.790000915527, 50.869998931885, 51.069999694824, 52.659999847412, 52.720001220703, 53.25, 53.299999237061, 52.360000610352, 51.470001220703, 51.970001220703, 51.020000457764, 52.119998931885, 52.540000915527, 51.610000610352, 52.099998474121, 53, 53.509998321533, 53.709999084473, 53.470001220703, 54.520000457764, 56.200000762939, 55, 54.430000305176, 54.990001678467, 55.270000457764, 55.5, 55.340000152588, 54.740001678467, 55.259998321533, 54.639999389648, 55, 55.130001068115, 55.229999542236, 56.270000457764, 55.770000457764, 54.610000610352, 56.409999847412, 56.569999694824, 56.450000762939, 56.759998321533, 56.979999542236, 58.240001678467, 58.729999542236, 59.099998474121, 58.340000152588, 58.770000457764, 58.650001525879, 59.380001068115, 60.290000915527, 60.520000457764, 61.130001068115, 60.790000915527, 61.849998474121, 62.240001678467, 61.189998626709, 61.810001373291, 62.380001068115, 64.330001831055, 64.26000213623, 64.190002441406, 64.690002441406, 64.669998168945, 64.580001831055, 65.389999389648, 65.279998779297, 65.940002441406, 65.919998168945, 66.449996948242, 66.970001220703, 66.389999389648, 65.919998168945, 65.650001525879, 65.680000305176, 66.730003356934, 66.389999389648, 66.650001525879, 66.819999694824, 64.580001831055, 65.269996643066, 65.949996948242, 66.870002746582, 67.5, 67.150001525879, 67.199996948242, 66.940002441406, 67.860000610352, 69.25, 69.889999389648, 69.949996948242, 69.879997253418, 70.559997558594, 70.129997253418, 71.169998168945, 71.199996948242, 72.779998779297, 72.360000610352, 72.480003356934, 74.059997558594, 74.290000915527, 73.449996948242, 74.959999084473, 74.290000915527, 76.809997558594, 77.650001525879, 77.910003662109, 79.169998168945, 77.959999084473, 78.400001525879, 79.069999694824, 79.300003051758, 79.639999389648, 79.480003356934, 80.059997558594, 77.519996643066, 78.150001525879, 81.110000610352, 80.139999389648, 80.230003356934, 76.080001831055, 78.830001831055, 80.879997253418, 80.639999389648, 80.589996337891, 78.550003051758, 80.900001525879, 80.370002746582, 81.050003051758, 81.190002441406, 78.839996337891, 80, 80.660003662109, 79.660003662109, 74.309997558594, 75.23999786377, 71.629997253418, 70.279998779297, 64.309997558594, 70.569999694824, 75.919998168945, 74.110000610352, 73.879997253418, 70.5, 65.940002441406, 69.279998779297, 69.349998474121, 63.979999542236, 66.220001220703, 60.490001678467, 61.880001068115, 59.939998626709, 61.849998474121, 61.799999237061, 57.020000457764, 59.090000152588, 62.689998626709, 61.630001068115, 63.189998626709, 62.689998626709, 63.900001525879, 61.619998931885, 60.090000152588, 60.700000762939, 62.729999542236, 67.699996948242, 65.690002441406, 67.169998168945, 67.080001831055, 70, 70.599998474121, 71.839996337891, 71.169998168945, 69.48999786377, 69.069999694824, 68.400001525879, 68.970001220703, 69.300003051758, 70.449996948242, 71.269996643066, 71.180000305176, 72.48999786377, 71.559997558594, 72.290000915527, 73.769996643066, 75.110000610352, 75.809997558594, 76.410003662109, 77.029998779297, 79.459999084473, 78.040000915527, 76.129997253418, 75.089996337891, 78.290000915527, 78.76000213623, 79.169998168945, 79.669998168945, 78.940002441406, 80.879997253418, 79.029998779297, 79.190002441406, 79.809997558594, 79.440002441406, 80.190002441406, 81.169998168945, 81.099998474121, 80.839996337891, 82.559997558594, 83.029998779297, 86.970001220703, 87.330001831055, 86.180000305176, 83.309997558594, 87.860000610352, 88.790000915527, 87.849998474121, 88.660003662109, 87.830001831055, 91, 91.25, 90.169998168945, 91.099998474121, 88.309997558594, 90.019996643066, 91.279998779297, 91.959999084473, 92.5, 93.849998474121, 94.180000305176, 96.26000213623, 95.330001831055, 97.269996643066, 94.839996337891, 98.98999786377, 96.559997558594, 96.98999786377, 96.419998168945, 99.169998168945, 96.690002441406, 97, 90.98999786377, 93.709999084473, 94.370002746582, 93.75, 94.190002441406, 102.87999725342, 108.19999694824, 109.12999725342, 109.37999725342, 110.41000366211, 113.19999694824, 112.59999847412, 111.9700012207, 110.5, 114.43000030518, 114.83000183105, 116.05999755859, 114.34999847412, 115.98000335693, 115.75, 119.26000213623, 128.69999694824, 124.69999694824, 126.18000030518, 127.13999938965, 126.01000213623, 127.58000183105, 132.75999450684, 137.58999633789, 126.91000366211, 120.06999969482, 113.94999694824, 117.26000213623, 120.36000061035, 114.56999969482, 114.7200012207, 118.33000183105, 115.23000335693, 109.7200012207, 110.40000152588, 104.54000091553, 112.68000030518, 111.62000274658, 105.16999816895, 108.43000030518, 115.01000213623, 114.55000305176, 113.79000091553, 117.63999938965, 112.88999938965, 113.91000366211, 115.69999694824, 114.62000274658, 116.25, 115.2799987793, 120.05999755859, 125.26999664307, 121, 118.7200012207, 121.2799987793, 119.95999908447, 116.19999694824, 116.66999816895, 117.44999694824, 116.38999938965, 114.01000213623, 115.48999786377, 115.05000305176, 112.37000274658, 111.05999755859, 109.11000061035, 109.66000366211, 114.13999938965, 117.94999694824, 118.31999969482, 120.5, 115.55000305176, 117.19000244141, 119.62000274658, 119.44000244141, 118.91999816895, 119.55000305176, 118.61000061035, 117.58999633789, 118.63999938965, 117.18000030518, 113.91000366211, 115.55000305176, 116.56999969482, 116.9700012207, 121.01000213623, 122.01999664307, 123.51999664307, 122.59999847412, 122.30999755859, 124.37000274658, 124.5299987793, 120.5, 122.43000030518, 122.59999847412, 124.33999633789, 127.41000366211, 128.89999389648, 128.96000671387, 125.01999664307, 131.61000061035, 132.16000366211, 131.32000732422, 133.99000549316, 138.05000305176, 135.58000183105, 134.08000183105, 133.52000427246, 128.88999938965, 127.7200012207, 128.36000061035, 132.42999267578, 129.19000244141, 128.5, 128.75999450684, 130.80000305176, 128.7799987793, 127.7799987793, 128.66000366211, 133.80000305176, 136.2799987793, 143.07000732422, 143.60000610352, 143.42999267578, 139.52000427246, 135.83000183105, 133.75, 135.72999572754, 135.75999450684, 136.30000305176, 137.35000610352, 136.0299987793, 136.61999511719, 136.47999572754, 135.89999389648, 134.35000610352, 135.49000549316, 131.25, 129.19999694824, 130.24000549316, 128.00999450684, 123.76000213623, 124.94000244141, 124.68000030518, 122.58999633789, 123.75, 128.41000366211, 124.80999755859, 121.75, 120.98000335693, 120.93000030518, 119.0299987793, 121.69000244141, 122.54000091553, 120.40000152588, 121.41000366211, 125.69999694824, 124.05000305176, 122.87999725342, 119.90000152588, 120.33000183105, 123.33000183105, 122.81999969482, 119.54000091553, 120.34999847412, 121.65000152588, 120.11000061035, 121.65000152588, 123.66000366211, 123.87000274658, 126.5, 125.83000183105, 128.94999694824, 129.80000305176, 132.52000427246, 132.44000244141, 134.94000244141, 133.82000732422, 134.30000305176, 133.50999450684, 135.02000427246, 132.36000061035, 133.03999328613, 132.16000366211, 134.83000183105, 135.00999450684, 134.30999755859, 136.4700012207, 131.7799987793, 132.03999328613, 131.19000244141, 129.19999694824, 127.88999938965, 130.85000610352, 129.41000366211, 123.5, 123.40000152588, 124.58000183105, 126.25, 126.81999969482, 126.55999755859, 123.16000366211, 125.23000335693, 127.81999969482, 126.01000213623, 127.81999969482, 126.94999694824, 126.44000244141, 125.56999969482, 125.08000183105, 124.2799987793, 124.68000030518, 124.06999969482, 126.16999816895, 126.59999847412, 127.20999908447, 127.01999664307, 126.5299987793, 127.81999969482, 129.94000244141, 130.36999511719, 129.80000305176, 130.71000671387, 130.30000305176, 132.13000488281, 133.77000427246, 134.44999694824, 133.46000671387, 133.41000366211, 134.80000305176, 136.16999816895, 136.60000610352, 137.89999389648, 140.07000732422, 143.5299987793, 141.58000183105, 142.75, 146.21000671387, 144.0299987793, 148.10000610352, 149.24000549316, 148.46000671387, 143.75, 143.46000671387, 145.5299987793, 145.94000244141, 147.55000305176, 148.27000427246, 149.11999511719, 144.80999755859, 144.69000244141, 144.38000488281, 146.36000061035, 145.80999755859, 147.27000427246, 146.97999572754, 146.35000610352, 146.19999694824, 146.44000244141, 146.05000305176, 146.19000244141, 148.9700012207, 148.5299987793, 150.22999572754, 149.80000305176, 145.0299987793, 147.44000244141, 148.30999755859, 149.44999694824, 149.80999755859, 148.35000610352, 147.47999572754, 149, 152.66000366211, 152.83000183105, 153.86999511719, 153.75999450684, 154.9700012207, 156.97999572754, 155.49000549316, 155, 150.63000488281, 150.35000610352, 148.55999755859, 148.44000244141, 148.82000732422, 143.80000305176, 143.92999267578, 144.44999694824, 146.64999389648, 145.66000366211, 145.4700012207, 143.25, 142.4700012207, 143.66000366211, 141.89999389648, 141.75999450684, 139.49000549316, 139.4700012207, 143.05999755859, 144.0299987793, 142.27000427246, 143.22999572754, 141.24000549316, 142.11000061035, 143.77000427246, 143.44000244141, 147.00999450684, 148.69999694824, 148.80999755859, 149.69000244141, 148.67999267578, 149.33000183105, 149.36000061035, 149.82000732422, 147.2200012207, 148.99000549316, 148.66000366211, 150.38999938965, 151.58000183105, 151.88999938965, 151.41000366211, 150.19999694824, 150.02000427246, 148.96000671387, 148.42999267578, 150.36999511719, 149.94000244141, 151, 153.71000671387, 157.64999389648, 161.67999267578, 161.11999511719, 160.75, 159.55999755859, 159.36999511719, 159.99000549316, 167.47999572754, 158.74000549316, 164.02000427246, 164.28999328613, 169.08000183105, 172.11999511719, 174.91000366211, 175.21000671387, 181.11999511719, 175.25, 175.11000061035, 179.2799987793, 169.92999267578, 168.2799987793, 171.55999755859, 173.03999328613, 175.85000610352, 177.08999633789, 180.16000366211, 179.33000183105, 179.4700012207, 178.08999633789, 177.83000183105, 182.63000488281, 179.61000061035, 172.69999694824, 172.88999938965, 169.08000183105, 172.32000732422, 176.11999511719, 175.7799987793, 171.33999633789, 171.50999450684, 170, 166.97999572754, 164.41000366211, 160.02000427246, 158.97999572754, 163.5, 162.44999694824, 165.71000671387, 170.16000366211, 174.00999450684, 174.75, 174.47999572754, 171.67999267578, 172.86000061035, 171.72999572754, 176.05000305176, 174.13999938965, 172.33000183105, 167.36999511719, 170.9700012207, 171.85000610352, 171.0299987793, 169.82000732422, 164.97999572754, 165.53999328613, 152.58000183105, 163.83999633789, 163.05999755859, 164.69000244141, 164.38999938965, 168.4700012207, 164.49000549316, 163.36000061035, 158.82000732422, 161.4700012207, 160.19999694824, 158.92999267578, 151.44999694824, 150.89999389648, 157.05000305176, 158.61000061035, 160.50999450684, 163.50999450684, 165.50999450684, 167.99000549316, 171.05999755859, 173.88000488281, 172.16999816895, 176.69000244141, 178.55000305176, 177.83999633789, 174.0299987793, 174.57000732422, 177.5, 172.36000061035, 171.16000366211, 171.7799987793, 168.71000671387, 168.02000427246, 167.38999938965, 170.61999511719, 163.91999816895, 165.02000427246, 168.75999450684, 168.91000366211, 166.46000671387, 161.11999511719, 162.25, 155.91000366211, 159.25, 161.83999633789, 156.71000671387, 158.14999389648, 159.66999816895, 163.85000610352, 156.00999450684, 154.92999267578, 155.52000427246, 153.5, 142.77000427246, 144.58999633789, 145.55000305176, 148.86000061035, 146.85000610352, 139.88000488281, 139.08999633789, 137.78999328613, 140.80499267578, 138.42999267578, 137.38999938965, 145.38999938965, 149.07000732422, 149.89999389648, 147.83000183105, 146.89999389648, 147.0299987793, 144.3450012207, 148.58000183105, 147.08000183105, 140.2799987793], 'h': [36.330001831055, 36.200000762939, 35.880001068115, 36.189998626709, 36.490001678467, 36.459999084473, 36.549999237061, 37.119998931885, 37.330001831055, 37.729999542236, 37.529998779297, 37.849998474121, 37.939998626709, 37.610000610352, 38.110000610352, 38.459999084473, 38.479999542236, 38.5, 37.560001373291, 37.580001831055, 37.549999237061, 39.939998626709, 39.299999237061, 39.349998474121, 39.729999542236, 40.459999084473, 40.319999694824, 40, 39.639999389648, 40.049999237061, 40.549999237061, 40.630001068115, 40.180000305176, 39.880001068115, 39.470001220703, 40, 40.119998931885, 40.189998626709, 40.139999389648, 40.5, 40.779998779297, 40.970001220703, 41.130001068115, 41.229999542236, 41.060001373291, 40.75, 40.560001373291, 40.290000915527, 40.509998321533, 40.990001678467, 39.990001678467, 39.849998474121, 40.240001678467, 40.119998931885, 39.939998626709, 39.560001373291, 38.950000762939, 38.069999694824, 37.959999084473, 38.479999542236, 38.680000305176, 38.569999694824, 38.529998779297, 38.610000610352, 38.770000457764, 38.470001220703, 38.860000610352, 38.869998931885, 39.180000305176, 39.5, 39.240001678467, 39.340000152588, 39.319999694824, 40, 40.220001220703, 40.180000305176, 39.270000457764, 39.439998626709, 39.419998168945, 39.349998474121, 39.389999389648, 39.459999084473, 40.900001525879, 42.020000457764, 42.409999847412, 42.479999542236, 42.119998931885, 43.560001373291, 43.75, 43.810001373291, 44.060001373291, 44.020000457764, 43.840000152588, 43.619998931885, 43.369998931885, 42.580001831055, 42.970001220703, 42.849998474121, 42.639999389648, 43.419998168945, 43.75, 43.880001068115, 43.770000457764, 43.720001220703, 43.229999542236, 43.029998779297, 42.919998168945, 43.159999847412, 42.880001068115, 42.549999237061, 42.610000610352, 42.75, 43.220001220703, 43.099998474121, 43.380001068115, 43.279998779297, 43.540000915527, 44.299999237061, 43.849998474121, 43.849998474121, 44.009998321533, 43.860000610352, 42.869998931885, 42.700000762939, 42.959999084473, 42.650001525879, 43.080001831055, 43.639999389648, 43.369998931885, 43.840000152588, 43.900001525879, 43.770000457764, 43.580001831055, 43.869998931885, 44.340000152588, 44.849998474121, 44.810001373291, 45.020000457764, 44.900001525879, 44.450000762939, 44.860000610352, 44.330001831055, 43.740001678467, 43, 42.540000915527, 41.840000152588, 42.110000610352, 42.159999847412, 41.700000762939, 40.970001220703, 40.930000305176, 40.849998474121, 40.25, 39.470001220703, 40.970001220703, 41.189998626709, 41.880001068115, 43.270000457764, 43.700000762939, 43.560001373291, 43.529998779297, 43.490001678467, 43.909999847412, 44.849998474121, 45.119998931885, 45.150001525879, 44.939998626709, 44.080001831055, 44.439998626709, 44.560001373291, 43.959999084473, 44.279998779297, 45, 45.599998474121, 45.880001068115, 45.130001068115, 45.060001373291, 44.779998779297, 44.369998931885, 44.200000762939, 43.770000457764, 43.169998168945, 42.479999542236, 43.270000457764, 43.790000915527, 42.509998321533, 42.939998626709, 42.229999542236, 42.189998626709, 43, 43.560001373291, 43.119998931885, 43.270000457764, 43.5, 43.479999542236, 43.75, 43.959999084473, 44.049999237061, 44.729999542236, 44.700000762939, 43.849998474121, 42.799999237061, 41.729999542236, 41.580001831055, 41.349998474121, 41.430000305176, 41.080001831055, 41.810001373291, 42.299999237061, 44.439998626709, 44.380001068115, 46.060001373291, 46.919998168945, 46.549999237061, 46.849998474121, 47.590000152588, 47.520000457764, 47.380001068115, 46.770000457764, 47.119998931885, 47.229999542236, 46.950000762939, 47.319999694824, 47.220001220703, 47.119998931885, 47.209999084473, 47.409999847412, 47.189998626709, 47, 47.060001373291, 47.560001373291, 48.349998474121, 48.479999542236, 48.520000457764, 48.549999237061, 48, 47.990001678467, 48.150001525879, 48.220001220703, 47.889999389648, 47.540000915527, 47.299999237061, 46.580001831055, 46.799999237061, 47.090000152588, 46.540000915527, 46.229999542236, 46.630001068115, 46.819999694824, 46.549999237061, 46.799999237061, 46.830001831055, 46.990001678467, 46.599998474121, 47.110000610352, 47.669998168945, 47.819999694824, 47.439998626709, 47.849998474121, 47.959999084473, 48.159999847412, 47.970001220703, 47.950000762939, 48.139999389648, 48.110000610352, 47.990001678467, 48.419998168945, 48.709999084473, 48.990001678467, 48.799999237061, 48.049999237061, 48.029998779297, 50.439998626709, 52.090000152588, 52.189998626709, 52.310001373291, 52.380001068115, 51.950000762939, 52.450000762939, 52.270000457764, 52.740001678467, 52.639999389648, 52.689998626709, 53.450000762939, 54.490001678467, 54.799999237061, 54.299999237061, 54.090000152588, 54.259998321533, 54.229999542236, 54.689998626709, 55.130001068115, 55.869998931885, 57.060001373291, 57.220001220703, 57.299999237061, 57.419998168945, 56.840000152588, 56.340000152588, 55.459999084473, 56.069999694824, 56.25, 57.090000152588, 56.709999084473, 55.740001678467, 55.459999084473, 54.909999847412, 55.569999694824, 55.340000152588, 55.310001373291, 55.700000762939, 55.939998626709, 56.610000610352, 56.459999084473, 57.349998474121, 57.5, 58.369998931885, 58.090000152588, 57.099998474121, 56.200000762939, 56.819999694824, 56.590000152588, 54.880001068115, 55.720001220703, 55.459999084473, 55.75, 55.659999847412, 54.939998626709, 55.310001373291, 55.840000152588, 55.810001373291, 56.060001373291, 55.340000152588, 55.049999237061, 54.919998168945, 53.799999237061, 55.110000610352, 55.590000152588, 53.409999847412, 51.099998474121, 51.180000305176, 52.520000457764, 52.529998779297, 51.5, 49.959999084473, 49.299999237061, 48.619998931885, 47.990001678467, 48.740001678467, 47.669998168945, 45.369998931885, 45.069999694824, 44.150001525879, 43.740001678467, 43.689998626709, 45.319999694824, 45.700000762939, 45.080001831055, 46.229999542236, 45.599998474121, 43.700000762939, 43.619998931885, 42.520000457764, 42.950000762939, 42.979999542236, 43.139999389648, 42.270000457764, 42.090000152588, 41.880001068115, 41.860000610352, 40.529998779297, 39.540000915527, 37.889999389648, 39.310001373291, 39.189998626709, 39.630001068115, 39.840000152588, 39.709999084473, 36.430000305176, 37.139999389648, 37.209999084473, 37.950000762939, 38.630001068115, 38.490001678467, 38.419998168945, 37.819999694824, 38.349998474121, 38.970001220703, 39.409999847412, 39.470001220703, 39.180000305176, 38.779998779297, 38.619998931885, 39.529998779297, 39.080001831055, 39.529998779297, 41.540000915527, 42.25, 42.240001678467, 42.909999847412, 43.770000457764, 43.889999389648, 43.479999542236, 42.659999847412, 42.799999237061, 42.75, 43.119998931885, 42.819999694824, 42.919998168945, 42.860000610352, 43.330001831055, 43.090000152588, 43.25, 43.970001220703, 43.830001831055, 43.75, 43.729999542236, 43.790000915527, 44.439998626709, 44, 43.869998931885, 43.610000610352, 43.270000457764, 44.779998779297, 45.669998168945, 45.830001831055, 46.020000457764, 46.830001831055, 47.099998474121, 47.25, 47.369998931885, 49.080001831055, 49.419998168945, 47.990001678467, 48.220001220703, 47.439998626709, 47.389999389648, 47.520000457764, 47.919998168945, 48.619998931885, 49.119998931885, 49.090000152588, 49.270000457764, 50.060001373291, 50.709999084473, 50.189998626709, 50.25, 50.029998779297, 49.959999084473, 50.340000152588, 50.840000152588, 51.040000915527, 51.229999542236, 51.939998626709, 52.119998931885, 51.939998626709, 51.25, 51.490001678467, 50.849998474121, 53.830001831055, 53.159999847412, 52.959999084473, 52.209999084473, 51.849998474121, 51.340000152588, 50.419998168945, 49.709999084473, 47.369998931885, 47.419998168945, 47.939998626709, 48.119998931885, 47.729999542236, 46.090000152588, 47, 46.430000305176, 45.130001068115, 45.529998779297, 45.150001525879, 44.840000152588, 44.810001373291, 44.5, 44.479999542236, 44.959999084473, 46.25, 46.369998931885, 47.979999542236, 48.840000152588, 49, 48.990001678467, 49.200000762939, 48.400001525879, 48.740001678467, 50.069999694824, 49.970001220703, 50.150001525879, 50.209999084473, 50.040000915527, 49.810001373291, 50.25, 50.389999389648, 49.869998931885, 51.119998931885, 50.779998779297, 51.110000610352, 51.270000457764, 50.349998474121, 50.380001068115, 50.930000305176, 51.099998474121, 51, 51.470001220703, 51.529998779297, 51.270000457764, 51.470001220703, 51.619998931885, 51.810001373291, 52.229999542236, 52.290000915527, 52.310001373291, 52.430000305176, 52.659999847412, 52.540000915527, 55.340000152588, 54.509998321533, 51.610000610352, 49.659999847412, 49.520000457764, 49.889999389648, 50.880001068115, 50.689998626709, 50.509998321533, 53.029998779297, 51.610000610352, 51.279998779297, 51.790000915527, 53.180000305176, 53.340000152588, 53.409999847412, 53.610000610352, 53.009998321533, 51.799999237061, 52.139999389648, 51.430000305176, 52.330001831055, 52.610000610352, 51.740001678467, 52.369998931885, 53.490001678467, 53.599998474121, 54.110000610352, 54.200000762939, 55.930000305176, 56.599998474121, 55.200000762939, 55.029998779297, 55.200000762939, 55.709999084473, 55.939998626709, 55.639999389648, 54.959999084473, 55.619998931885, 55.380001068115, 55.229999542236, 55.240001678467, 56.150001525879, 57.049999237061, 55.900001525879, 55.240001678467, 56.869998931885, 57.479999542236, 57.020000457764, 56.950000762939, 57.610000610352, 59.409999847412, 59.529998779297, 59.409999847412, 58.810001373291, 59.040000915527, 59.400001525879, 60.25, 60.549999237061, 60.810001373291, 61.200000762939, 61.680000305176, 62.310001373291, 62.439998626709, 61.330001831055, 62.290000915527, 63.979999542236, 64.459999084473, 64.550003051758, 64.370002746582, 65.089996337891, 65.110000610352, 65.620002746582, 65.699996948242, 66.190002441406, 66.220001220703, 66.440002441406, 66.860000610352, 67, 66.519996643066, 66, 65.800003051758, 66.610000610352, 66.790000915527, 67, 67, 67.059997558594, 64.879997253418, 65.830001831055, 66.470001220703, 67.75, 67.699996948242, 67.519996643066, 67.779998779297, 68.139999389648, 68.830001831055, 70.199996948242, 70.440002441406, 70.470001220703, 70.300003051758, 70.660003662109, 71.059997558594, 71.220001220703, 72.5, 73.48999786377, 73.169998168945, 73.419998168945, 75.150001525879, 75.139999389648, 74.98999786377, 75.220001220703, 76.110000610352, 77.610000610352, 78.169998168945, 79.269996643066, 79.389999389648, 78.879997253418, 78.919998168945, 79.690002441406, 79.75, 80, 79.889999389648, 80.830001831055, 77.940002441406, 79.599998474121, 81.959999084473, 81.019996643066, 80.669998168945, 78.370002746582, 79.910003662109, 81.190002441406, 81.309997558594, 80.849998474121, 80.389999389648, 80.970001220703, 81.809997558594, 81.559997558594, 81.5, 79.940002441406, 81.139999389648, 81.160003662109, 80.110000610352, 76.050003051758, 75.629997253418, 74.470001220703, 71.5, 69.599998474121, 75.360000610352, 76, 75.849998474121, 74.889999389648, 72.699996948242, 69.519996643066, 71.610000610352, 70.309997558594, 67.5, 69.980003356934, 64.769996643066, 64.400001525879, 62.5, 63.209999084473, 62.959999084473, 57.119998931885, 61.919998168945, 64.559997558594, 64.669998168945, 63.970001220703, 63.880001068115, 65.620002746582, 62.180000305176, 61.290000915527, 61.419998168945, 65.779998779297, 67.919998168945, 66.839996337891, 67.519996643066, 68.419998168945, 72.059997558594, 71.580001831055, 72.050003051758, 71.73999786377, 70.419998168945, 69.309997558594, 69.470001220703, 70.440002441406, 70.75, 71.139999389648, 71.459999084473, 72.419998168945, 73.629997253418, 74.75, 73.419998168945, 75.25, 75.809997558594, 76.290000915527, 77.589996337891, 79.26000213623, 79.919998168945, 78.98999786377, 77.449996948242, 76.970001220703, 79.120002746582, 79.629997253418, 79.879997253418, 80.220001220703, 79.809997558594, 81.059997558594, 79.680000305176, 80.860000610352, 80.290000915527, 80.589996337891, 80.860000610352, 81.550003051758, 81.410003662109, 82.940002441406, 83.400001525879, 86.400001525879, 88.690002441406, 87.769996643066, 86.949996948242, 86.419998168945, 88.300003051758, 88.849998474121, 88.360000610352, 89.139999389648, 89.860000610352, 93.089996337891, 92.199996948242, 91.25, 91.330001831055, 90.540000915527, 91.5, 91.839996337891, 92.620002746582, 93.940002441406, 94.660003662109, 95.379997253418, 96.319999694824, 95.980003356934, 99.949996948242, 97.25, 99.25, 97.410003662109, 97.150001525879, 98.5, 99.25, 97.970001220703, 97.080001831055, 92.970001220703, 94.910003662109, 94.550003051758, 95.230003356934, 96.300003051758, 106.41999816895, 111.63999938965, 110.79000091553, 110.38999938965, 114.41000366211, 113.66999816895, 113.7799987793, 112.48000335693, 113.2799987793, 116.04000091553, 115, 116.08999633789, 116, 117.16000366211, 118.38999938965, 124.87000274658, 128.7799987793, 125.18000030518, 126.98999786377, 127.48000335693, 126.44000244141, 131, 134.80000305176, 137.97999572754, 128.83999633789, 123.69999694824, 118.98999786377, 119.13999938965, 120.5, 115.23000335693, 115.93000030518, 118.83000183105, 116, 112.19999694824, 110.87999725342, 110.19000244141, 112.86000061035, 112.11000061035, 110.25, 112.44000244141, 115.31999969482, 115.30999755859, 117.26000213623, 117.7200012207, 115.37000274658, 116.65000152588, 116.12000274658, 115.55000305176, 116.40000152588, 117, 125.18000030518, 125.38999938965, 123.0299987793, 121.19999694824, 121.55000305176, 120.41999816895, 118.98000335693, 118.69999694824, 118.04000091553, 116.55000305176, 116.55000305176, 117.2799987793, 115.43000030518, 116.93000030518, 111.98999786377, 110.68000030518, 111.48999786377, 115.58999633789, 119.62000274658, 119.19999694824, 121.98999786377, 117.58999633789, 119.62999725342, 120.5299987793, 119.66999816895, 120.98999786377, 120.66999816895, 119.81999969482, 119.05999755859, 118.76999664307, 117.62000274658, 115.84999847412, 116.75, 117.48999786377, 120.9700012207, 123.4700012207, 123.37000274658, 123.7799987793, 122.86000061035, 124.56999969482, 124.98000335693, 125.94999694824, 123.87000274658, 122.76000213623, 123.34999847412, 127.90000152588, 128.36999511719, 129.58000183105, 129.10000610352, 128.30999755859, 134.41000366211, 132.42999267578, 133.46000671387, 137.33999633789, 138.78999328613, 135.99000549316, 134.74000549316, 133.61000061035, 131.74000549316, 131.05000305176, 131.63000488281, 132.63000488281, 130.16999816895, 129.69000244141, 131.44999694824, 131, 130.2200012207, 128.71000671387, 132.49000549316, 139.66999816895, 139.85000610352, 145.08999633789, 144.30000305176, 144.30000305176, 141.99000549316, 136.74000549316, 135.38000488281, 136.30999755859, 135.77000427246, 137.39999389648, 137.41999816895, 136.96000671387, 137.88000488281, 136.99000549316, 136.38999938965, 135.5299987793, 136.00999450684, 132.2200012207, 130, 130.71000671387, 129.7200012207, 126.70999908447, 125.55999755859, 126.45999908447, 124.84999847412, 127.93000030518, 128.7200012207, 125.70999908447, 123.59999847412, 121.94000244141, 121, 122.05999755859, 122.16999816895, 123.20999908447, 121.16999816895, 124, 127.2200012207, 125.86000061035, 123.18000030518, 121.43000030518, 123.87000274658, 124.23999786377, 122.90000152588, 121.66000366211, 121.48000335693, 122.58000183105, 120.40000152588, 123.51999664307, 124.18000030518, 126.16000366211, 127.12999725342, 127.91999816895, 130.38999938965, 133.03999328613, 132.85000610352, 134.66000366211, 135, 135, 134.66999816895, 135.4700012207, 135.5299987793, 133.75, 134.14999389648, 135.11999511719, 135.05999755859, 135.41000366211, 135.02000427246, 137.07000732422, 133.55999755859, 134.07000732422, 131.49000549316, 130.44999694824, 129.75, 131.25999450684, 129.53999328613, 126.26999664307, 124.63999938965, 126.15000152588, 127.88999938965, 126.93000030518, 126.98999786377, 124.91999816895, 127.7200012207, 128, 127.94000244141, 128.32000732422, 127.38999938965, 127.63999938965, 125.80000305176, 125.34999847412, 125.23999786377, 124.84999847412, 126.16000366211, 126.31999969482, 128.46000671387, 127.75, 128.19000244141, 127.44000244141, 130.53999328613, 130.60000610352, 130.88999938965, 132.55000305176, 131.50999450684, 132.41000366211, 134.08000183105, 134.32000732422, 134.63999938965, 133.88999938965, 135.25, 136.49000549316, 137.41000366211, 137.33000183105, 140, 143.14999389648, 144.88999938965, 144.05999755859, 145.64999389648, 146.32000732422, 147.46000671387, 149.57000732422, 150, 149.75999450684, 144.07000732422, 147.10000610352, 146.13000488281, 148.19000244141, 148.7200012207, 149.83000183105, 149.21000671387, 146.9700012207, 146.55000305176, 146.33000183105, 146.94999694824, 148.03999328613, 147.78999328613, 147.83999633789, 147.11000061035, 146.69999694824, 147.71000671387, 146.7200012207, 149.05000305176, 149.44000244141, 151.19000244141, 151.67999267578, 150.7200012207, 148, 148.5, 150.19000244141, 150.86000061035, 150.32000732422, 149.11999511719, 148.75, 153.49000549316, 152.80000305176, 154.97999572754, 154.7200012207, 154.63000488281, 157.25999450684, 157.03999328613, 156.11000061035, 155.47999572754, 151.41999816895, 151.07000732422, 149.44000244141, 148.9700012207, 148.82000732422, 144.83999633789, 144.60000610352, 146.42999267578, 147.08000183105, 147.4700012207, 145.96000671387, 144.75, 144.44999694824, 144.38000488281, 142.91999816895, 142.21000671387, 142.24000549316, 142.14999389648, 144.2200012207, 144.17999267578, 144.80999755859, 143.25, 141.39999389648, 143.88000488281, 144.89999389648, 146.83999633789, 149.16999816895, 149.75, 149.63999938965, 150.17999267578, 149.36999511719, 150.83999633789, 149.72999572754, 153.16000366211, 149.94000244141, 149.69999694824, 151.57000732422, 151.9700012207, 152.42999267578, 152.19999694824, 151.57000732422, 151.42999267578, 150.13000488281, 149.42999267578, 150.39999389648, 151.88000488281, 151.49000549316, 155, 158.66999816895, 161.02000427246, 165.69999694824, 161.80000305176, 162.13999938965, 160.44999694824, 161.19000244141, 165.52000427246, 170.30000305176, 164.19999694824, 164.96000671387, 167.88000488281, 171.58000183105, 175.96000671387, 176.75, 179.63000488281, 182.13000488281, 177.74000549316, 179.5, 181.13999938965, 173.4700012207, 170.58000183105, 173.19999694824, 175.86000061035, 176.85000610352, 180.41999816895, 181.33000183105, 180.63000488281, 180.57000732422, 179.22999572754, 182.88000488281, 182.94000244141, 180.16999816895, 175.30000305176, 174.13999938965, 172.5, 175.17999267578, 177.17999267578, 176.61999511719, 173.7799987793, 172.53999328613, 171.08000183105, 169.67999267578, 166.33000183105, 162.30000305176, 162.75999450684, 164.38999938965, 163.83999633789, 170.35000610352, 175, 174.83999633789, 175.88000488281, 176.24000549316, 174.10000610352, 173.94999694824, 175.35000610352, 176.64999389648, 175.47999572754, 173.08000183105, 169.58000183105, 172.94999694824, 173.33999633789, 171.91000366211, 170.53999328613, 166.69000244141, 166.14999389648, 162.85000610352, 165.11999511719, 165.41999816895, 166.60000610352, 167.36000061035, 168.91000366211, 165.55000305176, 165.02000427246, 162.88000488281, 163.41000366211, 160.38999938965, 159.2799987793, 154.11999511719, 155.57000732422, 160, 161, 164.47999572754, 166.35000610352, 169.41999816895, 172.63999938965, 174.13999938965, 175.2799987793, 175.72999572754, 179.00999450684, 179.61000061035, 178.0299987793, 174.88000488281, 178.49000549316, 178.30000305176, 173.63000488281, 173.36000061035, 171.7799987793, 169.0299987793, 169.86999511719, 171.03999328613, 171.27000427246, 166.60000610352, 167.82000732422, 168.88000488281, 171.5299987793, 167.86999511719, 163.16999816895, 162.33999633789, 159.78999328613, 164.50999450684, 166.19999694824, 158.22999572754, 160.71000671387, 166.47999572754, 164.08000183105, 159.44000244141, 155.83000183105, 156.74000549316, 155.44999694824, 146.19999694824, 148.10000610352, 147.51989746094, 149.77000427246, 147.36010742188, 141.66000366211, 140.69999694824, 143.25999450684, 141.9700012207, 141.78500366211, 144.33999633789, 149.67999267578, 150.66000366211, 151.74000549316, 151.27000427246, 147.9700012207, 148.56889343262, 149, 149.8697052002, 147.94999694824, 140.75999450684], 'l': [35.770000457764, 35.680000305176, 35.599998474121, 35.729999542236, 35.840000152588, 36.090000152588, 36.200000762939, 36.360000610352, 36.830001831055, 37.139999389648, 37.169998168945, 37.490001678467, 37.549999237061, 37.220001220703, 37.479999542236, 37.950000762939, 38.270000457764, 36.830001831055, 37.299999237061, 37.029998779297, 37.099998474121, 39.040000915527, 38.759998321533, 38.919998168945, 39.169998168945, 39.569999694824, 39.779998779297, 38.659999847412, 39.020000457764, 39.689998626709, 40.029998779297, 40.040000915527, 39.459999084473, 39.180000305176, 38.779998779297, 39.509998321533, 39.720001220703, 39.639999389648, 39.819999694824, 39.979999542236, 40, 40.650001525879, 40.869998931885, 40.909999847412, 40.139999389648, 40.130001068115, 40.090000152588, 39.630001068115, 39.970001220703, 39.689998626709, 39.479999542236, 39.520000457764, 39.5, 39.5, 39.610000610352, 38.459999084473, 38.189998626709, 37.639999389648, 37.290000915527, 37.919998168945, 38.380001068115, 38.169998168945, 38, 38.180000305176, 38.479999542236, 38.119998931885, 38.509998321533, 38.639999389648, 38.869998931885, 38.770000457764, 38.939998626709, 38.930000305176, 39.099998474121, 39.409999847412, 39.810001373291, 39.900001525879, 38.759998321533, 38.990001678467, 38.880001068115, 39.049999237061, 38.819999694824, 39.200000762939, 39.669998168945, 40.930000305176, 41.729999542236, 41.400001525879, 41.319999694824, 42.779998779297, 42.930000305176, 43.400001525879, 43.580001831055, 43.279998779297, 43.569999694824, 43.349998474121, 42.799999237061, 42.090000152588, 42.580001831055, 42.409999847412, 42.389999389648, 42.700000762939, 43.259998321533, 43.659999847412, 43.340000152588, 42.970001220703, 41.790000915527, 42.110000610352, 42.119998931885, 42.409999847412, 42.099998474121, 41.619998931885, 42.229999542236, 42.200000762939, 42.200000762939, 42.869998931885, 43, 42.909999847412, 43.119998931885, 43.720001220703, 43.520000457764, 43.310001373291, 43.520000457764, 43.619998931885, 42.419998168945, 42.430000305176, 42.619998931885, 42.299999237061, 42.310001373291, 42.990001678467, 43.020000457764, 43.259998321533, 43.479999542236, 43.349998474121, 43.25, 43.619998931885, 43.909999847412, 44.029998779297, 43.770000457764, 44.560001373291, 44.349998474121, 44.150001525879, 44.200000762939, 43.299999237061, 42.630001068115, 42.520000457764, 41.770000457764, 41.169998168945, 41.619998931885, 41.689998626709, 40.020000457764, 39, 38.5, 39.770000457764, 38.759998321533, 37.560001373291, 39.380001068115, 40.409999847412, 40.720001220703, 42.25, 42.939998626709, 42.849998474121, 42.75, 42.930000305176, 43.380001068115, 44.049999237061, 44.540000915527, 44.509998321533, 43.159999847412, 43.110000610352, 43.630001068115, 44.029998779297, 43.569999694824, 43.770000457764, 44.349998474121, 45.049999237061, 44.810001373291, 44.450000762939, 44.520000457764, 44.409999847412, 43.409999847412, 43.729999542236, 42.810001373291, 42.150001525879, 41.229999542236, 41.610000610352, 41.729999542236, 41.299999237061, 41.729999542236, 41.119998931885, 41.220001220703, 41.189998626709, 43.020000457764, 42.049999237061, 42.459999084473, 42.880001068115, 42.919998168945, 43.259998321533, 43.459999084473, 43.709999084473, 44.099998474121, 44.220001220703, 43.159999847412, 41.360000610352, 41.020000457764, 40.310001373291, 40.599998474121, 40.840000152588, 40.159999847412, 40.459999084473, 41.319999694824, 43.450000762939, 43.610000610352, 44.540000915527, 46.189998626709, 45.919998168945, 46.299999237061, 46.909999847412, 46.860000610352, 46.970001220703, 46.270000457764, 46.5, 46.590000152588, 46.529998779297, 46.729999542236, 46.700000762939, 46.439998626709, 46.549999237061, 46.909999847412, 46.720001220703, 46.700000762939, 46.529998779297, 46.939998626709, 47.840000152588, 48.090000152588, 47.979999542236, 48.080001831055, 47.439998626709, 47.549999237061, 47.790000915527, 47.610000610352, 47.549999237061, 47.060001373291, 46.799999237061, 45.860000610352, 46.430000305176, 46.229999542236, 46.169998168945, 45.180000305176, 45.630001068115, 46.009998321533, 45.950000762939, 45.729999542236, 45.849998474121, 45.880001068115, 46.069999694824, 46.299999237061, 47.330001831055, 47.549999237061, 46.900001525879, 47.330001831055, 47.729999542236, 47.599998474121, 47.299999237061, 47.479999542236, 47.419998168945, 47.540000915527, 47.389999389648, 48.009998321533, 48.110000610352, 48.400001525879, 47.520000457764, 47.270000457764, 47.340000152588, 49.330001831055, 50.090000152588, 51.369998931885, 51.770000457764, 51.689998626709, 51.130001068115, 51.799999237061, 51.669998168945, 51.919998168945, 52.060001373291, 52.080001831055, 52.869998931885, 53.290000915527, 53.779998779297, 53.509998321533, 53.459999084473, 53.650001525879, 53.779998779297, 54.080001831055, 54.729999542236, 54.849998474121, 55.599998474121, 56.5, 56.659999847412, 56.270000457764, 55.330001831055, 55.180000305176, 54.119998931885, 54.139999389648, 54.959999084473, 55.639999389648, 55.630001068115, 54.319999694824, 54.279998779297, 53.830001831055, 54.790000915527, 54.319999694824, 54.159999847412, 54.919998168945, 54.939998626709, 55.880001068115, 56.009998321533, 56.590000152588, 56.659999847412, 57.450000762939, 56.680000305176, 55.150001525879, 55.049999237061, 55.560001373291, 54.009998321533, 53.080001831055, 54.209999084473, 54.319999694824, 54.189998626709, 54.840000152588, 53.25, 54.360000610352, 54.729999542236, 53.669998168945, 53.630001068115, 54.189998626709, 53.169998168945, 51.520000457764, 52.319999694824, 54.159999847412, 54.200000762939, 51.360000610352, 49.540000915527, 50.419998168945, 51.029998779297, 51.689998626709, 50.560001373291, 48.450000762939, 47.860000610352, 46.479999542236, 46.729999542236, 47.369998931885, 46.25, 43.880001068115, 44.139999389648, 43.020000457764, 42.560001373291, 42.720001220703, 43.729999542236, 44.419998168945, 44.259998321533, 45.299999237061, 44.069999694824, 42.599998474121, 42.080001831055, 40.830001831055, 41.75, 42.259998321533, 42.389999389648, 41.319999694824, 40.680000305176, 41.099998474121, 39.770000457764, 38.830001831055, 37.409999847412, 36.650001525879, 36.680000305176, 37.520000457764, 38.639999389648, 39.119998931885, 38.560001373291, 35.5, 35.950000762939, 36.479999542236, 37.130001068115, 37.409999847412, 37.720001220703, 37.880001068115, 37.299999237061, 37.509998321533, 38.25, 38.310001373291, 39, 38.159999847412, 37.919998168945, 37.939998626709, 38.580001831055, 38.409999847412, 38.529998779297, 40.060001373291, 41.139999389648, 41.479999542236, 41.819999694824, 43.090000152588, 43.209999084473, 42.590000152588, 42.099998474121, 42.310001373291, 42.419998168945, 42.479999542236, 42.340000152588, 42.439998626709, 42.369998931885, 42.75, 42.580001831055, 42.840000152588, 43.490001678467, 43.290000915527, 43.180000305176, 43.229999542236, 43.220001220703, 43.490001678467, 43.630001068115, 43.479999542236, 43.009998321533, 42.380001068115, 43.840000152588, 44.840000152588, 45.229999542236, 45.639999389648, 45.939998626709, 46.450000762939, 46.479999542236, 46.180000305176, 47.450000762939, 47.700000762939, 46.650001525879, 46.150001525879, 46.639999389648, 46.880001068115, 47.130001068115, 47.090000152588, 47.759998321533, 48.290000915527, 48.279998779297, 48.979999542236, 49.090000152588, 49.810001373291, 49.549999237061, 49.610000610352, 49.049999237061, 49.5, 49.639999389648, 49.650001525879, 50.630001068115, 50.590000152588, 50.979999542236, 51.759998321533, 51.279998779297, 50.529998779297, 50.970001220703, 49.779998779297, 52.310001373291, 52.029998779297, 52.560001373291, 50.880001068115, 50.209999084473, 50.439998626709, 49.159999847412, 48.189998626709, 45.709999084473, 46.349998474121, 46.509998321533, 47.209999084473, 46.689998626709, 45.069999694824, 46.169998168945, 45.639999389648, 44.450000762939, 44.659999847412, 44.479999542236, 44, 44.169998168945, 43.75, 42.569999694824, 43.630001068115, 45.279998779297, 45.540000915527, 46.439998626709, 47.909999847412, 48.400001525879, 48.349998474121, 48.400001525879, 47.580001831055, 48.040000915527, 48.799999237061, 49.330001831055, 49.509998321533, 49.540000915527, 49.540000915527, 48.819999694824, 49.340000152588, 49.889999389648, 49.259998321533, 50.159999847412, 50.340000152588, 50.669998168945, 50.729999542236, 49.599998474121, 49.700000762939, 50.389999389648, 50.430000305176, 50.549999237061, 51, 50.880001068115, 50.819999694824, 50.919998168945, 50.590000152588, 50.900001525879, 51.819999694824, 51.790000915527, 51.680000305176, 51.779998779297, 52.110000610352, 51.830001831055, 52.830001831055, 51.689998626709, 50.409999847412, 48.150001525879, 48.509998321533, 48.450000762939, 49.849998474121, 49.819999694824, 49.790000915527, 50.209999084473, 50.650001525879, 49.919998168945, 50.959999084473, 52.509998321533, 52.580001831055, 52.900001525879, 52.689998626709, 50.25, 51.259998321533, 50.880001068115, 50.830001831055, 51.659999847412, 51.799999237061, 51.049999237061, 51.830001831055, 52.880001068115, 53.130001068115, 52.770000457764, 52.930000305176, 54.430000305176, 55.720001220703, 54.259998321533, 54.389999389648, 54.779998779297, 54.860000610352, 55.090000152588, 54.369998931885, 54.409999847412, 54.299999237061, 54.290000915527, 54.709999084473, 54.319999694824, 55.200000762939, 56.049999237061, 54.479999542236, 53.779998779297, 55.970001220703, 56.459999084473, 56.080001831055, 56.409999847412, 56.830001831055, 58.080001831055, 58.669998168945, 58.720001220703, 58.299999237061, 58.380001068115, 58.569999694824, 59.330001831055, 59.909999847412, 60.299999237061, 60.450000762939, 60.720001220703, 61.680000305176, 60.639999389648, 60.299999237061, 59.310001373291, 62.290000915527, 63.840000152588, 64.080001831055, 63.840000152588, 64.529998779297, 64.209999084473, 64.569999694824, 65.230003356934, 65.269996643066, 65.529998779297, 65.75, 66.059997558594, 66.349998474121, 65.099998474121, 65.300003051758, 65.209999084473, 65.629997253418, 65.620002746582, 66.330001831055, 66.470001220703, 65.860000610352, 64.069999694824, 65.169998168945, 65.680000305176, 66.830001831055, 66.230003356934, 66.470001220703, 67.120002746582, 66.830001831055, 67.730003356934, 69.25, 69.699996948242, 69.779998779297, 69.73999786377, 69.639999389648, 70.089996337891, 70.730003356934, 71.169998168945, 72.029998779297, 71.309997558594, 72.379997253418, 73.800003051758, 74.120002746582, 73.190002441406, 74.370002746582, 74.290000915527, 76.550003051758, 77.059997558594, 77.790000915527, 78.040000915527, 77.389999389648, 78.019996643066, 78.75, 79, 79.330001831055, 78.910003662109, 79.379997253418, 76.220001220703, 78.050003051758, 80.339996337891, 79.690002441406, 77.069999694824, 75.559997558594, 78.410003662109, 79.73999786377, 80.069999694824, 79.5, 78.459999084473, 79.680000305176, 80.370002746582, 80.839996337891, 80.709999084473, 78.650001525879, 80, 79.550003051758, 77.620002746582, 72.309997558594, 71.529998779297, 71.620002746582, 68.23999786377, 64.089996337891, 69.430000305176, 71.449996948242, 73.279998779297, 72.849998474121, 70.309997558594, 65.75, 67.339996337891, 67.970001220703, 62, 63.240001678467, 60, 59.599998474121, 59.279998779297, 60.650001525879, 57, 53.150001525879, 58.580001831055, 61.080001831055, 61.590000152588, 61.759998321533, 62.349998474121, 63, 59.779998779297, 59.229999542236, 59.740001678467, 62.340000152588, 64.75, 65.309997558594, 66.169998168945, 66.459999084473, 69.51000213623, 70.160003662109, 70.589996337891, 69.220001220703, 69.209999084473, 66.360000610352, 68.050003051758, 68.720001220703, 69.25, 69.98999786377, 69.550003051758, 70.970001220703, 72.089996337891, 71.459999084473, 71.580001831055, 73.610000610352, 74.720001220703, 75.48999786377, 76.069999694824, 76.809997558594, 77.730003356934, 75.800003051758, 75.379997253418, 75.050003051758, 77.580001831055, 78.25, 79.050003051758, 78.970001220703, 78.839996337891, 79.120002746582, 78.269996643066, 78.910003662109, 79.120002746582, 79.300003051758, 79.730003356934, 80.580001831055, 80.190002441406, 80.809997558594, 81.830001831055, 83, 86.519996643066, 83.870002746582, 83.559997558594, 83.139999389648, 86.180000305176, 87.769996643066, 87.309997558594, 86.290000915527, 87.790000915527, 90.569999694824, 89.629997253418, 89.389999389648, 88.25, 87.819999694824, 90, 90.980003356934, 90.910003662109, 92.470001220703, 93.059997558594, 94.089996337891, 94.669998168945, 94.709999084473, 95.26000213623, 93.879997253418, 96.48999786377, 95.910003662109, 95.839996337891, 96.059997558594, 96.73999786377, 96.599998474121, 92.01000213623, 89.139999389648, 93.480003356934, 93.25, 93.709999084473, 93.769996643066, 100.83000183105, 107.88999938965, 108.38999938965, 108.90000152588, 109.80000305176, 110.29000091553, 110, 109.11000061035, 110.30000305176, 113.93000030518, 113.05000305176, 113.95999908447, 114.01000213623, 115.61000061035, 115.73000335693, 119.25, 123.94000244141, 123.05000305176, 125.08000183105, 123.83000183105, 124.58000183105, 126, 130.5299987793, 127, 120.5, 110.88999938965, 112.68000030518, 115.26000213623, 112.5, 110, 112.80000305176, 113.61000061035, 112.04000091553, 108.70999908447, 106.08999633789, 103.09999847412, 109.16000366211, 106.76999664307, 105, 107.66999816895, 112.7799987793, 113.56999969482, 113.62000274658, 115.83000183105, 112.2200012207, 113.55000305176, 112.25, 114.12999725342, 114.58999633789, 114.91999816895, 119.2799987793, 119.65000152588, 119.62000274658, 118.15000152588, 118.80999755859, 115.66000366211, 115.62999725342, 116.44999694824, 114.58999633789, 114.2799987793, 112.87999725342, 114.54000091553, 111.09999847412, 112.19999694824, 107.7200012207, 107.31999969482, 108.73000335693, 112.34999847412, 116.87000274658, 116.12999725342, 116.05000305176, 114.12999725342, 116.44000244141, 118.56999969482, 117.87000274658, 118.15000152588, 118.95999908447, 118, 116.80999755859, 117.29000091553, 113.75, 112.58999633789, 115.16999816895, 116.2200012207, 116.80999755859, 120.01000213623, 120.88999938965, 122.20999908447, 121.51999664307, 122.25, 123.08999633789, 121, 120.15000152588, 120.55000305176, 121.54000091553, 124.12999725342, 126.55999755859, 128.03999328613, 126.12000274658, 123.44999694824, 129.64999389648, 130.7799987793, 131.10000610352, 133.50999450684, 134.33999633789, 133.39999389648, 131.7200012207, 126.76000213623, 128.42999267578, 126.37999725342, 127.86000061035, 130.22999572754, 128.5, 126.86000061035, 128.49000549316, 128.75999450684, 127, 126.94000244141, 128.55000305176, 133.58999633789, 135.02000427246, 136.53999328613, 141.36999511719, 140.41000366211, 136.69999694824, 130.21000671387, 130.92999267578, 134.61000061035, 133.61000061035, 134.58999633789, 135.86000061035, 134.91999816895, 135.85000610352, 134.39999389648, 133.77000427246, 133.69000244141, 132.78999328613, 129.4700012207, 127.41000366211, 128.80000305176, 125.59999847412, 118.38999938965, 122.23000335693, 120.54000091553, 121.19999694824, 122.79000091553, 125.01000213623, 121.83999633789, 118.62000274658, 117.56999969482, 116.20999908447, 118.79000091553, 119.44999694824, 121.26000213623, 119.16000366211, 120.41999816895, 124.7200012207, 122.33999633789, 120.31999969482, 119.66999816895, 120.26000213623, 122.13999938965, 120.05999755859, 119, 118.91999816895, 120.73000335693, 118.86000061035, 121.15000152588, 122.48999786377, 123.06999969482, 125.65000152588, 125.13999938965, 128.52000427246, 129.4700012207, 130.63000488281, 131.92999267578, 131.66000366211, 133.63999938965, 133.2799987793, 133.33999633789, 131.80999755859, 131.30000305176, 131.41000366211, 132.16000366211, 133.55999755859, 134.11000061035, 133.08000183105, 132.44999694824, 131.05999755859, 131.83000183105, 126.69999694824, 127.9700012207, 127.12999725342, 129.4700012207, 126.80999755859, 122.76999664307, 122.25, 124.26000213623, 125.84999847412, 125.16999816895, 124.7799987793, 122.86000061035, 125.09999847412, 125.20999908447, 125.94000244141, 126.31999969482, 126.41999816895, 125.08000183105, 124.55000305176, 123.94000244141, 124.05000305176, 123.12999725342, 123.84999847412, 124.83000183105, 126.20999908447, 126.51999664307, 125.94000244141, 126.09999847412, 127.06999969482, 129.38999938965, 128.46000671387, 129.64999389648, 130.24000549316, 129.21000671387, 131.61999511719, 133.22999572754, 132.92999267578, 132.80999755859, 133.35000610352, 134.35000610352, 135.86999511719, 135.75999450684, 137.75, 140.07000732422, 142.66000366211, 140.66000366211, 142.64999389648, 144, 143.63000488281, 147.67999267578, 147.08999633789, 145.88000488281, 141.66999816895, 142.96000671387, 144.63000488281, 145.80999755859, 146.91999816895, 147.69999694824, 145.55000305176, 142.53999328613, 144.58000183105, 144.11000061035, 145.25, 145.17999267578, 146.2799987793, 146.16999816895, 145.63000488281, 145.52000427246, 145.30000305176, 145.5299987793, 145.83999633789, 148.27000427246, 146.4700012207, 149.08999633789, 146.14999389648, 144.5, 146.7799987793, 147.88999938965, 149.14999389648, 147.80000305176, 147.50999450684, 146.83000183105, 148.61000061035, 151.28999328613, 152.33999633789, 152.39999389648, 153.08999633789, 154.38999938965, 153.9700012207, 153.94999694824, 148.69999694824, 148.75, 146.91000366211, 146.36999511719, 147.2200012207, 145.75999450684, 141.27000427246, 142.7799987793, 143.69999694824, 145.63999938965, 145.55999755859, 143.82000732422, 141.69000244141, 142.0299987793, 141.2799987793, 139.11000061035, 138.27000427246, 139.36000061035, 138.36999511719, 142.7200012207, 142.55999755859, 141.80999755859, 141.03999328613, 139.19999694824, 141.50999450684, 143.50999450684, 143.16000366211, 146.55000305176, 148.11999511719, 147.86999511719, 148.63999938965, 147.61999511719, 149.00999450684, 148.49000549316, 149.7200012207, 146.41000366211, 147.80000305176, 148.64999389648, 149.82000732422, 150.63999938965, 150.05999755859, 150.16000366211, 150.05999755859, 147.85000610352, 147.67999267578, 147.47999572754, 149.42999267578, 149.33999633789, 150.99000549316, 153.05000305176, 156.5299987793, 161, 159.05999755859, 159.63999938965, 156.36000061035, 158.78999328613, 159.91999816895, 164.5299987793, 157.80000305176, 159.7200012207, 164.2799987793, 168.33999633789, 170.69999694824, 173.91999816895, 174.69000244141, 175.5299987793, 172.21000671387, 172.30999755859, 170.75, 169.69000244141, 167.46000671387, 169.11999511719, 172.14999389648, 175.27000427246, 177.07000732422, 178.5299987793, 178.13999938965, 178.08999633789, 177.25999450684, 177.71000671387, 179.11999511719, 174.63999938965, 171.63999938965, 171.0299987793, 168.16999816895, 170.82000732422, 174.82000732422, 171.78999328613, 171.08999633789, 169.41000366211, 165.94000244141, 164.17999267578, 162.30000305176, 154.69999694824, 157.02000427246, 157.82000732422, 158.2799987793, 162.80000305176, 169.50999450684, 172.30999755859, 173.33000183105, 172.11999511719, 170.67999267578, 170.94999694824, 171.42999267578, 174.89999389648, 171.55000305176, 168.03999328613, 166.55999755859, 170.25, 170.05000305176, 168.4700012207, 166.19000244141, 162.14999389648, 159.75, 152, 160.86999511719, 162.42999267578, 161.9700012207, 162.94999694824, 165.55000305176, 162.10000610352, 159.03999328613, 155.80000305176, 159.41000366211, 155.97999572754, 154.5, 150.10000610352, 150.38000488281, 154.46000671387, 157.63000488281, 159.75999450684, 163.00999450684, 164.91000366211, 167.64999389648, 170.21000671387, 172.75, 172, 176.33999633789, 176.69999694824, 174.39999389648, 171.94000244141, 174.44000244141, 174.41000366211, 170.13000488281, 169.85000610352, 169.19999694824, 165.5, 166.63999938965, 166.77000427246, 165.03999328613, 163.57000732422, 163.91000366211, 166.10000610352, 165.91000366211, 161.5, 158.46000671387, 156.7200012207, 155.38000488281, 158.92999267578, 157.25, 153.27000427246, 156.32000732422, 159.25999450684, 154.94999694824, 154.17999267578, 151.49000549316, 152.92999267578, 145.80999755859, 138.80000305176, 143.11000061035, 144.17999267578, 146.67999267578, 139.89999389648, 136.60000610352, 132.61000061035, 137.64999389648, 137.33000183105, 138.33999633789, 137.13999938965, 145.25999450684, 146.83999633789, 147.67999267578, 146.86000061035, 144.46000671387, 144.89999389648, 144.10000610352, 147.46000671387, 142.5299987793, 137.05999755859], 'v': [57111392, 86278224, 96515128, 76806848, 84362544, 79127344, 99537912, 100797488, 80528240, 95173824, 71475168, 83691872, 68974992, 105010520, 85972640, 75415728, 63123804, 129905344, 68854608, 79383680, 141474576, 279747200, 108389184, 82239408, 87481280, 144823584, 104526120, 163217088, 105028384, 88490936, 117861952, 110686448, 111762256, 109712272, 105474112, 86418336, 77596320, 79275672, 101920256, 103863888, 118067640, 109078336, 107140384, 66364204, 118145256, 86606904, 87714008, 114446144, 126323192, 286856192, 179629440, 95042992, 196458400, 113077744, 83242528, 211805456, 150046640, 186581776, 177549344, 146640176, 102016912, 88021824, 105199240, 74795368, 64921172, 80655000, 85135072, 69630232, 65051692, 62468056, 67622560, 64500216, 65576752, 96485808, 75989104, 65496656, 170336672, 95896584, 87937312, 71028920, 84828392, 68001872, 177816640, 178803088, 144187312, 134551040, 165573488, 237594528, 140105216, 97445936, 97638112, 117930384, 100582000, 67928320, 99129952, 116632280, 94549936, 87598176, 65049788, 100525184, 102355696, 56106692, 82867208, 105715208, 166665456, 166108864, 159037152, 130169536, 109400616, 114240000, 102693232, 93420928, 141095040, 77636920, 95273792, 81906160, 160677232, 117684456, 109745792, 93902592, 83799584, 65397776, 132742144, 85992848, 65920748, 103999688, 102223736, 118071600, 89738384, 94640072, 82271064, 86335984, 95839584, 74670912, 101672320, 118263792, 137547344, 124773408, 129700272, 108434208, 130756584, 204420352, 166116016, 156572048, 202561632, 184192736, 129915720, 188923152, 346375296, 290954080, 272975360, 206434320, 217562064, 282690432, 243278160, 130196656, 162579728, 204588688, 160704368, 135722160, 149886496, 123967760, 135249440, 152648704, 155712496, 151128544, 195207872, 153815808, 113605464, 95154024, 126813848, 95096432, 128740648, 128828320, 126774112, 117473424, 90975192, 157618752, 133787088, 78597400, 148219744, 165963072, 164115136, 150164944, 163690320, 166674176, 153594016, 150347168, 121112184, 138421952, 107732784, 140021152, 116070872, 114456960, 89726560, 91557136, 100497024, 86313680, 106421768, 83018152, 139235200, 261964560, 146061904, 134768064, 113528336, 111852056, 142623360, 169709696, 214277504, 266157488, 136272720, 224805264, 169805696, 113611104, 92844960, 111957152, 104848880, 83115088, 94780640, 76732256, 69176112, 73190912, 73603152, 60962816, 80233664, 92935904, 69843856, 90056304, 74762192, 109931168, 93770040, 105064696, 86263856, 83734480, 85388720, 106627200, 73233840, 67644560, 86553568, 86440296, 246876640, 73939456, 134313824, 82514800, 102847592, 108801792, 126652384, 98276800, 101141312, 69460944, 90950664, 70925376, 55819224, 66416992, 69940976, 79026536, 63756596, 75325880, 72164528, 50079168, 60172440, 62138092, 65573524, 81147008, 82824168, 63957460, 74791592, 67305936, 76303856, 96095888, 84118144, 157492160, 271742848, 249616048, 133789584, 101701552, 102349552, 90101952, 93970504, 98444808, 103563520, 82992040, 115230256, 114001472, 141707984, 121150784, 104639024, 76072528, 75532896, 73905424, 82100464, 91107064, 109019216, 195175296, 173360544, 109560528, 133331840, 137159904, 150479232, 158065808, 142996192, 197114960, 166825504, 127997152, 148780528, 126286848, 108495328, 106435176, 384987008, 110773432, 98217520, 95938824, 120724912, 91717456, 94403208, 99152680, 114619200, 128168000, 134321856, 118655696, 107564112, 167962208, 212497568, 161351408, 123164032, 116735856, 91541584, 130325264, 132314904, 115168328, 155071392, 163700656, 119423072, 189033504, 183742080, 146639968, 153435728, 233292720, 365314624, 264654672, 127531520, 133697736, 101450544, 137463008, 204542080, 187531744, 243203824, 185915200, 147713008, 167683488, 271300992, 124496840, 94495888, 179994080, 165549504, 184250160, 167079968, 158126192, 163192000, 165377120, 172393632, 169126528, 248103968, 189126656, 142510688, 127591312, 162814848, 177151680, 135366080, 196189184, 259091840, 382977536, 148676928, 234330176, 212468256, 169165696, 140013856, 148158944, 365248768, 234428288, 219111056, 164101248, 180396320, 143122688, 108092960, 129756744, 114841296, 122278824, 119284640, 135004096, 121575880, 92522280, 101766192, 134191568, 104768232, 166348960, 244439120, 162958592, 130672552, 125982328, 144406512, 112958368, 126966760, 95279864, 83973696, 89134096, 89960928, 87342992, 98507256, 75891304, 104457448, 68998680, 75652616, 87493432, 68280848, 111341552, 112861664, 103544672, 109744816, 78949680, 83241536, 99185496, 95997432, 128044136, 129870336, 124130096, 94318032, 156171648, 104879328, 126585472, 124140928, 204136944, 169630656, 175381168, 199202144, 119393712, 83121456, 94255840, 111447856, 91062928, 93087320, 76457104, 74106576, 103526784, 143072944, 86781152, 83603232, 111042672, 70146584, 102785536, 115627120, 96783064, 77758176, 93291968, 70162432, 74172824, 74596408, 88818864, 186139696, 259309312, 127985296, 83569512, 129772448, 155054784, 105358016, 139634432, 164834848, 229722496, 146118704, 106178872, 132125456, 131516360, 154449152, 113459392, 118994224, 146118944, 94858744, 111792640, 113924656, 84873648, 108174336, 161584272, 123871840, 119093712, 90105248, 122737568, 104883408, 107731528, 73012752, 86698496, 75045896, 58676576, 106204016, 84496944, 86055952, 191202352, 72881680, 84281336, 104270048, 83598864, 124442568, 109266960, 67740864, 45448180, 69062072, 101354512, 82312064, 71588552, 80767368, 70380848, 67789680, 67467264, 56429800, 74328640, 83717232, 89111728, 73420840, 59966268, 55638248, 70475496, 86693552, 135742880, 277125440, 216071680, 163448480, 209571872, 143299152, 133457600, 108038096, 98478984, 89927552, 190159136, 146189776, 111533456, 115254496, 97727664, 107678112, 86258992, 89071280, 187531376, 104264520, 103589376, 63830528, 84030608, 84650240, 80238296, 76867280, 95787936, 77449176, 109237600, 127111728, 177158592, 128906672, 159053184, 84632560, 73545872, 102572368, 88751504, 231908384, 77678592, 125737472, 89924024, 76353248, 101445136, 105274336, 144748656, 143069024, 121410744, 139022208, 123557072, 117130800, 76117696, 115851936, 167960832, 97653936, 92161936, 77146776, 69091584, 97508664, 89469936, 90736000, 79730176, 71665024, 73477184, 96572960, 142839472, 124522088, 139162080, 151125344, 103271808, 79897712, 75864496, 94940336, 70081984, 82029840, 87388904, 103270368, 89582224, 100374664, 86803584, 76278384, 106439680, 121395112, 65325052, 84118064, 105339528, 65544488, 46617452, 94774200, 117509072, 67241552, 74645376, 106189968, 128730576, 90529536, 78893568, 137748160, 133731224, 128324416, 114303192, 116098752, 98507792, 276130976, 98711536, 48478856, 93336016, 146371744, 144238464, 100990496, 135647456, 146535520, 118578576, 111510624, 132363784, 170486176, 140869088, 122086888, 162613824, 121923528, 108829016, 137816464, 110843256, 101832464, 104471968, 146537520, 161940016, 162233952, 216599712, 126743232, 199588384, 173985600, 136616544, 118826872, 105425536, 117684048, 109348864, 94323120, 113730288, 94747568, 80113792, 152762176, 93983968, 100565952, 129705664, 222195312, 230673456, 198713728, 320605536, 426884928, 341397344, 319475392, 219178272, 187572880, 226176992, 286744832, 285290080, 256379872, 418474080, 370732128, 322423456, 324055872, 300233632, 271857024, 401693376, 336752832, 287531104, 303602048, 252560672, 204216608, 167976448, 197002000, 176218560, 165933968, 129880064, 201820288, 202887328, 168895280, 162116496, 131022928, 194994688, 131154560, 157125152, 215249920, 130015000, 180991568, 117057368, 124814328, 126508736, 117087568, 112004752, 137280816, 183063872, 240616704, 133567944, 147751184, 142333760, 115215056, 134047936, 145946240, 162301056, 200622560, 158929072, 166348384, 135372496, 101729536, 111504864, 102688848, 81803016, 125521816, 112945096, 133796416, 153598128, 81018608, 87642816, 104491216, 87560368, 137250208, 95654536, 147712368, 166651744, 201662448, 200146048, 138808928, 165428736, 114406504, 96820384, 264475808, 135445264, 212155472, 192623392, 137522512, 205256848, 130646080, 140223280, 110737232, 114041472, 118655648, 112424456, 117091880, 125642608, 90257320, 191649136, 170989360, 153197936, 110577672, 92186896, 90317904, 103645840, 89001648, 197004432, 185438864, 121214192, 103625504, 90329256, 158130016, 374295456, 308151392, 172792368, 121991952, 202428896, 198045616, 212403424, 187902368, 165944816, 210082064, 165565216, 119561440, 105633536, 145538016, 126907184, 338054656, 345937760, 211495792, 163022272, 155552384, 187629920, 225702688, 152470144, 200118992, 257599648, 332607168, 231366560, 176940448, 182274384, 180860320, 140150080, 184642032, 155026672, 178010976, 287104896, 195713808, 183055376, 150718672, 167743344, 149981440, 137672400, 100060528, 142675184, 116120440, 144711984, 106243840, 161498208, 96848984, 83477152, 100506864, 240226768, 262330448, 151062304, 112559216, 115393808, 120639336, 124423728, 89945984, 101987952, 82572648, 111850656, 92276768, 143937824, 146129168, 190573472, 122866896, 107624448, 138235488, 126387072, 114457920, 154515312, 138023392, 112294952, 103350672, 81688584, 91183016, 74270976, 76322112, 74112976, 73604288, 127959320, 113874216, 76499232, 46691332, 169410176, 128166800, 89004192, 78967632, 78260424, 86711992, 82225512, 115089192, 81312168, 86939784, 79075984, 157572256, 98208592, 94359808, 192541504, 121251552, 169351824, 88223696, 54930064, 124486240, 121047328, 96452128, 99116584, 143301888, 97664896, 155087968, 109578160, 105158248, 100620880, 91951144, 88636832, 90221752, 111598528, 90757328, 104319488, 120529544, 114459360, 157611712, 98390552, 140843760, 142621120, 177523808, 106239824, 83305368, 89880936, 84183064, 75693832, 71297216, 76774216, 73046560, 64280028, 60145128, 80576320, 98085248, 96856752, 87668832, 103916416, 158273024, 111039904, 148199536, 164560400, 116307888, 102260944, 112966336, 178154976, 153766608, 154376608, 129525776, 111943328, 103026512, 88105048, 92590552, 115227936, 111932640, 121469752, 185549520, 111912288, 95467144, 88530488, 98844680, 94071232, 80819200, 85671920, 118323824, 75089136, 88651176, 80171256, 83466720, 88844592, 106686704, 91419984, 91266544, 87222784, 89347104, 84922384, 94264216, 94812352, 68847136, 84566456, 78756776, 66905068, 66015804, 107760096, 151100960, 109839464, 75135104, 137564720, 84000896, 78128336, 78973272, 88071232, 126142824, 112172280, 105861336, 81917952, 74244624, 63342928, 92611992, 76857120, 79295440, 63092944, 72009480, 56575920, 94625600, 71311112, 67637120, 59278864, 76229168, 75169344, 71057552, 74403776, 56877936, 71186424, 53522372, 96906488, 62746332, 91815024, 96721672, 108953312, 79663312, 74783616, 60214200, 68711000, 70783744, 62111304, 64556080, 63261392, 52485780, 78945568, 108181792, 104911592, 105575456, 99890800, 76299720, 100827096, 127050784, 106820296, 93251424, 121434568, 96350032, 74993456, 77338160, 71447416, 72434088, 104818576, 118931192, 56699476, 70440624, 62879960, 64786616, 56368272, 46397672, 54126812, 48908688, 69023080, 48493464, 73779112, 59375008, 103558784, 92229736, 86325992, 86960312, 60549632, 60131808, 48606428, 58991296, 48597196, 55802388, 90956720, 86453120, 80313712, 71171320, 57866064, 82278264, 74420208, 57305728, 140893232, 102404328, 109296296, 83281312, 68034152, 129868824, 123478864, 75833960, 76404344, 64838168, 53477868, 74150728, 108972336, 74602048, 89056664, 94639584, 98322008, 80861064, 83221120, 61732656, 58773156, 64452220, 73035856, 78762720, 69907104, 67940336, 85589176, 76378896, 58418788, 61420992, 58883444, 50720556, 60893396, 56094928, 100077888, 124953168, 74588256, 69121984, 54511536, 60394616, 65463884, 55020868, 56787928, 65187092, 40999952, 63804008, 59222804, 59256208, 88807000, 137827680, 117305600, 117467888, 96041896, 69463624, 76959752, 88748216, 174048064, 152423008, 136739168, 118023120, 107496984, 120405352, 116998904, 108923736, 115402728, 153237024, 139380384, 131063256, 150185840, 195923440, 107499112, 91185904, 92135304, 68356568, 74919584, 79144336, 62348932, 59773016, 64062260, 104701216, 99310440, 94537600, 96903952, 86709144, 106765552, 76138312, 74805176, 84505760, 80440784, 91168728, 94814992, 91420512, 122848856, 162706688, 115798368, 108275312, 121954640, 179935664, 115541592, 86213912, 84914256, 89418072, 82465400, 77251200, 74829216, 71285040, 90865896, 98670688, 86185528, 64286320, 61177400, 69589344, 82772672, 91162760, 90009248, 141147536, 91974224, 95056632, 83474424, 79724752, 76678440, 83819592, 96418848, 131148280, 91454904, 105342032, 96970104, 108732112, 92964304, 102300160, 75615376, 123511696, 95811352, 81532008, 98062672, 90131416, 80546160, 90371920, 100589440, 92633152, 103049288, 78751328, 76545984, 73401784, 89058784, 77594648, 76575504, 72246704, 79265184, 70618928, 75329376, 69023944, 67723832, 67929816, 87227768, 84882424, 96046376, 95623240, 88063192, 130216792, 131747568, 123055264, 88966528, 108256504, 130525272, 116124648, 131577920, 115366736, 142689824, 182602048, 113990848, 85571000, 76166000, 108926000, 136096000, 137426000, 116074000, 103552000, 91843000, 90348000, 90979000, 103320000, 74046000, 72096000, 88570000, 71598000, 67126000, 53698000, 68691000, 91164000], 'vo': [0, 0, 0, 0, 0, 0, 0, 0, 0, 0, 0, 0, 0, 0, 0, 0, 0, 0, 0, 0, 0, 0, 0, 0, 0, 0, 0, 0, 0, 0, 0, 0, 0, 0, 0, 0, 0, 0, 0, 0, 0, 0, 0, 0, 0, 0, 0, 0, 0, 0, 0, 0, 0, 0, 0, 0, 0, 0, 0, 0, 0, 0, 0, 0, 0, 0, 0, 0, 0, 0, 0, 0, 0, 0, 0, 0, 0, 0, 0, 0, 0, 0, 0, 0, 0, 0, 0, 0, 0, 0, 0, 0, 0, 0, 0, 0, 0, 0, 0, 0, 0, 0, 0, 0, 0, 0, 0, 0, 0, 0, 0, 0, 0, 0, 0, 0, 0, 0, 0, 0, 0, 0, 0, 0, 0, 0, 0, 0, 0, 0, 0, 0, 0, 0, 0, 0, 0, 0, 0, 0, 0, 0, 0, 0, 0, 0, 0, 0, 0, 0, 0, 0, 0, 0, 0, 0, 0, 0, 0, 0, 0, 0, 0, 0, 0, 0, 0, 0, 0, 0, 0, 0, 0, 0, 0, 0, 0, 0, 0, 0, 0, 0, 0, 0, 0, 0, 0, 0, 0, 0, 0, 0, 0, 0, 0, 0, 0, 0, 0, 0, 0, 0, 0, 0, 0, 0, 0, 0, 0, 0, 0, 0, 0, 0, 0, 0, 0, 0, 0, 0, 0, 0, 0, 0, 0, 0, 0, 0, 0, 0, 0, 0, 0, 0, 0, 0, 0, 0, 0, 0, 0, 0, 0, 0, 0, 0, 0, 0, 0, 0, 0, 0, 0, 0, 0, 0, 0, 0, 0, 0, 0, 0, 0, 0, 0, 0, 0, 0, 0, 0, 0, 0, 0, 0, 0, 0, 0, 0, 0, 0, 0, 0, 0, 0, 0, 0, 0, 0, 0, 0, 0, 0, 0, 0, 0, 0, 0, 0, 0, 0, 0, 0, 0, 0, 0, 0, 0, 0, 0, 0, 0, 0, 0, 0, 0, 0, 0, 0, 0, 0, 0, 0, 0, 0, 0, 0, 0, 0, 0, 0, 0, 0, 0, 0, 0, 0, 0, 0, 0, 0, 0, 0, 0, 0, 0, 0, 0, 0, 0, 0, 0, 0, 0, 0, 0, 0, 0, 0, 0, 0, 0, 0, 0, 0, 0, 0, 0, 0, 0, 0, 0, 0, 0, 0, 0, 0, 0, 0, 0, 0, 0, 0, 0, 0, 0, 0, 0, 0, 0, 0, 0, 0, 0, 0, 0, 0, 0, 0, 0, 0, 0, 0, 0, 0, 0, 0, 0, 0, 0, 0, 0, 0, 0, 0, 0, 0, 0, 0, 0, 0, 0, 0, 0, 0, 0, 0, 0, 0, 0, 0, 0, 0, 0, 0, 0, 0, 0, 0, 0, 0, 0, 0, 0, 0, 0, 0, 0, 0, 0, 0, 0, 0, 0, 0, 0, 0, 0, 0, 0, 0, 0, 0, 0, 0, 0, 0, 0, 0, 0, 0, 0, 0, 0, 0, 0, 0, 0, 0, 0, 0, 0, 0, 0, 0, 0, 0, 0, 0, 0, 0, 0, 0, 0, 0, 0, 0, 0, 0, 0, 0, 0, 0, 0, 0, 0, 0, 0, 0, 0, 0, 0, 0, 0, 0, 0, 0, 0, 0, 0, 0, 0, 0, 0, 0, 0, 0, 0, 0, 0, 0, 0, 0, 0, 0, 0, 0, 0, 0, 0, 0, 0, 0, 0, 0, 0, 0, 0, 0, 0, 0, 0, 0, 0, 0, 0, 0, 0, 0, 0, 0, 0, 0, 0, 0, 0, 0, 0, 0, 0, 0, 0, 0, 0, 0, 0, 0, 0, 0, 0, 0, 0, 0, 0, 0, 0, 0, 0, 0, 0, 0, 0, 0, 0, 0, 0, 0, 0, 0, 0, 0, 0, 0, 0, 0, 0, 0, 0, 0, 0, 0, 0, 0, 0, 0, 0, 0, 0, 0, 0, 0, 0, 0, 0, 0, 0, 0, 0, 0, 0, 0, 0, 0, 0, 0, 0, 0, 0, 0, 0, 0, 0, 0, 0, 0, 0, 0, 0, 0, 0, 0, 0, 0, 0, 0, 0, 0, 0, 0, 0, 0, 0, 0, 0, 0, 0, 0, 0, 0, 0, 0, 0, 0, 0, 0, 0, 0, 0, 0, 0, 0, 0, 0, 0, 0, 0, 0, 0, 0, 0, 0, 0, 0, 0, 0, 0, 0, 0, 0, 0, 0, 0, 0, 0, 0, 0, 0, 0, 0, 0, 0, 0, 0, 0, 0, 0, 0, 0, 0, 0, 0, 0, 0, 0, 0, 0, 0, 0, 0, 0, 0, 0, 0, 0, 0, 0, 0, 0, 0, 0, 0, 0, 0, 0, 0, 0, 0, 0, 0, 0, 0, 0, 0, 0, 0, 0, 0, 0, 0, 0, 0, 0, 0, 0, 0, 0, 0, 0, 0, 0, 0, 0, 0, 0, 0, 0, 0, 0, 0, 0, 0, 0, 0, 0, 0, 0, 0, 0, 0, 0, 0, 0, 0, 0, 0, 0, 0, 0, 0, 0, 0, 0, 0, 0, 0, 0, 0, 0, 0, 0, 0, 0, 0, 0, 0, 0, 0, 0, 0, 0, 0, 0, 0, 0, 0, 0, 0, 0, 0, 0, 0, 0, 0, 0, 0, 0, 0, 0, 0, 0, 0, 0, 0, 0, 0, 0, 0, 0, 0, 0, 0, 0, 0, 0, 0, 0, 0, 0, 0, 0, 0, 0, 0, 0, 0, 0, 0, 0, 0, 0, 0, 0, 0, 0, 0, 0, 0, 0, 0, 0, 0, 0, 0, 0, 0, 0, 0, 0, 0, 0, 0, 0, 0, 0, 0, 0, 0, 0, 0, 0, 0, 0, 0, 0, 0, 0, 0, 0, 0, 0, 0, 0, 0, 0, 0, 0, 0, 0, 0, 0, 0, 0, 0, 0, 0, 0, 0, 0, 0, 0, 0, 0, 0, 0, 0, 0, 0, 0, 0, 0, 0, 0, 0, 0, 0, 0, 0, 0, 0, 0, 0, 0, 0, 0, 0, 0, 0, 0, 0, 0, 0, 0, 0, 0, 0, 0, 0, 0, 0, 0, 0, 0, 0, 0, 0, 0, 0, 0, 0, 0, 0, 0, 0, 0, 0, 0, 0, 0, 0, 0, 0, 0, 0, 0, 0, 0, 0, 0, 0, 0, 0, 0, 0, 0, 0, 0, 0, 0, 0, 0, 0, 0, 0, 0, 0, 0, 0, 0, 0, 0, 0, 0, 0, 0, 0, 0, 0, 0, 0, 0, 0, 0, 0, 0, 0, 0, 0, 0, 0, 0, 0, 0, 0, 0, 0, 0, 0, 0, 0, 0, 0, 0, 0, 0, 0, 0, 0, 0, 0, 0, 0, 0, 0, 0, 0, 0, 0, 0, 0, 0, 0, 0, 0, 0, 0, 0, 0, 0, 0, 0, 0, 0, 0, 0, 0, 0, 0, 0, 0, 0, 0, 0, 0, 0, 0, 0, 0, 0, 0, 0, 0, 0, 0, 0, 0, 0, 0, 0, 0, 0, 0, 0, 0, 0, 0, 0, 0, 0, 0, 0, 0, 0, 0, 0, 0, 0, 0, 0, 0, 0, 0, 0, 0, 0, 0, 0, 0, 0, 0, 0, 0, 0, 0, 0, 0, 0, 0, 0, 0, 0, 0, 0, 0, 0, 0, 0, 0, 0, 0, 0, 0, 0, 0, 0, 0, 0, 0, 0, 0, 0, 0, 0, 0, 0, 0, 0, 0, 0, 0, 0, 0, 0, 0, 0, 0, 0, 0, 0, 0, 0, 0, 0, 0, 0, 0, 0, 0, 0, 0, 0, 0, 0, 0, 0, 0, 0, 0, 0, 0, 0, 0, 0, 0, 0, 0, 0, 0, 0, 0, 0, 0, 0, 0, 0, 0, 0, 0, 0, 0, 0, 0, 0, 0, 0, 0, 0, 0, 0, 0, 0, 0, 0, 0, 0, 0, 0], 's': 'ok'}\n"
     ]
    }
   ],
   "source": [
    "for i in range(len(price_1['t'])):\n",
    "    price_1['t'][i] = datetime.fromtimestamp(price_1['t'][i])\n",
    "\n",
    "print(price_1)\n",
    "    \n",
    "Df_price = pd.DataFrame({\n",
    "    'Time' : price_1['t'],\n",
    "    'Opened' : price_1['o'],\n",
    "    'Closed' : price_1['c'],\n",
    "    'High' : price_1['h'],\n",
    "    'Low' : price_1['l'],\n",
    "    'Volume' : price_1['v']\n",
    "})\n",
    "\n",
    "Df_price.to_csv('./day_data/AAPL.csv')"
   ]
  },
  {
   "cell_type": "code",
   "execution_count": null,
   "id": "ab028ac8-0d3e-4334-bcf7-d4331034385c",
   "metadata": {},
   "outputs": [],
   "source": [
    "with open(\"500_Crawl/corporate.txt\", \"r\") as f:\n",
    "    lines = f.readlines()"
   ]
  },
  {
   "cell_type": "code",
   "execution_count": null,
   "id": "d361aea8-e5b8-4e90-9cd8-77fc95331cea",
   "metadata": {
    "scrolled": true,
    "tags": []
   },
   "outputs": [
    {
     "name": "stderr",
     "output_type": "stream",
     "text": [
      "  0%|                                           | 1/504 [00:01<11:10,  1.33s/it]"
     ]
    },
    {
     "name": "stdout",
     "output_type": "stream",
     "text": [
      "MMM\n"
     ]
    },
    {
     "name": "stderr",
     "output_type": "stream",
     "text": [
      "  0%|▏                                          | 2/504 [00:02<09:35,  1.15s/it]"
     ]
    },
    {
     "name": "stdout",
     "output_type": "stream",
     "text": [
      "AOS\n"
     ]
    },
    {
     "name": "stderr",
     "output_type": "stream",
     "text": [
      "  1%|▎                                          | 3/504 [00:03<09:52,  1.18s/it]"
     ]
    },
    {
     "name": "stdout",
     "output_type": "stream",
     "text": [
      "ABT\n"
     ]
    },
    {
     "name": "stderr",
     "output_type": "stream",
     "text": [
      "  1%|▎                                          | 4/504 [00:04<10:00,  1.20s/it]"
     ]
    },
    {
     "name": "stdout",
     "output_type": "stream",
     "text": [
      "ABBV\n"
     ]
    },
    {
     "name": "stderr",
     "output_type": "stream",
     "text": [
      "  1%|▍                                          | 5/504 [00:06<10:02,  1.21s/it]"
     ]
    },
    {
     "name": "stdout",
     "output_type": "stream",
     "text": [
      "ABMD\n"
     ]
    },
    {
     "name": "stderr",
     "output_type": "stream",
     "text": [
      "  1%|▌                                          | 6/504 [00:07<10:15,  1.24s/it]"
     ]
    },
    {
     "name": "stdout",
     "output_type": "stream",
     "text": [
      "ACN\n"
     ]
    },
    {
     "name": "stderr",
     "output_type": "stream",
     "text": [
      "  1%|▌                                          | 7/504 [00:08<10:20,  1.25s/it]"
     ]
    },
    {
     "name": "stdout",
     "output_type": "stream",
     "text": [
      "ATVI\n"
     ]
    },
    {
     "name": "stderr",
     "output_type": "stream",
     "text": [
      "  2%|▋                                          | 8/504 [00:09<08:15,  1.00it/s]"
     ]
    },
    {
     "name": "stdout",
     "output_type": "stream",
     "text": [
      "ADM\n"
     ]
    },
    {
     "name": "stderr",
     "output_type": "stream",
     "text": [
      "  2%|▊                                          | 9/504 [00:10<08:42,  1.05s/it]"
     ]
    },
    {
     "name": "stdout",
     "output_type": "stream",
     "text": [
      "ADBE\n"
     ]
    },
    {
     "name": "stderr",
     "output_type": "stream",
     "text": [
      "  2%|▊                                         | 10/504 [00:10<07:39,  1.08it/s]"
     ]
    },
    {
     "name": "stdout",
     "output_type": "stream",
     "text": [
      "ADP\n"
     ]
    },
    {
     "name": "stderr",
     "output_type": "stream",
     "text": [
      "  2%|▉                                         | 11/504 [00:12<08:18,  1.01s/it]"
     ]
    },
    {
     "name": "stdout",
     "output_type": "stream",
     "text": [
      "AAP\n"
     ]
    },
    {
     "name": "stderr",
     "output_type": "stream",
     "text": [
      "  2%|█                                         | 12/504 [00:13<08:33,  1.04s/it]"
     ]
    },
    {
     "name": "stdout",
     "output_type": "stream",
     "text": [
      "AES\n"
     ]
    },
    {
     "name": "stderr",
     "output_type": "stream",
     "text": [
      "  3%|█                                         | 13/504 [00:14<09:30,  1.16s/it]"
     ]
    },
    {
     "name": "stdout",
     "output_type": "stream",
     "text": [
      "AFL\n"
     ]
    },
    {
     "name": "stderr",
     "output_type": "stream",
     "text": [
      "  3%|█▏                                        | 14/504 [00:15<09:24,  1.15s/it]"
     ]
    },
    {
     "name": "stdout",
     "output_type": "stream",
     "text": [
      "A\n"
     ]
    },
    {
     "name": "stderr",
     "output_type": "stream",
     "text": [
      "  3%|█▎                                        | 15/504 [00:16<09:04,  1.11s/it]"
     ]
    },
    {
     "name": "stdout",
     "output_type": "stream",
     "text": [
      "AIG\n"
     ]
    },
    {
     "name": "stderr",
     "output_type": "stream",
     "text": [
      "  3%|█▎                                        | 16/504 [00:18<09:19,  1.15s/it]"
     ]
    },
    {
     "name": "stdout",
     "output_type": "stream",
     "text": [
      "APD\n"
     ]
    },
    {
     "name": "stderr",
     "output_type": "stream",
     "text": [
      "  3%|█▍                                        | 17/504 [00:19<10:01,  1.24s/it]"
     ]
    },
    {
     "name": "stdout",
     "output_type": "stream",
     "text": [
      "AKAM\n"
     ]
    },
    {
     "name": "stderr",
     "output_type": "stream",
     "text": [
      "  4%|█▌                                        | 18/504 [00:20<09:27,  1.17s/it]"
     ]
    },
    {
     "name": "stdout",
     "output_type": "stream",
     "text": [
      "ALK\n"
     ]
    },
    {
     "name": "stderr",
     "output_type": "stream",
     "text": [
      "  4%|█▌                                        | 19/504 [00:21<09:32,  1.18s/it]"
     ]
    },
    {
     "name": "stdout",
     "output_type": "stream",
     "text": [
      "ALB\n"
     ]
    },
    {
     "name": "stderr",
     "output_type": "stream",
     "text": [
      "  4%|█▊                                        | 21/504 [00:22<06:35,  1.22it/s]"
     ]
    },
    {
     "name": "stdout",
     "output_type": "stream",
     "text": [
      "ARE\n",
      "ALGN\n"
     ]
    },
    {
     "name": "stderr",
     "output_type": "stream",
     "text": [
      "  5%|█▉                                        | 23/504 [00:23<03:54,  2.05it/s]"
     ]
    },
    {
     "name": "stdout",
     "output_type": "stream",
     "text": [
      "ALLE\n",
      "LNT\n"
     ]
    },
    {
     "name": "stderr",
     "output_type": "stream",
     "text": [
      "  5%|██                                        | 25/504 [00:23<02:48,  2.85it/s]"
     ]
    },
    {
     "name": "stdout",
     "output_type": "stream",
     "text": [
      "ALL\n",
      "GOOGL\n"
     ]
    },
    {
     "name": "stderr",
     "output_type": "stream",
     "text": [
      "  5%|██▏                                       | 26/504 [00:23<02:28,  3.22it/s]"
     ]
    },
    {
     "name": "stdout",
     "output_type": "stream",
     "text": [
      "GOOG\n"
     ]
    },
    {
     "name": "stderr",
     "output_type": "stream",
     "text": [
      "  6%|██▎                                       | 28/504 [00:24<02:19,  3.41it/s]"
     ]
    },
    {
     "name": "stdout",
     "output_type": "stream",
     "text": [
      "MO\n",
      "AMZN\n"
     ]
    },
    {
     "name": "stderr",
     "output_type": "stream",
     "text": [
      "  6%|██▍                                       | 29/504 [00:24<02:08,  3.71it/s]"
     ]
    },
    {
     "name": "stdout",
     "output_type": "stream",
     "text": [
      "AMCR\n"
     ]
    },
    {
     "name": "stderr",
     "output_type": "stream",
     "text": [
      "  6%|██▌                                       | 30/504 [00:25<04:39,  1.70it/s]"
     ]
    },
    {
     "name": "stdout",
     "output_type": "stream",
     "text": [
      "AMD\n"
     ]
    },
    {
     "name": "stderr",
     "output_type": "stream",
     "text": [
      "  6%|██▌                                       | 31/504 [00:27<05:53,  1.34it/s]"
     ]
    },
    {
     "name": "stdout",
     "output_type": "stream",
     "text": [
      "AEE\n"
     ]
    },
    {
     "name": "stderr",
     "output_type": "stream",
     "text": [
      "  6%|██▋                                       | 32/504 [00:28<07:01,  1.12it/s]"
     ]
    },
    {
     "name": "stdout",
     "output_type": "stream",
     "text": [
      "AAL\n"
     ]
    },
    {
     "name": "stderr",
     "output_type": "stream",
     "text": [
      "  7%|██▊                                       | 33/504 [00:29<07:39,  1.02it/s]"
     ]
    },
    {
     "name": "stdout",
     "output_type": "stream",
     "text": [
      "AEP\n"
     ]
    },
    {
     "name": "stderr",
     "output_type": "stream",
     "text": [
      "  7%|██▊                                       | 34/504 [00:30<08:37,  1.10s/it]"
     ]
    },
    {
     "name": "stdout",
     "output_type": "stream",
     "text": [
      "AXP\n"
     ]
    },
    {
     "name": "stderr",
     "output_type": "stream",
     "text": [
      "  7%|██▉                                       | 35/504 [00:32<09:09,  1.17s/it]"
     ]
    },
    {
     "name": "stdout",
     "output_type": "stream",
     "text": [
      "AMT\n"
     ]
    },
    {
     "name": "stderr",
     "output_type": "stream",
     "text": [
      "  7%|███                                       | 37/504 [00:33<06:34,  1.18it/s]"
     ]
    },
    {
     "name": "stdout",
     "output_type": "stream",
     "text": [
      "AWK\n",
      "AMP\n"
     ]
    },
    {
     "name": "stderr",
     "output_type": "stream",
     "text": [
      "  8%|███▏                                      | 38/504 [00:33<04:55,  1.58it/s]"
     ]
    },
    {
     "name": "stdout",
     "output_type": "stream",
     "text": [
      "ABC\n"
     ]
    },
    {
     "name": "stderr",
     "output_type": "stream",
     "text": [
      "  8%|███▎                                      | 40/504 [00:33<03:14,  2.38it/s]"
     ]
    },
    {
     "name": "stdout",
     "output_type": "stream",
     "text": [
      "AME\n",
      "AMGN\n"
     ]
    },
    {
     "name": "stderr",
     "output_type": "stream",
     "text": [
      "  8%|███▍                                      | 41/504 [00:34<03:07,  2.47it/s]"
     ]
    },
    {
     "name": "stdout",
     "output_type": "stream",
     "text": [
      "APH\n"
     ]
    },
    {
     "name": "stderr",
     "output_type": "stream",
     "text": [
      "  8%|███▌                                      | 42/504 [00:34<02:43,  2.83it/s]"
     ]
    },
    {
     "name": "stdout",
     "output_type": "stream",
     "text": [
      "ADI\n"
     ]
    },
    {
     "name": "stderr",
     "output_type": "stream",
     "text": [
      "  9%|███▌                                      | 43/504 [00:34<02:46,  2.76it/s]"
     ]
    },
    {
     "name": "stdout",
     "output_type": "stream",
     "text": [
      "ANSS\n"
     ]
    },
    {
     "name": "stderr",
     "output_type": "stream",
     "text": [
      "  9%|███▋                                      | 44/504 [00:36<04:23,  1.74it/s]"
     ]
    },
    {
     "name": "stdout",
     "output_type": "stream",
     "text": [
      "ANTM\n"
     ]
    },
    {
     "name": "stderr",
     "output_type": "stream",
     "text": [
      "  9%|███▊                                      | 45/504 [00:36<04:10,  1.83it/s]"
     ]
    },
    {
     "name": "stdout",
     "output_type": "stream",
     "text": [
      "AON\n"
     ]
    },
    {
     "name": "stderr",
     "output_type": "stream",
     "text": [
      "  9%|███▊                                      | 46/504 [00:37<05:47,  1.32it/s]"
     ]
    },
    {
     "name": "stdout",
     "output_type": "stream",
     "text": [
      "APA\n"
     ]
    },
    {
     "name": "stderr",
     "output_type": "stream",
     "text": [
      "  9%|███▉                                      | 47/504 [00:38<05:17,  1.44it/s]"
     ]
    },
    {
     "name": "stdout",
     "output_type": "stream",
     "text": [
      "AAPL\n"
     ]
    },
    {
     "name": "stderr",
     "output_type": "stream",
     "text": [
      " 10%|████                                      | 48/504 [00:38<04:09,  1.83it/s]"
     ]
    },
    {
     "name": "stdout",
     "output_type": "stream",
     "text": [
      "AMAT\n"
     ]
    },
    {
     "name": "stderr",
     "output_type": "stream",
     "text": [
      " 10%|████▏                                     | 50/504 [00:39<03:25,  2.20it/s]"
     ]
    },
    {
     "name": "stdout",
     "output_type": "stream",
     "text": [
      "APTV\n",
      "ANET\n"
     ]
    },
    {
     "name": "stderr",
     "output_type": "stream",
     "text": [
      " 10%|████▎                                     | 51/504 [00:39<03:04,  2.45it/s]"
     ]
    },
    {
     "name": "stdout",
     "output_type": "stream",
     "text": [
      "AIZ\n"
     ]
    },
    {
     "name": "stderr",
     "output_type": "stream",
     "text": [
      " 10%|████▎                                     | 52/504 [00:39<03:01,  2.49it/s]"
     ]
    },
    {
     "name": "stdout",
     "output_type": "stream",
     "text": [
      "T\n"
     ]
    },
    {
     "name": "stderr",
     "output_type": "stream",
     "text": [
      " 11%|████▍                                     | 53/504 [00:40<02:36,  2.89it/s]"
     ]
    },
    {
     "name": "stdout",
     "output_type": "stream",
     "text": [
      "ATO\n"
     ]
    },
    {
     "name": "stderr",
     "output_type": "stream",
     "text": [
      " 11%|████▌                                     | 55/504 [00:40<02:04,  3.60it/s]"
     ]
    },
    {
     "name": "stdout",
     "output_type": "stream",
     "text": [
      "ADSK\n",
      "AZO\n"
     ]
    },
    {
     "name": "stderr",
     "output_type": "stream",
     "text": [
      " 11%|████▋                                     | 56/504 [00:40<01:53,  3.94it/s]"
     ]
    },
    {
     "name": "stdout",
     "output_type": "stream",
     "text": [
      "AVB\n"
     ]
    },
    {
     "name": "stderr",
     "output_type": "stream",
     "text": [
      " 11%|████▊                                     | 57/504 [00:41<01:48,  4.12it/s]"
     ]
    },
    {
     "name": "stdout",
     "output_type": "stream",
     "text": [
      "AVY\n"
     ]
    },
    {
     "name": "stderr",
     "output_type": "stream",
     "text": [
      " 12%|████▊                                     | 58/504 [00:41<01:44,  4.25it/s]"
     ]
    },
    {
     "name": "stdout",
     "output_type": "stream",
     "text": [
      "BKR\n",
      "BALL\n"
     ]
    },
    {
     "name": "stderr",
     "output_type": "stream",
     "text": [
      " 12%|█████                                     | 60/504 [00:41<01:18,  5.66it/s]"
     ]
    },
    {
     "name": "stdout",
     "output_type": "stream",
     "text": [
      "BAC\n",
      "BBWI\n"
     ]
    },
    {
     "name": "stderr",
     "output_type": "stream",
     "text": [
      " 12%|█████▏                                    | 62/504 [00:41<01:06,  6.69it/s]"
     ]
    },
    {
     "name": "stdout",
     "output_type": "stream",
     "text": [
      "BAX\n"
     ]
    },
    {
     "name": "stderr",
     "output_type": "stream",
     "text": [
      " 12%|█████▎                                    | 63/504 [00:41<01:14,  5.96it/s]"
     ]
    },
    {
     "name": "stdout",
     "output_type": "stream",
     "text": [
      "BDX\n"
     ]
    },
    {
     "name": "stderr",
     "output_type": "stream",
     "text": [
      " 13%|█████▎                                    | 64/504 [00:42<01:19,  5.56it/s]"
     ]
    },
    {
     "name": "stdout",
     "output_type": "stream",
     "text": [
      "WRB\n",
      "BRKB\n"
     ]
    },
    {
     "name": "stderr",
     "output_type": "stream",
     "text": [
      " 13%|█████▌                                    | 66/504 [00:42<01:05,  6.65it/s]"
     ]
    },
    {
     "name": "stdout",
     "output_type": "stream",
     "text": [
      "BBY\n"
     ]
    },
    {
     "name": "stderr",
     "output_type": "stream",
     "text": [
      " 13%|█████▌                                    | 67/504 [00:42<01:14,  5.90it/s]"
     ]
    },
    {
     "name": "stdout",
     "output_type": "stream",
     "text": [
      "BIO\n"
     ]
    },
    {
     "name": "stderr",
     "output_type": "stream",
     "text": [
      " 13%|█████▋                                    | 68/504 [00:42<01:22,  5.28it/s]"
     ]
    },
    {
     "name": "stdout",
     "output_type": "stream",
     "text": [
      "TECH\n"
     ]
    },
    {
     "name": "stderr",
     "output_type": "stream",
     "text": [
      " 14%|█████▊                                    | 69/504 [00:43<01:34,  4.60it/s]"
     ]
    },
    {
     "name": "stdout",
     "output_type": "stream",
     "text": [
      "BIIB\n"
     ]
    },
    {
     "name": "stderr",
     "output_type": "stream",
     "text": [
      " 14%|█████▊                                    | 70/504 [00:44<02:52,  2.52it/s]"
     ]
    },
    {
     "name": "stdout",
     "output_type": "stream",
     "text": [
      "BLK\n"
     ]
    },
    {
     "name": "stderr",
     "output_type": "stream",
     "text": [
      " 14%|██████                                    | 72/504 [00:44<02:11,  3.30it/s]"
     ]
    },
    {
     "name": "stdout",
     "output_type": "stream",
     "text": [
      "BK\n",
      "BA\n"
     ]
    },
    {
     "name": "stderr",
     "output_type": "stream",
     "text": [
      " 15%|██████▏                                   | 74/504 [00:45<03:14,  2.21it/s]"
     ]
    },
    {
     "name": "stdout",
     "output_type": "stream",
     "text": [
      "BKNG\n",
      "BWA\n"
     ]
    },
    {
     "name": "stderr",
     "output_type": "stream",
     "text": [
      " 15%|██████▎                                   | 76/504 [00:46<02:17,  3.11it/s]"
     ]
    },
    {
     "name": "stdout",
     "output_type": "stream",
     "text": [
      "BXP\n",
      "BSX\n"
     ]
    },
    {
     "name": "stderr",
     "output_type": "stream",
     "text": [
      " 15%|██████▍                                   | 77/504 [00:46<02:02,  3.50it/s]"
     ]
    },
    {
     "name": "stdout",
     "output_type": "stream",
     "text": [
      "BMY\n"
     ]
    },
    {
     "name": "stderr",
     "output_type": "stream",
     "text": [
      " 15%|██████▌                                   | 78/504 [00:46<01:53,  3.77it/s]"
     ]
    },
    {
     "name": "stdout",
     "output_type": "stream",
     "text": [
      "AVGO\n"
     ]
    },
    {
     "name": "stderr",
     "output_type": "stream",
     "text": [
      " 16%|██████▌                                   | 79/504 [00:46<01:45,  4.03it/s]"
     ]
    },
    {
     "name": "stdout",
     "output_type": "stream",
     "text": [
      "BR\n"
     ]
    },
    {
     "name": "stderr",
     "output_type": "stream",
     "text": [
      " 16%|██████▋                                   | 80/504 [00:48<03:49,  1.85it/s]"
     ]
    },
    {
     "name": "stdout",
     "output_type": "stream",
     "text": [
      "BRO\n",
      "BFB\n"
     ]
    },
    {
     "name": "stderr",
     "output_type": "stream",
     "text": [
      " 16%|██████▊                                   | 82/504 [00:49<03:38,  1.93it/s]"
     ]
    },
    {
     "name": "stdout",
     "output_type": "stream",
     "text": [
      "CHRW\n"
     ]
    },
    {
     "name": "stderr",
     "output_type": "stream",
     "text": [
      " 16%|██████▉                                   | 83/504 [00:50<04:35,  1.53it/s]"
     ]
    },
    {
     "name": "stdout",
     "output_type": "stream",
     "text": [
      "CDNS\n"
     ]
    },
    {
     "name": "stderr",
     "output_type": "stream",
     "text": [
      " 17%|███████                                   | 84/504 [00:51<05:25,  1.29it/s]"
     ]
    },
    {
     "name": "stdout",
     "output_type": "stream",
     "text": [
      "CZR\n"
     ]
    },
    {
     "name": "stderr",
     "output_type": "stream",
     "text": [
      " 17%|███████                                   | 85/504 [00:52<06:05,  1.14it/s]"
     ]
    },
    {
     "name": "stdout",
     "output_type": "stream",
     "text": [
      "CPT\n"
     ]
    },
    {
     "name": "stderr",
     "output_type": "stream",
     "text": [
      " 17%|███████▏                                  | 86/504 [00:53<06:58,  1.00s/it]"
     ]
    },
    {
     "name": "stdout",
     "output_type": "stream",
     "text": [
      "CPB\n"
     ]
    },
    {
     "name": "stderr",
     "output_type": "stream",
     "text": [
      " 17%|███████▎                                  | 87/504 [00:54<07:00,  1.01s/it]"
     ]
    },
    {
     "name": "stdout",
     "output_type": "stream",
     "text": [
      "COF\n"
     ]
    },
    {
     "name": "stderr",
     "output_type": "stream",
     "text": [
      " 17%|███████▎                                  | 88/504 [00:55<06:58,  1.00s/it]"
     ]
    },
    {
     "name": "stdout",
     "output_type": "stream",
     "text": [
      "CAH\n"
     ]
    },
    {
     "name": "stderr",
     "output_type": "stream",
     "text": [
      " 18%|███████▍                                  | 89/504 [00:57<07:39,  1.11s/it]"
     ]
    },
    {
     "name": "stdout",
     "output_type": "stream",
     "text": [
      "KMX\n"
     ]
    },
    {
     "name": "stderr",
     "output_type": "stream",
     "text": [
      " 18%|███████▌                                  | 90/504 [00:58<07:24,  1.07s/it]"
     ]
    },
    {
     "name": "stdout",
     "output_type": "stream",
     "text": [
      "CCL\n",
      "CARR\n"
     ]
    },
    {
     "name": "stderr",
     "output_type": "stream",
     "text": [
      " 18%|███████▋                                  | 92/504 [00:59<05:49,  1.18it/s]"
     ]
    },
    {
     "name": "stdout",
     "output_type": "stream",
     "text": [
      "CTLT\n"
     ]
    },
    {
     "name": "stderr",
     "output_type": "stream",
     "text": [
      " 18%|███████▊                                  | 93/504 [01:00<06:37,  1.03it/s]"
     ]
    },
    {
     "name": "stdout",
     "output_type": "stream",
     "text": [
      "CAT\n"
     ]
    },
    {
     "name": "stderr",
     "output_type": "stream",
     "text": [
      " 19%|███████▊                                  | 94/504 [01:01<06:37,  1.03it/s]"
     ]
    },
    {
     "name": "stdout",
     "output_type": "stream",
     "text": [
      "CBOE\n"
     ]
    },
    {
     "name": "stderr",
     "output_type": "stream",
     "text": [
      " 19%|████████                                  | 96/504 [01:02<04:57,  1.37it/s]"
     ]
    },
    {
     "name": "stdout",
     "output_type": "stream",
     "text": [
      "CBRE\n",
      "CDW\n"
     ]
    },
    {
     "name": "stderr",
     "output_type": "stream",
     "text": [
      " 19%|████████▏                                 | 98/504 [01:02<03:03,  2.21it/s]"
     ]
    },
    {
     "name": "stdout",
     "output_type": "stream",
     "text": [
      "CE\n",
      "CNC\n"
     ]
    },
    {
     "name": "stderr",
     "output_type": "stream",
     "text": [
      " 20%|████████▎                                 | 99/504 [01:03<04:10,  1.62it/s]"
     ]
    },
    {
     "name": "stdout",
     "output_type": "stream",
     "text": [
      "CNP\n",
      "CDAY\n"
     ]
    },
    {
     "name": "stderr",
     "output_type": "stream",
     "text": [
      " 20%|████████▏                                | 101/504 [01:05<03:49,  1.76it/s]"
     ]
    },
    {
     "name": "stdout",
     "output_type": "stream",
     "text": [
      "CF\n"
     ]
    },
    {
     "name": "stderr",
     "output_type": "stream",
     "text": [
      " 20%|████████▎                                | 102/504 [01:06<05:04,  1.32it/s]"
     ]
    },
    {
     "name": "stdout",
     "output_type": "stream",
     "text": [
      "CRL\n"
     ]
    },
    {
     "name": "stderr",
     "output_type": "stream",
     "text": [
      " 21%|████████▍                                | 104/504 [01:06<03:28,  1.92it/s]"
     ]
    },
    {
     "name": "stdout",
     "output_type": "stream",
     "text": [
      "SCHW\n",
      "CHTR\n"
     ]
    },
    {
     "name": "stderr",
     "output_type": "stream",
     "text": [
      " 21%|████████▌                                | 106/504 [01:07<02:22,  2.79it/s]"
     ]
    },
    {
     "name": "stdout",
     "output_type": "stream",
     "text": [
      "CVX\n",
      "CMG\n"
     ]
    },
    {
     "name": "stderr",
     "output_type": "stream",
     "text": [
      " 21%|████████▊                                | 108/504 [01:07<01:47,  3.68it/s]"
     ]
    },
    {
     "name": "stdout",
     "output_type": "stream",
     "text": [
      "CB\n",
      "CHD\n"
     ]
    },
    {
     "name": "stderr",
     "output_type": "stream",
     "text": [
      " 22%|████████▉                                | 110/504 [01:07<01:27,  4.50it/s]"
     ]
    },
    {
     "name": "stdout",
     "output_type": "stream",
     "text": [
      "CI\n",
      "CINF\n"
     ]
    },
    {
     "name": "stderr",
     "output_type": "stream",
     "text": [
      " 22%|█████████                                | 111/504 [01:08<01:30,  4.32it/s]"
     ]
    },
    {
     "name": "stdout",
     "output_type": "stream",
     "text": [
      "CTAS\n"
     ]
    },
    {
     "name": "stderr",
     "output_type": "stream",
     "text": [
      " 22%|█████████                                | 112/504 [01:09<03:02,  2.15it/s]"
     ]
    },
    {
     "name": "stdout",
     "output_type": "stream",
     "text": [
      "CSCO\n"
     ]
    },
    {
     "name": "stderr",
     "output_type": "stream",
     "text": [
      " 22%|█████████▏                               | 113/504 [01:10<04:54,  1.33it/s]"
     ]
    },
    {
     "name": "stdout",
     "output_type": "stream",
     "text": [
      "C\n"
     ]
    },
    {
     "name": "stderr",
     "output_type": "stream",
     "text": [
      " 23%|█████████▎                               | 114/504 [01:11<05:37,  1.16it/s]"
     ]
    },
    {
     "name": "stdout",
     "output_type": "stream",
     "text": [
      "CFG\n"
     ]
    },
    {
     "name": "stderr",
     "output_type": "stream",
     "text": [
      " 23%|█████████▎                               | 115/504 [01:13<06:30,  1.00s/it]"
     ]
    },
    {
     "name": "stdout",
     "output_type": "stream",
     "text": [
      "CTXS\n"
     ]
    },
    {
     "name": "stderr",
     "output_type": "stream",
     "text": [
      " 23%|█████████▍                               | 116/504 [01:14<07:07,  1.10s/it]"
     ]
    },
    {
     "name": "stdout",
     "output_type": "stream",
     "text": [
      "CLX\n"
     ]
    },
    {
     "name": "stderr",
     "output_type": "stream",
     "text": [
      " 23%|█████████▌                               | 117/504 [01:15<07:32,  1.17s/it]"
     ]
    },
    {
     "name": "stdout",
     "output_type": "stream",
     "text": [
      "CME\n"
     ]
    },
    {
     "name": "stderr",
     "output_type": "stream",
     "text": [
      " 23%|█████████▌                               | 118/504 [01:16<07:15,  1.13s/it]"
     ]
    },
    {
     "name": "stdout",
     "output_type": "stream",
     "text": [
      "CMS\n"
     ]
    },
    {
     "name": "stderr",
     "output_type": "stream",
     "text": [
      " 24%|█████████▋                               | 119/504 [01:17<07:14,  1.13s/it]"
     ]
    },
    {
     "name": "stdout",
     "output_type": "stream",
     "text": [
      "KO\n"
     ]
    },
    {
     "name": "stderr",
     "output_type": "stream",
     "text": [
      " 24%|█████████▊                               | 120/504 [01:18<06:49,  1.07s/it]"
     ]
    },
    {
     "name": "stdout",
     "output_type": "stream",
     "text": [
      "CTSH\n"
     ]
    },
    {
     "name": "stderr",
     "output_type": "stream",
     "text": [
      " 24%|█████████▊                               | 121/504 [01:19<06:43,  1.05s/it]"
     ]
    },
    {
     "name": "stdout",
     "output_type": "stream",
     "text": [
      "CL\n"
     ]
    },
    {
     "name": "stderr",
     "output_type": "stream",
     "text": [
      " 24%|█████████▉                               | 122/504 [01:20<06:50,  1.08s/it]"
     ]
    },
    {
     "name": "stdout",
     "output_type": "stream",
     "text": [
      "CMCSA\n"
     ]
    },
    {
     "name": "stderr",
     "output_type": "stream",
     "text": [
      " 24%|██████████                               | 123/504 [01:22<07:06,  1.12s/it]"
     ]
    },
    {
     "name": "stdout",
     "output_type": "stream",
     "text": [
      "CMA\n"
     ]
    },
    {
     "name": "stderr",
     "output_type": "stream",
     "text": [
      " 25%|██████████                               | 124/504 [01:23<07:06,  1.12s/it]"
     ]
    },
    {
     "name": "stdout",
     "output_type": "stream",
     "text": [
      "CAG\n"
     ]
    },
    {
     "name": "stderr",
     "output_type": "stream",
     "text": [
      " 25%|██████████▏                              | 125/504 [01:24<07:17,  1.15s/it]"
     ]
    },
    {
     "name": "stdout",
     "output_type": "stream",
     "text": [
      "COP\n"
     ]
    },
    {
     "name": "stderr",
     "output_type": "stream",
     "text": [
      " 25%|██████████▎                              | 126/504 [01:25<07:01,  1.12s/it]"
     ]
    },
    {
     "name": "stdout",
     "output_type": "stream",
     "text": [
      "ED\n"
     ]
    },
    {
     "name": "stderr",
     "output_type": "stream",
     "text": [
      " 25%|██████████▎                              | 127/504 [01:26<07:26,  1.18s/it]"
     ]
    },
    {
     "name": "stdout",
     "output_type": "stream",
     "text": [
      "STZ\n",
      "CEG\n"
     ]
    },
    {
     "name": "stderr",
     "output_type": "stream",
     "text": [
      " 26%|██████████▍                              | 129/504 [01:28<05:53,  1.06it/s]"
     ]
    },
    {
     "name": "stdout",
     "output_type": "stream",
     "text": [
      "COO\n"
     ]
    },
    {
     "name": "stderr",
     "output_type": "stream",
     "text": [
      " 26%|██████████▌                              | 130/504 [01:30<08:31,  1.37s/it]"
     ]
    },
    {
     "name": "stdout",
     "output_type": "stream",
     "text": [
      "CPRT\n"
     ]
    },
    {
     "name": "stderr",
     "output_type": "stream",
     "text": [
      " 26%|██████████▋                              | 131/504 [01:32<08:16,  1.33s/it]"
     ]
    },
    {
     "name": "stdout",
     "output_type": "stream",
     "text": [
      "GLW\n"
     ]
    },
    {
     "name": "stderr",
     "output_type": "stream",
     "text": [
      " 26%|██████████▋                              | 132/504 [01:33<07:54,  1.27s/it]"
     ]
    },
    {
     "name": "stdout",
     "output_type": "stream",
     "text": [
      "CTVA\n"
     ]
    },
    {
     "name": "stderr",
     "output_type": "stream",
     "text": [
      " 26%|██████████▊                              | 133/504 [01:34<07:48,  1.26s/it]"
     ]
    },
    {
     "name": "stdout",
     "output_type": "stream",
     "text": [
      "COST\n",
      "CTRA\n"
     ]
    },
    {
     "name": "stderr",
     "output_type": "stream",
     "text": [
      " 27%|██████████▉                              | 135/504 [01:35<06:15,  1.02s/it]"
     ]
    },
    {
     "name": "stdout",
     "output_type": "stream",
     "text": [
      "CCI\n"
     ]
    },
    {
     "name": "stderr",
     "output_type": "stream",
     "text": [
      " 27%|███████████                              | 136/504 [01:37<06:25,  1.05s/it]"
     ]
    },
    {
     "name": "stdout",
     "output_type": "stream",
     "text": [
      "CSX\n"
     ]
    },
    {
     "name": "stderr",
     "output_type": "stream",
     "text": [
      " 27%|███████████▏                             | 137/504 [01:38<06:50,  1.12s/it]"
     ]
    },
    {
     "name": "stdout",
     "output_type": "stream",
     "text": [
      "CMI\n"
     ]
    },
    {
     "name": "stderr",
     "output_type": "stream",
     "text": [
      " 27%|███████████▏                             | 138/504 [01:39<07:10,  1.18s/it]"
     ]
    },
    {
     "name": "stdout",
     "output_type": "stream",
     "text": [
      "CVS\n"
     ]
    },
    {
     "name": "stderr",
     "output_type": "stream",
     "text": [
      " 28%|███████████▎                             | 139/504 [01:40<06:53,  1.13s/it]"
     ]
    },
    {
     "name": "stdout",
     "output_type": "stream",
     "text": [
      "DHI\n"
     ]
    },
    {
     "name": "stderr",
     "output_type": "stream",
     "text": [
      " 28%|███████████▍                             | 140/504 [01:41<07:02,  1.16s/it]"
     ]
    },
    {
     "name": "stdout",
     "output_type": "stream",
     "text": [
      "DHR\n"
     ]
    },
    {
     "name": "stderr",
     "output_type": "stream",
     "text": [
      " 28%|███████████▍                             | 141/504 [01:43<07:19,  1.21s/it]"
     ]
    },
    {
     "name": "stdout",
     "output_type": "stream",
     "text": [
      "DRI\n"
     ]
    },
    {
     "name": "stderr",
     "output_type": "stream",
     "text": [
      " 28%|███████████▌                             | 142/504 [01:44<07:19,  1.21s/it]"
     ]
    },
    {
     "name": "stdout",
     "output_type": "stream",
     "text": [
      "DVA\n"
     ]
    },
    {
     "name": "stderr",
     "output_type": "stream",
     "text": [
      " 28%|███████████▋                             | 143/504 [01:45<07:27,  1.24s/it]"
     ]
    },
    {
     "name": "stdout",
     "output_type": "stream",
     "text": [
      "DE\n"
     ]
    },
    {
     "name": "stderr",
     "output_type": "stream",
     "text": [
      " 29%|███████████▋                             | 144/504 [01:46<07:07,  1.19s/it]"
     ]
    },
    {
     "name": "stdout",
     "output_type": "stream",
     "text": [
      "DAL\n"
     ]
    },
    {
     "name": "stderr",
     "output_type": "stream",
     "text": [
      " 29%|███████████▊                             | 145/504 [01:47<06:48,  1.14s/it]"
     ]
    },
    {
     "name": "stdout",
     "output_type": "stream",
     "text": [
      "XRAY\n"
     ]
    },
    {
     "name": "stderr",
     "output_type": "stream",
     "text": [
      " 29%|███████████▉                             | 146/504 [01:49<07:19,  1.23s/it]"
     ]
    },
    {
     "name": "stdout",
     "output_type": "stream",
     "text": [
      "DVN\n"
     ]
    },
    {
     "name": "stderr",
     "output_type": "stream",
     "text": [
      " 29%|███████████▉                             | 147/504 [01:50<07:17,  1.23s/it]"
     ]
    },
    {
     "name": "stdout",
     "output_type": "stream",
     "text": [
      "DXCM\n"
     ]
    },
    {
     "name": "stderr",
     "output_type": "stream",
     "text": [
      " 29%|████████████                             | 148/504 [01:51<07:27,  1.26s/it]"
     ]
    },
    {
     "name": "stdout",
     "output_type": "stream",
     "text": [
      "FANG\n"
     ]
    },
    {
     "name": "stderr",
     "output_type": "stream",
     "text": [
      " 30%|████████████                             | 149/504 [01:53<07:12,  1.22s/it]"
     ]
    },
    {
     "name": "stdout",
     "output_type": "stream",
     "text": [
      "DLR\n"
     ]
    },
    {
     "name": "stderr",
     "output_type": "stream",
     "text": [
      " 30%|████████████▏                            | 150/504 [01:54<07:12,  1.22s/it]"
     ]
    },
    {
     "name": "stdout",
     "output_type": "stream",
     "text": [
      "DFS\n"
     ]
    },
    {
     "name": "stderr",
     "output_type": "stream",
     "text": [
      " 30%|████████████▎                            | 151/504 [01:55<06:50,  1.16s/it]"
     ]
    },
    {
     "name": "stdout",
     "output_type": "stream",
     "text": [
      "DISH\n"
     ]
    },
    {
     "name": "stderr",
     "output_type": "stream",
     "text": [
      " 30%|████████████▎                            | 152/504 [01:56<07:17,  1.24s/it]"
     ]
    },
    {
     "name": "stdout",
     "output_type": "stream",
     "text": [
      "DIS\n"
     ]
    },
    {
     "name": "stderr",
     "output_type": "stream",
     "text": [
      " 30%|████████████▍                            | 153/504 [01:57<07:18,  1.25s/it]"
     ]
    },
    {
     "name": "stdout",
     "output_type": "stream",
     "text": [
      "DG\n"
     ]
    },
    {
     "name": "stderr",
     "output_type": "stream",
     "text": [
      " 31%|████████████▌                            | 154/504 [01:59<07:12,  1.24s/it]"
     ]
    },
    {
     "name": "stdout",
     "output_type": "stream",
     "text": [
      "DLTR\n"
     ]
    },
    {
     "name": "stderr",
     "output_type": "stream",
     "text": [
      " 31%|████████████▌                            | 155/504 [02:00<06:51,  1.18s/it]"
     ]
    },
    {
     "name": "stdout",
     "output_type": "stream",
     "text": [
      "D\n"
     ]
    },
    {
     "name": "stderr",
     "output_type": "stream",
     "text": [
      " 31%|████████████▋                            | 156/504 [02:01<07:45,  1.34s/it]"
     ]
    },
    {
     "name": "stdout",
     "output_type": "stream",
     "text": [
      "DPZ\n"
     ]
    },
    {
     "name": "stderr",
     "output_type": "stream",
     "text": [
      " 31%|████████████▊                            | 157/504 [02:03<07:32,  1.31s/it]"
     ]
    },
    {
     "name": "stdout",
     "output_type": "stream",
     "text": [
      "DOV\n"
     ]
    },
    {
     "name": "stderr",
     "output_type": "stream",
     "text": [
      " 31%|████████████▊                            | 158/504 [02:04<07:01,  1.22s/it]"
     ]
    },
    {
     "name": "stdout",
     "output_type": "stream",
     "text": [
      "DOW\n"
     ]
    },
    {
     "name": "stderr",
     "output_type": "stream",
     "text": [
      " 32%|████████████▉                            | 159/504 [02:05<06:41,  1.16s/it]"
     ]
    },
    {
     "name": "stdout",
     "output_type": "stream",
     "text": [
      "DTE\n"
     ]
    },
    {
     "name": "stderr",
     "output_type": "stream",
     "text": [
      " 32%|█████████████                            | 160/504 [02:06<06:25,  1.12s/it]"
     ]
    },
    {
     "name": "stdout",
     "output_type": "stream",
     "text": [
      "DUK\n"
     ]
    },
    {
     "name": "stderr",
     "output_type": "stream",
     "text": [
      " 32%|█████████████                            | 161/504 [02:07<06:25,  1.12s/it]"
     ]
    },
    {
     "name": "stdout",
     "output_type": "stream",
     "text": [
      "DRE\n"
     ]
    },
    {
     "name": "stderr",
     "output_type": "stream",
     "text": [
      " 32%|█████████████▏                           | 162/504 [02:08<06:45,  1.18s/it]"
     ]
    },
    {
     "name": "stdout",
     "output_type": "stream",
     "text": [
      "DD\n"
     ]
    },
    {
     "name": "stderr",
     "output_type": "stream",
     "text": [
      " 32%|█████████████▎                           | 163/504 [02:10<06:58,  1.23s/it]"
     ]
    },
    {
     "name": "stdout",
     "output_type": "stream",
     "text": [
      "DXC\n"
     ]
    },
    {
     "name": "stderr",
     "output_type": "stream",
     "text": [
      " 33%|█████████████▎                           | 164/504 [02:11<07:29,  1.32s/it]"
     ]
    },
    {
     "name": "stdout",
     "output_type": "stream",
     "text": [
      "EMN\n"
     ]
    },
    {
     "name": "stderr",
     "output_type": "stream",
     "text": [
      " 33%|█████████████▍                           | 165/504 [02:12<06:57,  1.23s/it]"
     ]
    },
    {
     "name": "stdout",
     "output_type": "stream",
     "text": [
      "ETN\n"
     ]
    },
    {
     "name": "stderr",
     "output_type": "stream",
     "text": [
      " 33%|█████████████▌                           | 166/504 [02:13<06:55,  1.23s/it]"
     ]
    },
    {
     "name": "stdout",
     "output_type": "stream",
     "text": [
      "EBAY\n"
     ]
    },
    {
     "name": "stderr",
     "output_type": "stream",
     "text": [
      " 33%|█████████████▌                           | 167/504 [02:16<08:38,  1.54s/it]"
     ]
    },
    {
     "name": "stdout",
     "output_type": "stream",
     "text": [
      "ECL\n"
     ]
    },
    {
     "name": "stderr",
     "output_type": "stream",
     "text": [
      " 33%|█████████████▋                           | 168/504 [02:17<07:45,  1.38s/it]"
     ]
    },
    {
     "name": "stdout",
     "output_type": "stream",
     "text": [
      "EIX\n"
     ]
    },
    {
     "name": "stderr",
     "output_type": "stream",
     "text": [
      " 34%|█████████████▋                           | 169/504 [02:18<07:38,  1.37s/it]"
     ]
    },
    {
     "name": "stdout",
     "output_type": "stream",
     "text": [
      "EW\n"
     ]
    },
    {
     "name": "stderr",
     "output_type": "stream",
     "text": [
      " 34%|█████████████▊                           | 170/504 [02:19<07:53,  1.42s/it]"
     ]
    },
    {
     "name": "stdout",
     "output_type": "stream",
     "text": [
      "EA\n"
     ]
    },
    {
     "name": "stderr",
     "output_type": "stream",
     "text": [
      " 34%|█████████████▉                           | 171/504 [02:21<07:23,  1.33s/it]"
     ]
    },
    {
     "name": "stdout",
     "output_type": "stream",
     "text": [
      "EMR\n"
     ]
    },
    {
     "name": "stderr",
     "output_type": "stream",
     "text": [
      " 34%|█████████████▉                           | 172/504 [02:22<07:11,  1.30s/it]"
     ]
    },
    {
     "name": "stdout",
     "output_type": "stream",
     "text": [
      "ENPH\n"
     ]
    },
    {
     "name": "stderr",
     "output_type": "stream",
     "text": [
      " 34%|██████████████                           | 173/504 [02:23<07:03,  1.28s/it]"
     ]
    },
    {
     "name": "stdout",
     "output_type": "stream",
     "text": [
      "ETR\n"
     ]
    },
    {
     "name": "stderr",
     "output_type": "stream",
     "text": [
      " 35%|██████████████▏                          | 174/504 [02:24<07:17,  1.33s/it]"
     ]
    },
    {
     "name": "stdout",
     "output_type": "stream",
     "text": [
      "EOG\n"
     ]
    },
    {
     "name": "stderr",
     "output_type": "stream",
     "text": [
      " 35%|██████████████▏                          | 175/504 [02:26<07:16,  1.33s/it]"
     ]
    },
    {
     "name": "stdout",
     "output_type": "stream",
     "text": [
      "EPAM\n"
     ]
    },
    {
     "name": "stderr",
     "output_type": "stream",
     "text": [
      " 35%|██████████████▎                          | 176/504 [02:27<07:07,  1.30s/it]"
     ]
    },
    {
     "name": "stdout",
     "output_type": "stream",
     "text": [
      "EFX\n"
     ]
    },
    {
     "name": "stderr",
     "output_type": "stream",
     "text": [
      " 35%|██████████████▍                          | 177/504 [02:28<06:57,  1.28s/it]"
     ]
    },
    {
     "name": "stdout",
     "output_type": "stream",
     "text": [
      "EQIX\n"
     ]
    },
    {
     "name": "stderr",
     "output_type": "stream",
     "text": [
      " 35%|██████████████▍                          | 178/504 [02:29<06:31,  1.20s/it]"
     ]
    },
    {
     "name": "stdout",
     "output_type": "stream",
     "text": [
      "EQR\n"
     ]
    },
    {
     "name": "stderr",
     "output_type": "stream",
     "text": [
      " 36%|██████████████▌                          | 179/504 [02:30<06:29,  1.20s/it]"
     ]
    },
    {
     "name": "stdout",
     "output_type": "stream",
     "text": [
      "ESS\n"
     ]
    },
    {
     "name": "stderr",
     "output_type": "stream",
     "text": [
      " 36%|██████████████▋                          | 180/504 [02:32<06:43,  1.25s/it]"
     ]
    },
    {
     "name": "stdout",
     "output_type": "stream",
     "text": [
      "EL\n"
     ]
    },
    {
     "name": "stderr",
     "output_type": "stream",
     "text": [
      " 36%|██████████████▋                          | 181/504 [02:33<06:40,  1.24s/it]"
     ]
    },
    {
     "name": "stdout",
     "output_type": "stream",
     "text": [
      "ETSY\n"
     ]
    },
    {
     "name": "stderr",
     "output_type": "stream",
     "text": [
      " 36%|██████████████▊                          | 182/504 [02:34<06:40,  1.25s/it]"
     ]
    },
    {
     "name": "stdout",
     "output_type": "stream",
     "text": [
      "RE\n"
     ]
    },
    {
     "name": "stderr",
     "output_type": "stream",
     "text": [
      " 36%|██████████████▉                          | 183/504 [02:35<06:26,  1.20s/it]"
     ]
    },
    {
     "name": "stdout",
     "output_type": "stream",
     "text": [
      "EVRG\n"
     ]
    },
    {
     "name": "stderr",
     "output_type": "stream",
     "text": [
      " 37%|██████████████▉                          | 184/504 [02:36<06:08,  1.15s/it]"
     ]
    },
    {
     "name": "stdout",
     "output_type": "stream",
     "text": [
      "ES\n"
     ]
    },
    {
     "name": "stderr",
     "output_type": "stream",
     "text": [
      " 37%|███████████████                          | 185/504 [02:37<05:54,  1.11s/it]"
     ]
    },
    {
     "name": "stdout",
     "output_type": "stream",
     "text": [
      "EXC\n"
     ]
    },
    {
     "name": "stderr",
     "output_type": "stream",
     "text": [
      " 37%|███████████████▏                         | 186/504 [02:39<06:14,  1.18s/it]"
     ]
    },
    {
     "name": "stdout",
     "output_type": "stream",
     "text": [
      "EXPE\n",
      "EXPD\n"
     ]
    },
    {
     "name": "stderr",
     "output_type": "stream",
     "text": [
      " 38%|███████████████▍                         | 189/504 [02:39<02:55,  1.80it/s]"
     ]
    },
    {
     "name": "stdout",
     "output_type": "stream",
     "text": [
      "EXR\n",
      "XOM\n"
     ]
    },
    {
     "name": "stderr",
     "output_type": "stream",
     "text": [
      " 38%|███████████████▌                         | 191/504 [02:40<01:56,  2.69it/s]"
     ]
    },
    {
     "name": "stdout",
     "output_type": "stream",
     "text": [
      "FFIV\n",
      "FDS\n"
     ]
    },
    {
     "name": "stderr",
     "output_type": "stream",
     "text": [
      " 38%|███████████████▋                         | 193/504 [02:40<01:23,  3.73it/s]"
     ]
    },
    {
     "name": "stdout",
     "output_type": "stream",
     "text": [
      "FAST\n",
      "FRT\n"
     ]
    },
    {
     "name": "stderr",
     "output_type": "stream",
     "text": [
      " 39%|███████████████▊                         | 195/504 [02:40<01:09,  4.43it/s]"
     ]
    },
    {
     "name": "stdout",
     "output_type": "stream",
     "text": [
      "FDX\n",
      "FITB\n"
     ]
    },
    {
     "name": "stderr",
     "output_type": "stream",
     "text": [
      " 39%|████████████████                         | 197/504 [02:41<01:01,  4.98it/s]"
     ]
    },
    {
     "name": "stdout",
     "output_type": "stream",
     "text": [
      "FRC\n",
      "FE\n"
     ]
    },
    {
     "name": "stderr",
     "output_type": "stream",
     "text": [
      " 39%|████████████████▏                        | 199/504 [02:41<01:00,  5.07it/s]"
     ]
    },
    {
     "name": "stdout",
     "output_type": "stream",
     "text": [
      "FIS\n",
      "FISV\n"
     ]
    },
    {
     "name": "stderr",
     "output_type": "stream",
     "text": [
      " 40%|████████████████▎                        | 200/504 [02:41<01:04,  4.69it/s]"
     ]
    },
    {
     "name": "stdout",
     "output_type": "stream",
     "text": [
      "FLT\n"
     ]
    },
    {
     "name": "stderr",
     "output_type": "stream",
     "text": [
      " 40%|████████████████▎                        | 201/504 [02:42<02:25,  2.08it/s]"
     ]
    },
    {
     "name": "stdout",
     "output_type": "stream",
     "text": [
      "FMC\n"
     ]
    }
   ],
   "source": [
    "for tag in tqdm(lines):\n",
    "    tag = tag.strip()\n",
    "    try:\n",
    "        get_hour(tag)\n",
    "    except:\n",
    "        print(tag)"
   ]
  },
  {
   "cell_type": "code",
   "execution_count": null,
   "id": "a4a5aab0-0dd4-4a85-bb0b-674d4b1e5f1d",
   "metadata": {},
   "outputs": [],
   "source": [
    "li = ['BALL', 'BBWI', 'BRKB', 'BFB', 'CARR', 'CDAY', 'CEG', 'CTRA', 'HWM', 'J', 'LIN', 'LUMN', 'META','MRNA', 'OGN', 'OTIS', 'PARA', 'PAYC', 'RTX', 'TT', 'TFC', 'VTRS', 'VICI', 'WBD', 'WTW']"
   ]
  },
  {
   "cell_type": "code",
   "execution_count": 148,
   "id": "18ea8634-933d-4377-bb2b-0722bf39899d",
   "metadata": {},
   "outputs": [],
   "source": [
    "co_dict['CEG'] = 'equities/constellation-energy'\n",
    "co_dict['OTIS'] = 'equities/otis-worldwide-corp'\n",
    "co_dict['WTW'] = 'equities/willis-group-holdings-plc'"
   ]
  },
  {
   "cell_type": "code",
   "execution_count": 141,
   "id": "0cc1ba0e-b5d8-456f-ba81-a8a4c90ed65c",
   "metadata": {},
   "outputs": [],
   "source": [
    "corporates = []\n",
    "for co in li:\n",
    "    corporates.append(getInvesting(co))"
   ]
  },
  {
   "cell_type": "code",
   "execution_count": 143,
   "id": "83610b60-d65e-42a0-913f-249dfbad9653",
   "metadata": {},
   "outputs": [],
   "source": [
    "co_dict = dict(zip(li, corporates))"
   ]
  },
  {
   "cell_type": "code",
   "execution_count": 152,
   "id": "bff38ae8-34e8-4773-8da7-5a35ab563c2e",
   "metadata": {},
   "outputs": [
    {
     "data": {
      "text/plain": [
       "'ball-corp'"
      ]
     },
     "execution_count": 152,
     "metadata": {},
     "output_type": "execute_result"
    }
   ],
   "source": [
    "co_dict['BALL'].split('/')[1]"
   ]
  },
  {
   "cell_type": "code",
   "execution_count": 172,
   "id": "a8d06ecb-13c9-4e6e-943c-a66863cecf08",
   "metadata": {
    "scrolled": true,
    "tags": []
   },
   "outputs": [
    {
     "data": {
      "text/plain": [
       "{'BALL': 'equities/ball-corp',\n",
       " 'BBWI': 'equities/limited-brands',\n",
       " 'BRKB': 'equities/berkshire-hathaway',\n",
       " 'BFB': 'equities/brown-forman-b',\n",
       " 'CARR': 'equities/carrier-global-corp',\n",
       " 'CDAY': 'equities/ceridian-hcm-holding-inc',\n",
       " 'CEG': 'equities/constellation-energy',\n",
       " 'CTRA': 'equities/ciputra-develo',\n",
       " 'HWM': 'equities/howmet-aerospace-inc',\n",
       " 'J': 'equities/jacobs-engineer',\n",
       " 'LIN': 'equities/lindian-resources-ltd',\n",
       " 'LUMN': 'equities/centurylink',\n",
       " 'META': 'equities/facebook-inc',\n",
       " 'MRNA': 'equities/moderna',\n",
       " 'OGN': 'equities/organon-co',\n",
       " 'OTIS': 'equities/otis-worldwide-corp',\n",
       " 'PARA': 'equities/viacom-cl-b',\n",
       " 'PAYC': 'equities/paycom-soft',\n",
       " 'RTX': 'equities/united-tech',\n",
       " 'TT': 'equities/t-t-ltd',\n",
       " 'TFC': 'equities/bb-t-corp',\n",
       " 'VTRS': 'equities/mylan-inc',\n",
       " 'VICI': 'equities/vici-properties',\n",
       " 'WBD': 'equities/discovery-holding-co',\n",
       " 'WTW': 'equities/willis-group-holdings-plc'}"
      ]
     },
     "execution_count": 172,
     "metadata": {},
     "output_type": "execute_result"
    }
   ],
   "source": [
    "co_dict"
   ]
  },
  {
   "cell_type": "code",
   "execution_count": 103,
   "id": "06bdb544-90c5-4742-81d1-4f47a1d13cce",
   "metadata": {},
   "outputs": [],
   "source": [
    "def getInvesting(ticker):\n",
    "    target_address = 'https://www.google.com/search?q='+ticker+'+investing'\n",
    "    html = requests.get(target_address)\n",
    "    soup = BeautifulSoup(html.text, 'html.parser')\n",
    "    posts = soup.select('.kCrYT a ')\n",
    "    #for chooes first herf \n",
    "    href = str(posts[0].attrs['href'])\n",
    "    #then href is 'https:/www.investing/equities/stock&~~~~~~ \n",
    "    #so 1.find  start-index : index('equities') , end-index : index('&')\n",
    "    # and slicing href[start : end]\n",
    "    start = href.find('equities')\n",
    "    end = href.find('&')\n",
    "    # print(href)\n",
    "    # print(href[start:end])\n",
    "    return href[start:end]"
   ]
  },
  {
   "cell_type": "code",
   "execution_count": 134,
   "id": "c6a64ed1-8e26-41c4-8686-f4287e38ea05",
   "metadata": {},
   "outputs": [
    {
     "name": "stdout",
     "output_type": "stream",
     "text": [
      "ball-corp\n",
      "limited-brands\n",
      "berkshire-hathaway\n",
      "brown-forman-b\n",
      "carrier-global-corp\n",
      "ceridian-hcm-holding-inc\n",
      "ciputra-develo\n",
      "howmet-aerospace-inc\n",
      "jacobs-engineer\n",
      "lindian-resources-ltd\n",
      "centurylink\n",
      "facebook-inc\n",
      "moderna\n",
      "organon-co\n",
      "viacom-cl-b\n",
      "paycom-soft\n",
      "united-tech\n",
      "trane-technologies-plc\n",
      "bb-t-corp\n",
      "mylan-inc\n",
      "vici-properties\n",
      "discovery-holding-co\n",
      "constellation-energy\n",
      "otis-worldwide-corp\n",
      "willis-group-holdings-plc\n"
     ]
    }
   ],
   "source": [
    "for l in range(25):\n",
    "    c = corporate[l].split('/')[1]\n",
    "    print(c)"
   ]
  },
  {
   "cell_type": "code",
   "execution_count": null,
   "id": "1961c4fb-d5ad-4214-b453-7a555d01311a",
   "metadata": {},
   "outputs": [],
   "source": []
  },
  {
   "cell_type": "code",
   "execution_count": null,
   "id": "b5807d5c-aff3-4c09-a91a-5c7677c673a6",
   "metadata": {},
   "outputs": [],
   "source": []
  },
  {
   "cell_type": "markdown",
   "id": "6ce801a3-79cd-476d-80ee-58c88c6fd51c",
   "metadata": {},
   "source": [
    "https://tvc4.investing.com/a45af155c061612034247e27ff2ed977/1655276049/1/1/8/history?symbol=6408&resolution=60&from=1524096000&to=1524182400"
   ]
  },
  {
   "cell_type": "markdown",
   "id": "ad9ca195-3ccc-4ce0-85a5-820da1d1e8bb",
   "metadata": {},
   "source": [
    "https://www.investing.com/equities/apple-computer-inc-chart"
   ]
  },
  {
   "cell_type": "code",
   "execution_count": null,
   "id": "ddd8dc6e-dd86-4570-9946-a303df424a60",
   "metadata": {},
   "outputs": [],
   "source": []
  }
 ],
 "metadata": {
  "kernelspec": {
   "display_name": "Python 3 (ipykernel)",
   "language": "python",
   "name": "python3"
  },
  "language_info": {
   "codemirror_mode": {
    "name": "ipython",
    "version": 3
   },
   "file_extension": ".py",
   "mimetype": "text/x-python",
   "name": "python",
   "nbconvert_exporter": "python",
   "pygments_lexer": "ipython3",
   "version": "3.8.13"
  }
 },
 "nbformat": 4,
 "nbformat_minor": 5
}
