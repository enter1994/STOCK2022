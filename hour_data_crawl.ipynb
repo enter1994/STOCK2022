{
 "cells": [
  {
   "cell_type": "code",
   "execution_count": 37,
   "id": "c95f39da-0fab-4cd1-81a3-f4eff4a7e8a4",
   "metadata": {},
   "outputs": [],
   "source": [
    "from random import randint\n",
    "import time\n",
    "from time import gmtime, mktime\n",
    "from datetime import datetime\n",
    "import yfinance as yf\n",
    "import requests\n",
    "from bs4 import BeautifulSoup\n",
    "\n",
    "from investpy.stocks import (\n",
    "    get_stock_recent_data, get_stock_countries, get_stock_company_profile, get_stock_historical_data\n",
    ")\n",
    "from investpy.utils.extra import random_user_agent\n",
    "import json\n",
    "import pandas as pd\n",
    "from urllib import parse\n",
    "import csv"
   ]
  },
  {
   "cell_type": "code",
   "execution_count": 173,
   "id": "9c5d1340-1be2-4fa9-a689-c93822e5026e",
   "metadata": {},
   "outputs": [
    {
     "name": "stdout",
     "output_type": "stream",
     "text": [
      "1498867200\n",
      "1584230400\n",
      "1578009600\n",
      "1654905600\n"
     ]
    }
   ],
   "source": [
    "s = time.strptime('2017-07-01', '%Y-%m-%d')\n",
    "e = time.strptime('2020-03-15', '%Y-%m-%d')\n",
    "start_1 = int(mktime(s)) + 32400\n",
    "end_1 = int(mktime(e)) + 32400\n",
    "\n",
    "s = time.strptime('2020-01-03', '%Y-%m-%d')\n",
    "e = time.strptime('2022-06-11', '%Y-%m-%d')\n",
    "start_2 = int(mktime(s)) + 32400\n",
    "end_2 = int(mktime(e)) + 32400\n",
    "\n",
    "print(start_1)\n",
    "print(end_1)\n",
    "print(start_2)\n",
    "print(end_2)"
   ]
  },
  {
   "cell_type": "code",
   "execution_count": 25,
   "id": "e4b6fbc1-c350-42f9-ab15-9b398458d4a8",
   "metadata": {},
   "outputs": [],
   "source": [
    "stocks_path = \"/Users/parkdoyeong/miniforge3/envs/crawling/lib/python3.8/site-packages/investpy/resources/stocks.csv\""
   ]
  },
  {
   "cell_type": "code",
   "execution_count": 26,
   "id": "cf9604e6-0697-4297-99c4-d8bb7aa890b0",
   "metadata": {},
   "outputs": [],
   "source": [
    "df = pd.read_csv(stocks_path)\n",
    "df = df[df[\"country\"] == \"united states\"]"
   ]
  },
  {
   "cell_type": "code",
   "execution_count": 65,
   "id": "99942271-81d5-4fd0-b1fb-e8dd342271b1",
   "metadata": {},
   "outputs": [],
   "source": [
    "def get_hour(tag):\n",
    "    name = df[df[\"symbol\"] == tag][\"tag\"].values[0]\n",
    "    \n",
    "    req = requests.get(\n",
    "        f\"https://www.investing.com/equities/{name}-chart\",\n",
    "        headers = {\n",
    "            \"User-Agent\": random_user_agent(),\n",
    "            \"X-Requested-With\": \"XMLHttpRequest\",\n",
    "            \"Accept\": \"text/html\",\n",
    "            \"Accept-Encoding\": \"gzip, deflate\",\n",
    "            \"Connection\": \"keep-alive\",\n",
    "        }\n",
    "    )\n",
    "    \n",
    "    soup = BeautifulSoup(req.text, 'html.parser')\n",
    "    url = soup.select_one(\"#leftColumn > div.tvChartContainer > div:nth-child(1) > iframe\").attrs[\"src\"]\n",
    "    # print(url)\n",
    "    url_parsing = parse.urlparse(url)\n",
    "    \n",
    "    qs = parse.parse_qs(url_parsing.query)\n",
    "    carrier = qs['carrier'][0]\n",
    "    symbol = qs['pair_ID'][0]\n",
    "    t = qs['time'][0]\n",
    "    # t = \"1655695721\"\n",
    "    \n",
    "    url1 = f\"https://tvc4.investing.com/{carrier}/{t}/1/1/8/history?symbol={symbol}&resolution=60&from={start_1}&to={end_1}\"\n",
    "    url2 = f\"https://tvc4.investing.com/{carrier}/{t}/1/1/8/history?symbol={symbol}&resolution=60&from={start_2}&to={end_2}\"\n",
    "\n",
    "    req1 = requests.get(\n",
    "        url1,\n",
    "        headers = {\n",
    "            \"User-Agent\": random_user_agent(),\n",
    "            \"X-Requested-With\": \"XMLHttpRequest\",\n",
    "            \"Accept\": \"text/html\",\n",
    "            \"Accept-Encoding\": \"gzip, deflate\",\n",
    "            \"Connection\": \"keep-alive\",\n",
    "        }\n",
    "    )\n",
    "\n",
    "    req2 = requests.get(\n",
    "        url2,\n",
    "        headers = {\n",
    "            \"User-Agent\": random_user_agent(),\n",
    "            \"X-Requested-With\": \"XMLHttpRequest\",\n",
    "            \"Accept\": \"text/html\",\n",
    "            \"Accept-Encoding\": \"gzip, deflate\",\n",
    "            \"Connection\": \"keep-alive\",\n",
    "        }\n",
    "    )\n",
    "    \n",
    "    price_1 = json.loads(req1.text)\n",
    "    price_2 = json.loads(req2.text)\n",
    "\n",
    "    for i in range(len(price_1['t'])):\n",
    "        price_1['t'][i] = datetime.fromtimestamp(price_1['t'][i] - 46800)\n",
    "\n",
    "    for i in range(len(price_2['t'])):\n",
    "        price_2['t'][i] = datetime.fromtimestamp(price_2['t'][i] - 46800)\n",
    "\n",
    "    price_hour = price_1['t']\n",
    "    \n",
    "    Df_price = pd.DataFrame({\n",
    "        'Time' : price_1['t'] + price_2['t'],\n",
    "        'Opened' : price_1['o'] + price_2['o'],\n",
    "        'Closed' : price_1['c'] + price_2['c'],\n",
    "        'High' : price_1['h'] + price_2['h'],\n",
    "        'Low' : price_1['l'] + price_2['l'],\n",
    "        # 'Volume' : price_1['vo'] + price_2['vo']\n",
    "    })\n",
    "    \n",
    "    Df_price.to_csv(f'./hour_data/{tag}.csv')"
   ]
  },
  {
   "cell_type": "code",
   "execution_count": 58,
   "id": "ab028ac8-0d3e-4334-bcf7-d4331034385c",
   "metadata": {},
   "outputs": [],
   "source": [
    "with open(\"500_Crawl/corporate.txt\", \"r\") as f:\n",
    "    lines = f.readlines()"
   ]
  },
  {
   "cell_type": "code",
   "execution_count": 62,
   "id": "b785c4fc-2409-4864-879c-aad702812f7b",
   "metadata": {},
   "outputs": [],
   "source": [
    "from tqdm import tqdm"
   ]
  },
  {
   "cell_type": "code",
   "execution_count": 67,
   "id": "d361aea8-e5b8-4e90-9cd8-77fc95331cea",
   "metadata": {
    "scrolled": true,
    "tags": []
   },
   "outputs": [
    {
     "name": "stderr",
     "output_type": "stream",
     "text": [
      "  0%|▌                                                                                                                                | 2/448 [00:07<27:00,  3.63s/it]"
     ]
    },
    {
     "name": "stdout",
     "output_type": "stream",
     "text": [
      "BALL\n"
     ]
    },
    {
     "name": "stderr",
     "output_type": "stream",
     "text": [
      "  1%|█▏                                                                                                                               | 4/448 [00:11<18:47,  2.54s/it]"
     ]
    },
    {
     "name": "stdout",
     "output_type": "stream",
     "text": [
      "BBWI\n"
     ]
    },
    {
     "name": "stderr",
     "output_type": "stream",
     "text": [
      "  2%|██▎                                                                                                                              | 8/448 [00:22<20:59,  2.86s/it]"
     ]
    },
    {
     "name": "stdout",
     "output_type": "stream",
     "text": [
      "BRKB\n"
     ]
    },
    {
     "name": "stderr",
     "output_type": "stream",
     "text": [
      "  5%|██████▊                                                                                                                         | 24/448 [01:16<25:08,  3.56s/it]"
     ]
    },
    {
     "name": "stdout",
     "output_type": "stream",
     "text": [
      "BFB\n"
     ]
    },
    {
     "name": "stderr",
     "output_type": "stream",
     "text": [
      "  8%|█████████▋                                                                                                                      | 34/448 [01:49<24:47,  3.59s/it]"
     ]
    },
    {
     "name": "stdout",
     "output_type": "stream",
     "text": [
      "CARR\n"
     ]
    },
    {
     "name": "stderr",
     "output_type": "stream",
     "text": [
      " 10%|████████████▎                                                                                                                   | 43/448 [02:20<24:50,  3.68s/it]"
     ]
    },
    {
     "name": "stdout",
     "output_type": "stream",
     "text": [
      "CDAY\n"
     ]
    },
    {
     "name": "stderr",
     "output_type": "stream",
     "text": [
      " 16%|████████████████████▎                                                                                                           | 71/448 [04:01<23:53,  3.80s/it]"
     ]
    },
    {
     "name": "stdout",
     "output_type": "stream",
     "text": [
      "CEG\n"
     ]
    },
    {
     "name": "stderr",
     "output_type": "stream",
     "text": [
      " 17%|██████████████████████                                                                                                          | 77/448 [04:31<30:16,  4.90s/it]"
     ]
    },
    {
     "name": "stdout",
     "output_type": "stream",
     "text": [
      "CTRA\n"
     ]
    },
    {
     "name": "stderr",
     "output_type": "stream",
     "text": [
      " 41%|███████████████████████████████████████████████████▌                                                                           | 182/448 [11:20<15:46,  3.56s/it]"
     ]
    },
    {
     "name": "stdout",
     "output_type": "stream",
     "text": [
      "HWM\n"
     ]
    },
    {
     "name": "stderr",
     "output_type": "stream",
     "text": [
      " 46%|██████████████████████████████████████████████████████████▋                                                                    | 207/448 [12:52<15:36,  3.88s/it]"
     ]
    },
    {
     "name": "stdout",
     "output_type": "stream",
     "text": [
      "J\n"
     ]
    },
    {
     "name": "stderr",
     "output_type": "stream",
     "text": [
      " 52%|█████████████████████████████████████████████████████████████████▍                                                             | 231/448 [14:17<10:42,  2.96s/it]"
     ]
    },
    {
     "name": "stdout",
     "output_type": "stream",
     "text": [
      "LIN\n"
     ]
    },
    {
     "name": "stderr",
     "output_type": "stream",
     "text": [
      " 53%|██████████████████████████████████████████████████████████████████▉                                                            | 236/448 [14:35<12:31,  3.55s/it]"
     ]
    },
    {
     "name": "stdout",
     "output_type": "stream",
     "text": [
      "LUMN\n"
     ]
    },
    {
     "name": "stderr",
     "output_type": "stream",
     "text": [
      " 56%|███████████████████████████████████████████████████████████████████████▋                                                       | 253/448 [15:38<13:41,  4.21s/it]"
     ]
    },
    {
     "name": "stdout",
     "output_type": "stream",
     "text": [
      "META\n"
     ]
    },
    {
     "name": "stderr",
     "output_type": "stream",
     "text": [
      " 58%|█████████████████████████████████████████████████████████████████████████▉                                                     | 261/448 [16:04<11:30,  3.69s/it]"
     ]
    },
    {
     "name": "stdout",
     "output_type": "stream",
     "text": [
      "MRNA\n"
     ]
    },
    {
     "name": "stderr",
     "output_type": "stream",
     "text": [
      " 67%|█████████████████████████████████████████████████████████████████████████████████████▎                                         | 301/448 [18:38<09:25,  3.85s/it]"
     ]
    },
    {
     "name": "stdout",
     "output_type": "stream",
     "text": [
      "OGN\n",
      "OTIS\n"
     ]
    },
    {
     "name": "stderr",
     "output_type": "stream",
     "text": [
      " 68%|██████████████████████████████████████████████████████████████████████████████████████▍                                        | 305/448 [18:46<06:29,  2.72s/it]"
     ]
    },
    {
     "name": "stdout",
     "output_type": "stream",
     "text": [
      "PARA\n"
     ]
    },
    {
     "name": "stderr",
     "output_type": "stream",
     "text": [
      " 69%|███████████████████████████████████████████████████████████████████████████████████████▎                                       | 308/448 [18:53<06:25,  2.75s/it]"
     ]
    },
    {
     "name": "stdout",
     "output_type": "stream",
     "text": [
      "PAYC\n"
     ]
    },
    {
     "name": "stderr",
     "output_type": "stream",
     "text": [
      " 76%|████████████████████████████████████████████████████████████████████████████████████████████████                               | 339/448 [20:56<07:08,  3.93s/it]"
     ]
    },
    {
     "name": "stdout",
     "output_type": "stream",
     "text": [
      "RTX\n"
     ]
    },
    {
     "name": "stderr",
     "output_type": "stream",
     "text": [
      " 88%|███████████████████████████████████████████████████████████████████████████████████████████████████████████████▍               | 393/448 [24:25<03:33,  3.88s/it]"
     ]
    },
    {
     "name": "stdout",
     "output_type": "stream",
     "text": [
      "TT\n"
     ]
    },
    {
     "name": "stderr",
     "output_type": "stream",
     "text": [
      " 89%|████████████████████████████████████████████████████████████████████████████████████████████████████████████████▌              | 397/448 [24:38<03:17,  3.86s/it]"
     ]
    },
    {
     "name": "stdout",
     "output_type": "stream",
     "text": [
      "TFC\n"
     ]
    },
    {
     "name": "stderr",
     "output_type": "stream",
     "text": [
      " 94%|██████████████████████████████████████████████████████████████████████████████████████████████████████████████████████▊        | 419/448 [25:55<01:47,  3.69s/it]"
     ]
    },
    {
     "name": "stdout",
     "output_type": "stream",
     "text": [
      "VTRS\n",
      "VICI\n"
     ]
    },
    {
     "name": "stderr",
     "output_type": "stream",
     "text": [
      " 95%|█████████████████████████████████████████████████████████████████████████████████████████████████████████████████████████      | 427/448 [26:17<01:10,  3.37s/it]"
     ]
    },
    {
     "name": "stdout",
     "output_type": "stream",
     "text": [
      "WBD\n"
     ]
    },
    {
     "name": "stderr",
     "output_type": "stream",
     "text": [
      " 98%|████████████████████████████████████████████████████████████████████████████████████████████████████████████████████████████▍  | 439/448 [27:13<00:42,  4.75s/it]"
     ]
    },
    {
     "name": "stdout",
     "output_type": "stream",
     "text": [
      "WTW\n"
     ]
    },
    {
     "name": "stderr",
     "output_type": "stream",
     "text": [
      "100%|███████████████████████████████████████████████████████████████████████████████████████████████████████████████████████████████| 448/448 [27:46<00:00,  3.72s/it]\n"
     ]
    }
   ],
   "source": [
    "for tag in tqdm(lines):\n",
    "    tag = tag.strip()\n",
    "    try:\n",
    "        get_hour(tag)\n",
    "    except:\n",
    "        print(tag)"
   ]
  },
  {
   "cell_type": "code",
   "execution_count": 68,
   "id": "a4a5aab0-0dd4-4a85-bb0b-674d4b1e5f1d",
   "metadata": {},
   "outputs": [],
   "source": [
    "li = ['BALL', 'BBWI', 'BRKB', 'BFB', 'CARR', 'CDAY', 'CEG', 'CTRA', 'HWM', 'J', 'LIN', 'LUMN', 'META','MRNA', 'OGN', 'OTIS', 'PARA', 'PAYC', 'RTX', 'TT', 'TFC', 'VTRS', 'VICI', 'WBD', 'WTW']"
   ]
  },
  {
   "cell_type": "code",
   "execution_count": 148,
   "id": "18ea8634-933d-4377-bb2b-0722bf39899d",
   "metadata": {},
   "outputs": [],
   "source": [
    "co_dict['CEG'] = 'equities/constellation-energy'\n",
    "co_dict['OTIS'] = 'equities/otis-worldwide-corp'\n",
    "co_dict['WTW'] = 'equities/willis-group-holdings-plc'"
   ]
  },
  {
   "cell_type": "code",
   "execution_count": 141,
   "id": "0cc1ba0e-b5d8-456f-ba81-a8a4c90ed65c",
   "metadata": {},
   "outputs": [],
   "source": [
    "corporates = []\n",
    "for co in li:\n",
    "    corporates.append(getInvesting(co))"
   ]
  },
  {
   "cell_type": "code",
   "execution_count": 143,
   "id": "83610b60-d65e-42a0-913f-249dfbad9653",
   "metadata": {},
   "outputs": [],
   "source": [
    "co_dict = dict(zip(li, corporates))"
   ]
  },
  {
   "cell_type": "code",
   "execution_count": 152,
   "id": "bff38ae8-34e8-4773-8da7-5a35ab563c2e",
   "metadata": {},
   "outputs": [
    {
     "data": {
      "text/plain": [
       "'ball-corp'"
      ]
     },
     "execution_count": 152,
     "metadata": {},
     "output_type": "execute_result"
    }
   ],
   "source": [
    "co_dict['BALL'].split('/')[1]"
   ]
  },
  {
   "cell_type": "code",
   "execution_count": 172,
   "id": "a8d06ecb-13c9-4e6e-943c-a66863cecf08",
   "metadata": {
    "scrolled": true,
    "tags": []
   },
   "outputs": [
    {
     "data": {
      "text/plain": [
       "{'BALL': 'equities/ball-corp',\n",
       " 'BBWI': 'equities/limited-brands',\n",
       " 'BRKB': 'equities/berkshire-hathaway',\n",
       " 'BFB': 'equities/brown-forman-b',\n",
       " 'CARR': 'equities/carrier-global-corp',\n",
       " 'CDAY': 'equities/ceridian-hcm-holding-inc',\n",
       " 'CEG': 'equities/constellation-energy',\n",
       " 'CTRA': 'equities/ciputra-develo',\n",
       " 'HWM': 'equities/howmet-aerospace-inc',\n",
       " 'J': 'equities/jacobs-engineer',\n",
       " 'LIN': 'equities/lindian-resources-ltd',\n",
       " 'LUMN': 'equities/centurylink',\n",
       " 'META': 'equities/facebook-inc',\n",
       " 'MRNA': 'equities/moderna',\n",
       " 'OGN': 'equities/organon-co',\n",
       " 'OTIS': 'equities/otis-worldwide-corp',\n",
       " 'PARA': 'equities/viacom-cl-b',\n",
       " 'PAYC': 'equities/paycom-soft',\n",
       " 'RTX': 'equities/united-tech',\n",
       " 'TT': 'equities/t-t-ltd',\n",
       " 'TFC': 'equities/bb-t-corp',\n",
       " 'VTRS': 'equities/mylan-inc',\n",
       " 'VICI': 'equities/vici-properties',\n",
       " 'WBD': 'equities/discovery-holding-co',\n",
       " 'WTW': 'equities/willis-group-holdings-plc'}"
      ]
     },
     "execution_count": 172,
     "metadata": {},
     "output_type": "execute_result"
    }
   ],
   "source": [
    "co_dict"
   ]
  },
  {
   "cell_type": "code",
   "execution_count": 103,
   "id": "06bdb544-90c5-4742-81d1-4f47a1d13cce",
   "metadata": {},
   "outputs": [],
   "source": [
    "def getInvesting(ticker):\n",
    "    target_address = 'https://www.google.com/search?q='+ticker+'+investing'\n",
    "    html = requests.get(target_address)\n",
    "    soup = BeautifulSoup(html.text, 'html.parser')\n",
    "    posts = soup.select('.kCrYT a ')\n",
    "    #for chooes first herf \n",
    "    href = str(posts[0].attrs['href'])\n",
    "    #then href is 'https:/www.investing/equities/stock&~~~~~~ \n",
    "    #so 1.find  start-index : index('equities') , end-index : index('&')\n",
    "    # and slicing href[start : end]\n",
    "    start = href.find('equities')\n",
    "    end = href.find('&')\n",
    "    # print(href)\n",
    "    # print(href[start:end])\n",
    "    return href[start:end]"
   ]
  },
  {
   "cell_type": "code",
   "execution_count": 134,
   "id": "c6a64ed1-8e26-41c4-8686-f4287e38ea05",
   "metadata": {},
   "outputs": [
    {
     "name": "stdout",
     "output_type": "stream",
     "text": [
      "ball-corp\n",
      "limited-brands\n",
      "berkshire-hathaway\n",
      "brown-forman-b\n",
      "carrier-global-corp\n",
      "ceridian-hcm-holding-inc\n",
      "ciputra-develo\n",
      "howmet-aerospace-inc\n",
      "jacobs-engineer\n",
      "lindian-resources-ltd\n",
      "centurylink\n",
      "facebook-inc\n",
      "moderna\n",
      "organon-co\n",
      "viacom-cl-b\n",
      "paycom-soft\n",
      "united-tech\n",
      "trane-technologies-plc\n",
      "bb-t-corp\n",
      "mylan-inc\n",
      "vici-properties\n",
      "discovery-holding-co\n",
      "constellation-energy\n",
      "otis-worldwide-corp\n",
      "willis-group-holdings-plc\n"
     ]
    }
   ],
   "source": [
    "for l in range(25):\n",
    "    c = corporate[l].split('/')[1]\n",
    "    print(c)"
   ]
  },
  {
   "cell_type": "code",
   "execution_count": null,
   "id": "1961c4fb-d5ad-4214-b453-7a555d01311a",
   "metadata": {},
   "outputs": [],
   "source": []
  },
  {
   "cell_type": "code",
   "execution_count": null,
   "id": "b5807d5c-aff3-4c09-a91a-5c7677c673a6",
   "metadata": {},
   "outputs": [],
   "source": []
  },
  {
   "cell_type": "markdown",
   "id": "6ce801a3-79cd-476d-80ee-58c88c6fd51c",
   "metadata": {},
   "source": [
    "https://tvc4.investing.com/a45af155c061612034247e27ff2ed977/1655276049/1/1/8/history?symbol=6408&resolution=60&from=1524096000&to=1524182400"
   ]
  },
  {
   "cell_type": "markdown",
   "id": "ad9ca195-3ccc-4ce0-85a5-820da1d1e8bb",
   "metadata": {},
   "source": [
    "https://www.investing.com/equities/apple-computer-inc-chart"
   ]
  },
  {
   "cell_type": "code",
   "execution_count": null,
   "id": "ddd8dc6e-dd86-4570-9946-a303df424a60",
   "metadata": {},
   "outputs": [],
   "source": []
  }
 ],
 "metadata": {
  "kernelspec": {
   "display_name": "Python 3 (ipykernel)",
   "language": "python",
   "name": "python3"
  },
  "language_info": {
   "codemirror_mode": {
    "name": "ipython",
    "version": 3
   },
   "file_extension": ".py",
   "mimetype": "text/x-python",
   "name": "python",
   "nbconvert_exporter": "python",
   "pygments_lexer": "ipython3",
   "version": "3.8.13"
  }
 },
 "nbformat": 4,
 "nbformat_minor": 5
}
