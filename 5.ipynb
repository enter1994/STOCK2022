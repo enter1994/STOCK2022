{
 "cells": [
  {
   "cell_type": "code",
   "execution_count": 29,
   "id": "c95f39da-0fab-4cd1-81a3-f4eff4a7e8a4",
   "metadata": {},
   "outputs": [],
   "source": [
    "from random import randint\n",
    "import time, datetime\n",
    "import requests\n",
    "from bs4 import BeautifulSoup\n",
    "\n",
    "from investpy.stocks import (\n",
    "    get_stock_recent_data, get_stock_countries, get_stock_company_profile, get_stock_historical_data\n",
    ")\n",
    "from investpy.utils.extra import random_user_agent\n",
    "import json"
   ]
  },
  {
   "cell_type": "code",
   "execution_count": 22,
   "id": "7f845e6c-2b0b-41ef-b49b-948aba42e510",
   "metadata": {},
   "outputs": [
    {
     "data": {
      "text/html": [
       "<div>\n",
       "<style scoped>\n",
       "    .dataframe tbody tr th:only-of-type {\n",
       "        vertical-align: middle;\n",
       "    }\n",
       "\n",
       "    .dataframe tbody tr th {\n",
       "        vertical-align: top;\n",
       "    }\n",
       "\n",
       "    .dataframe thead th {\n",
       "        text-align: right;\n",
       "    }\n",
       "</style>\n",
       "<table border=\"1\" class=\"dataframe\">\n",
       "  <thead>\n",
       "    <tr style=\"text-align: right;\">\n",
       "      <th></th>\n",
       "      <th>Open</th>\n",
       "      <th>High</th>\n",
       "      <th>Low</th>\n",
       "      <th>Close</th>\n",
       "      <th>Volume</th>\n",
       "      <th>Currency</th>\n",
       "    </tr>\n",
       "    <tr>\n",
       "      <th>Date</th>\n",
       "      <th></th>\n",
       "      <th></th>\n",
       "      <th></th>\n",
       "      <th></th>\n",
       "      <th></th>\n",
       "      <th></th>\n",
       "    </tr>\n",
       "  </thead>\n",
       "  <tbody>\n",
       "    <tr>\n",
       "      <th>2014-08-20</th>\n",
       "      <td>25.11</td>\n",
       "      <td>25.27</td>\n",
       "      <td>24.99</td>\n",
       "      <td>25.14</td>\n",
       "      <td>210796768</td>\n",
       "      <td>USD</td>\n",
       "    </tr>\n",
       "    <tr>\n",
       "      <th>2014-08-21</th>\n",
       "      <td>25.14</td>\n",
       "      <td>25.23</td>\n",
       "      <td>25.03</td>\n",
       "      <td>25.14</td>\n",
       "      <td>133912792</td>\n",
       "      <td>USD</td>\n",
       "    </tr>\n",
       "  </tbody>\n",
       "</table>\n",
       "</div>"
      ],
      "text/plain": [
       "             Open   High    Low  Close     Volume Currency\n",
       "Date                                                      \n",
       "2014-08-20  25.11  25.27  24.99  25.14  210796768      USD\n",
       "2014-08-21  25.14  25.23  25.03  25.14  133912792      USD"
      ]
     },
     "execution_count": 22,
     "metadata": {},
     "output_type": "execute_result"
    }
   ],
   "source": [
    "get_stock_historical_data(\"aapl\", country=\"united states\", from_date=\"20/08/2014\", to_date=\"21/08/2014\")"
   ]
  },
  {
   "cell_type": "code",
   "execution_count": 15,
   "id": "78426500-8022-435d-b23c-62b8e0f33cd6",
   "metadata": {},
   "outputs": [],
   "source": [
    "params = {\n",
    "    \"curr_id\": 6408,\n",
    "    \"smlID\": str(randint(1000000, 99999999)),\n",
    "    \"header\": \"AAPL Historical Data\",\n",
    "    \"st_date\": \"04/15/2018\",\n",
    "    \"end_date\": \"04/20/2018\",\n",
    "    \"interval_sec\": \"Daily\",\n",
    "    \"sort_col\": \"date\",\n",
    "    \"sort_ord\": \"DESC\",\n",
    "    \"action\": \"historical_data\",\n",
    "}\n",
    "\n",
    "head = {\n",
    "    \"User-Agent\": random_user_agent(),\n",
    "    \"X-Requested-With\": \"XMLHttpRequest\",\n",
    "    \"Accept\": \"text/html\",\n",
    "    \"Accept-Encoding\": \"gzip, deflate\",\n",
    "    \"Connection\": \"keep-alive\",\n",
    "}\n",
    "\n",
    "url = \"https://www.investing.com/instruments/HistoricalDataAjax\"\n",
    "\n",
    "req = requests.post(url, headers=head, data=params)\n",
    "soup = BeautifulSoup(req.text, 'html.parser')"
   ]
  },
  {
   "cell_type": "code",
   "execution_count": 16,
   "id": "78fee5ca-38e7-4b5e-8930-7a8841dfbb8f",
   "metadata": {
    "scrolled": true,
    "tags": []
   },
   "outputs": [
    {
     "data": {
      "text/plain": [
       "<div id=\"results_box\">\n",
       "<table class=\"genTbl closedTbl historicalTbl\" id=\"curr_table\" tablesorter=\"\">\n",
       "<thead>\n",
       "<tr>\n",
       "<th class=\"first left noWrap\" data-col-name=\"date\">Date<span class=\"headerSortDefault\" sort_default=\"\"></span></th>\n",
       "<th class=\"noWrap\" data-col-name=\"price\">Price<span class=\"headerSortDefault\" sort_default=\"\"></span></th>\n",
       "<th class=\"noWrap\" data-col-name=\"open\">Open<span class=\"headerSortDefault\" sort_default=\"\"></span></th>\n",
       "<th class=\"noWrap\" data-col-name=\"high\">High<span class=\"headerSortDefault\" sort_default=\"\"></span></th>\n",
       "<th class=\"noWrap\" data-col-name=\"low\">Low<span class=\"headerSortDefault\" sort_default=\"\"></span></th>\n",
       "<th class=\"noWrap\" data-col-name=\"vol\">Vol.<span class=\"headerSortDefault\" sort_default=\"\"></span></th> <th class=\"noWrap\" data-col-name=\"change\">Change %<span class=\"headerSortDefault\" sort_default=\"\"></span></th>\n",
       "</tr>\n",
       "</thead>\n",
       "<tbody>\n",
       "<tr>\n",
       "<td class=\"first left bold noWrap\" data-real-value=\"1524182400\">Apr 20, 2018</td>\n",
       "<td class=\"redFont\" data-real-value=\"41.43\">41.43</td>\n",
       "<td data-real-value=\"42.65\">42.65</td>\n",
       "<td data-real-value=\"42.80\">42.80</td>\n",
       "<td data-real-value=\"41.36\">41.36</td>\n",
       "<td data-real-value=\"261964560\">261.96M</td> <td class=\"bold redFont\">-4.10%</td>\n",
       "</tr>\n",
       "<tr>\n",
       "<td class=\"first left bold noWrap\" data-real-value=\"1524096000\">Apr 19, 2018</td>\n",
       "<td class=\"redFont\" data-real-value=\"43.20\">43.20</td>\n",
       "<td data-real-value=\"43.74\">43.74</td>\n",
       "<td data-real-value=\"43.85\">43.85</td>\n",
       "<td data-real-value=\"43.16\">43.16</td>\n",
       "<td data-real-value=\"139235200\">139.24M</td> <td class=\"bold redFont\">-2.83%</td>\n",
       "</tr>\n",
       "<tr>\n",
       "<td class=\"first left bold noWrap\" data-real-value=\"1524009600\">Apr 18, 2018</td>\n",
       "<td class=\"redFont\" data-real-value=\"44.46\">44.46</td>\n",
       "<td data-real-value=\"44.45\">44.45</td>\n",
       "<td data-real-value=\"44.70\">44.70</td>\n",
       "<td data-real-value=\"44.22\">44.22</td>\n",
       "<td data-real-value=\"83018152\">83.02M</td> <td class=\"bold redFont\">-0.22%</td>\n",
       "</tr>\n",
       "<tr>\n",
       "<td class=\"first left bold noWrap\" data-real-value=\"1523923200\">Apr 17, 2018</td>\n",
       "<td class=\"greenFont\" data-real-value=\"44.56\">44.56</td>\n",
       "<td data-real-value=\"44.12\">44.12</td>\n",
       "<td data-real-value=\"44.73\">44.73</td>\n",
       "<td data-real-value=\"44.10\">44.10</td>\n",
       "<td data-real-value=\"106421768\">106.42M</td> <td class=\"bold greenFont\">1.39%</td>\n",
       "</tr>\n",
       "<tr>\n",
       "<td class=\"first left bold noWrap\" data-real-value=\"1523836800\">Apr 16, 2018</td>\n",
       "<td class=\"greenFont\" data-real-value=\"43.95\">43.95</td>\n",
       "<td data-real-value=\"43.76\">43.76</td>\n",
       "<td data-real-value=\"44.05\">44.05</td>\n",
       "<td data-real-value=\"43.71\">43.71</td>\n",
       "<td data-real-value=\"86313680\">86.31M</td> <td class=\"bold greenFont\">0.62%</td>\n",
       "</tr>\n",
       "</tbody>\n",
       "</table>\n",
       "<script type=\"text/javascript\">\n",
       "$(document).ready(function(){\n",
       "    $.tablesorter.addParser({\n",
       "        // set a unique id\n",
       "        id: 'smartFilter',\n",
       "        is: function(s) {\n",
       "            return false;\n",
       "        },\n",
       "        format: function(s, table, cell, cellIndex) {\n",
       "            var result = $(cell).attr('data-real-value') || '';\n",
       "            if (siteData.thousandSep.is(',')) {\n",
       "                result = result.replace(/,/g, '');\n",
       "            } else {\n",
       "                result = result.replace(/\\./g, '').replace(',', '.');\n",
       "            }\n",
       "            return result;\n",
       "        },\n",
       "        // set type, either numeric or text\n",
       "        type: 'numeric'\n",
       "    });\n",
       "    $('table[tablesorter]').tablesorter({\n",
       "        headers: {\n",
       "            0: { sorter: \"smartFilter\" },\n",
       "            1: { sorter: 'smartFilter' },\n",
       "            2: { sorter: 'smartFilter' },\n",
       "            3: { sorter: 'smartFilter' },\n",
       "            4: { sorter: 'smartFilter' }\n",
       "            , 5: { sorter: \"smartFilter\" }        }\n",
       "\t}).bind('sortEnd', function (e) {\n",
       "        window.historicalDataCurrentSort = e.target.config.sortList[0];\n",
       "    });\n",
       " });\n",
       "</script>\n",
       "<table class=\"genTbl closedTbl historicalTblFooter\" id=\"placehereresult2\">\n",
       "<tbody>\n",
       "<tr>\n",
       "<td class=\"noBold noWrap left first\">Highest: <span class=\"bold inlineblock dirLtr\">44.73</span></td>\n",
       "<td class=\"noWrap\">Lowest: <span class=\"bold inlineblock dirLtr\">41.36</span></td>\n",
       "<td class=\"noWrap\">Difference: <span class=\"bold inlineblock dirLtr\">3.37</span></td>\n",
       "<td class=\"noWrap\">Average: <span class=\"bold inlineblock dirLtr\">43.52</span></td>\n",
       "<td class=\"noWrap\">Change %: <span class=\"bold inlineblock dirLtr\">-5.15</span></td>\n",
       "</tr>\n",
       "</tbody>\n",
       "</table>\n",
       "</div>"
      ]
     },
     "execution_count": 16,
     "metadata": {},
     "output_type": "execute_result"
    }
   ],
   "source": [
    "soup"
   ]
  },
  {
   "cell_type": "code",
   "execution_count": 61,
   "id": "3cbbdad6-a4cd-4309-81bf-efe1c7382fdd",
   "metadata": {},
   "outputs": [],
   "source": [
    "unix_time = time.time()\n",
    "\n",
    "real_time = time.gmtime(1524142800)"
   ]
  },
  {
   "cell_type": "code",
   "execution_count": 62,
   "id": "7c60b4cf-7d88-44c4-aa11-c049e59028b4",
   "metadata": {},
   "outputs": [
    {
     "data": {
      "text/plain": [
       "time.struct_time(tm_year=2018, tm_mon=4, tm_mday=19, tm_hour=13, tm_min=0, tm_sec=0, tm_wday=3, tm_yday=109, tm_isdst=0)"
      ]
     },
     "execution_count": 62,
     "metadata": {},
     "output_type": "execute_result"
    }
   ],
   "source": [
    "real_time"
   ]
  },
  {
   "cell_type": "code",
   "execution_count": 50,
   "id": "9c5d1340-1be2-4fa9-a689-c93822e5026e",
   "metadata": {},
   "outputs": [
    {
     "data": {
      "text/plain": [
       "time.struct_time(tm_year=2018, tm_mon=4, tm_mday=20, tm_hour=0, tm_min=0, tm_sec=0, tm_wday=4, tm_yday=110, tm_isdst=-1)"
      ]
     },
     "execution_count": 50,
     "metadata": {},
     "output_type": "execute_result"
    }
   ],
   "source": [
    "time.strptime('2018-04-20', '%Y-%m-%d')"
   ]
  },
  {
   "cell_type": "code",
   "execution_count": null,
   "id": "b5f522e7-4fec-4967-b056-058428259f4f",
   "metadata": {},
   "outputs": [],
   "source": [
    "datetime.datetime.strptime(date_time,'%Y-%m-%d %H:%M:%S').timestamp()"
   ]
  },
  {
   "cell_type": "code",
   "execution_count": 44,
   "id": "1e4adc3b-a864-4789-8fc2-77182fb6920b",
   "metadata": {},
   "outputs": [
    {
     "data": {
      "text/plain": [
       "1524063600.0"
      ]
     },
     "execution_count": 44,
     "metadata": {},
     "output_type": "execute_result"
    }
   ],
   "source": [
    "datetime.datetime.strptime('2018-04-19', '%Y-%m-%d').timestamp()"
   ]
  },
  {
   "cell_type": "code",
   "execution_count": 28,
   "id": "ddfb3b96-877d-4474-8223-a3f97266c488",
   "metadata": {},
   "outputs": [
    {
     "data": {
      "text/plain": [
       "time.struct_time(tm_year=2022, tm_mon=6, tm_mday=17, tm_hour=8, tm_min=25, tm_sec=17, tm_wday=4, tm_yday=168, tm_isdst=0)"
      ]
     },
     "execution_count": 28,
     "metadata": {},
     "output_type": "execute_result"
    }
   ],
   "source": [
    "real_time"
   ]
  },
  {
   "cell_type": "code",
   "execution_count": 11,
   "id": "27fb84bd-d1e2-422f-9c3d-5871ad69ee92",
   "metadata": {},
   "outputs": [],
   "source": [
    "req = requests.get(\n",
    "    \"https://tvc4.investing.com/a45af155c061612034247e27ff2ed977/1655276049/1/1/8/history?symbol=6408&resolution=60&from=1524096000&to=1524182400\",\n",
    "    headers = {\n",
    "        \"User-Agent\": random_user_agent(),\n",
    "        \"X-Requested-With\": \"XMLHttpRequest\",\n",
    "        \"Accept\": \"text/html\",\n",
    "        \"Accept-Encoding\": \"gzip, deflate\",\n",
    "        \"Connection\": \"keep-alive\",\n",
    "    }\n",
    ")"
   ]
  },
  {
   "cell_type": "code",
   "execution_count": 12,
   "id": "1260479e-7eea-45e0-8348-20512766e645",
   "metadata": {},
   "outputs": [
    {
     "data": {
      "text/plain": [
       "{'t': [1524142800,\n",
       "  1524146400,\n",
       "  1524150000,\n",
       "  1524153600,\n",
       "  1524157200,\n",
       "  1524160800,\n",
       "  1524164400],\n",
       " 'c': [43.627498626709,\n",
       "  43.430000305176,\n",
       "  43.349998474121,\n",
       "  43.337501525879,\n",
       "  43.470001220703,\n",
       "  43.279998779297,\n",
       "  43.200000762939],\n",
       " 'o': [43.662498474121,\n",
       "  43.622501373291,\n",
       "  43.432498931885,\n",
       "  43.342498779297,\n",
       "  43.332500457764,\n",
       "  43.462501525879,\n",
       "  43.279998779297],\n",
       " 'h': [43.847499847412,\n",
       "  43.659999847412,\n",
       "  43.497501373291,\n",
       "  43.447498321533,\n",
       "  43.494998931885,\n",
       "  43.485000610352,\n",
       "  43.380001068115],\n",
       " 'l': [43.532501220703,\n",
       "  43.415000915527,\n",
       "  43.317501068115,\n",
       "  43.290000915527,\n",
       "  43.307498931885,\n",
       "  43.172500610352,\n",
       "  43.200000762939],\n",
       " 'v': [24217176, 22086620, 15953248, 12289132, 9179056, 15153376, 39436008],\n",
       " 'vo': [0, 0, 0, 0, 0, 0, 0],\n",
       " 's': 'ok'}"
      ]
     },
     "execution_count": 12,
     "metadata": {},
     "output_type": "execute_result"
    }
   ],
   "source": [
    "json.loads(req.text)"
   ]
  },
  {
   "cell_type": "markdown",
   "id": "6ce801a3-79cd-476d-80ee-58c88c6fd51c",
   "metadata": {},
   "source": [
    "https://tvc4.investing.com/a45af155c061612034247e27ff2ed977/1655276049/1/1/8/history?symbol=6408&resolution=60&from=1524096000&to=1524182400"
   ]
  },
  {
   "cell_type": "markdown",
   "id": "ad9ca195-3ccc-4ce0-85a5-820da1d1e8bb",
   "metadata": {},
   "source": [
    "https://www.investing.com/equities/apple-computer-inc-chart"
   ]
  },
  {
   "cell_type": "code",
   "execution_count": null,
   "id": "ddd8dc6e-dd86-4570-9946-a303df424a60",
   "metadata": {},
   "outputs": [],
   "source": []
  }
 ],
 "metadata": {
  "kernelspec": {
   "display_name": "Python 3 (ipykernel)",
   "language": "python",
   "name": "python3"
  },
  "language_info": {
   "codemirror_mode": {
    "name": "ipython",
    "version": 3
   },
   "file_extension": ".py",
   "mimetype": "text/x-python",
   "name": "python",
   "nbconvert_exporter": "python",
   "pygments_lexer": "ipython3",
   "version": "3.8.13"
  }
 },
 "nbformat": 4,
 "nbformat_minor": 5
}
