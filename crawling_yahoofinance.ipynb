{
 "cells": [
  {
   "cell_type": "code",
   "execution_count": 1,
   "id": "c01ac4da-ed5c-4dcf-95a8-42d83ef5d6fa",
   "metadata": {},
   "outputs": [],
   "source": [
    "import FinanceDataReader as fdr\n",
    "import requests, lxml\n",
    "from bs4 import BeautifulSoup\n",
    "from selenium import webdriver\n",
    "from selenium.webdriver.chrome.options import Options\n",
    "from selenium.webdriver.common.by import By\n",
    "from selenium.webdriver.common.keys import Keys\n",
    "import time, datetime"
   ]
  },
  {
   "cell_type": "markdown",
   "id": "4a7e0a25-10c0-4b94-9cfb-4bcc2e5a3946",
   "metadata": {},
   "source": [
    "### STOCK List&Chart"
   ]
  },
  {
   "cell_type": "code",
   "execution_count": 6,
   "id": "bd1be639-8558-482f-a896-ccb0821a50d7",
   "metadata": {},
   "outputs": [],
   "source": [
    "start = '2021.05.30'\n",
    "end = '2022.05.29'"
   ]
  },
  {
   "cell_type": "code",
   "execution_count": 3,
   "id": "c6a95823-7902-4326-b05f-49295c14fc6b",
   "metadata": {},
   "outputs": [
    {
     "name": "stderr",
     "output_type": "stream",
     "text": [
      "100%|█████████████████████████████████████| 4629/4629 [00:09<00:00, 473.83it/s]\n"
     ]
    }
   ],
   "source": [
    "dr_krx = fdr.StockListing('NASDAQ')"
   ]
  },
  {
   "cell_type": "code",
   "execution_count": 4,
   "id": "7559cc57-dbb2-49ae-8a2f-25a5d9d147ff",
   "metadata": {},
   "outputs": [
    {
     "data": {
      "text/html": [
       "<div>\n",
       "<style scoped>\n",
       "    .dataframe tbody tr th:only-of-type {\n",
       "        vertical-align: middle;\n",
       "    }\n",
       "\n",
       "    .dataframe tbody tr th {\n",
       "        vertical-align: top;\n",
       "    }\n",
       "\n",
       "    .dataframe thead th {\n",
       "        text-align: right;\n",
       "    }\n",
       "</style>\n",
       "<table border=\"1\" class=\"dataframe\">\n",
       "  <thead>\n",
       "    <tr style=\"text-align: right;\">\n",
       "      <th></th>\n",
       "      <th>Symbol</th>\n",
       "      <th>Name</th>\n",
       "      <th>Industry</th>\n",
       "      <th>IndustryCode</th>\n",
       "    </tr>\n",
       "  </thead>\n",
       "  <tbody>\n",
       "    <tr>\n",
       "      <th>0</th>\n",
       "      <td>AAPL</td>\n",
       "      <td>Apple Inc</td>\n",
       "      <td>컴퓨터, 전화 및 가전제품</td>\n",
       "      <td>571060</td>\n",
       "    </tr>\n",
       "    <tr>\n",
       "      <th>1</th>\n",
       "      <td>MSFT</td>\n",
       "      <td>Microsoft Corp</td>\n",
       "      <td>소프트웨어 및 IT서비스</td>\n",
       "      <td>572010</td>\n",
       "    </tr>\n",
       "    <tr>\n",
       "      <th>2</th>\n",
       "      <td>AMZN</td>\n",
       "      <td>Amazon.com Inc</td>\n",
       "      <td>다양한 소매업</td>\n",
       "      <td>534020</td>\n",
       "    </tr>\n",
       "    <tr>\n",
       "      <th>3</th>\n",
       "      <td>GOOGL</td>\n",
       "      <td>Alphabet Inc Class A</td>\n",
       "      <td>소프트웨어 및 IT서비스</td>\n",
       "      <td>572010</td>\n",
       "    </tr>\n",
       "    <tr>\n",
       "      <th>4</th>\n",
       "      <td>TSLA</td>\n",
       "      <td>Tesla Inc</td>\n",
       "      <td>자동차 및 자동차 부품</td>\n",
       "      <td>531010</td>\n",
       "    </tr>\n",
       "    <tr>\n",
       "      <th>5</th>\n",
       "      <td>GOOG</td>\n",
       "      <td>Alphabet Inc Class C</td>\n",
       "      <td>소프트웨어 및 IT서비스</td>\n",
       "      <td>572010</td>\n",
       "    </tr>\n",
       "    <tr>\n",
       "      <th>6</th>\n",
       "      <td>FB</td>\n",
       "      <td>Meta Platforms Inc Class A</td>\n",
       "      <td>소프트웨어 및 IT서비스</td>\n",
       "      <td>572010</td>\n",
       "    </tr>\n",
       "    <tr>\n",
       "      <th>7</th>\n",
       "      <td>NVDA</td>\n",
       "      <td>NVIDIA Corp</td>\n",
       "      <td>반도체 및 반도체 장비</td>\n",
       "      <td>571010</td>\n",
       "    </tr>\n",
       "    <tr>\n",
       "      <th>8</th>\n",
       "      <td>ONBPP</td>\n",
       "      <td>Old National Bancorp 40 Depositary Shares Rep ...</td>\n",
       "      <td>은행</td>\n",
       "      <td>551010</td>\n",
       "    </tr>\n",
       "    <tr>\n",
       "      <th>9</th>\n",
       "      <td>PEP</td>\n",
       "      <td>PepsiCo Inc</td>\n",
       "      <td>음료</td>\n",
       "      <td>541010</td>\n",
       "    </tr>\n",
       "  </tbody>\n",
       "</table>\n",
       "</div>"
      ],
      "text/plain": [
       "  Symbol                                               Name        Industry  \\\n",
       "0   AAPL                                          Apple Inc  컴퓨터, 전화 및 가전제품   \n",
       "1   MSFT                                     Microsoft Corp   소프트웨어 및 IT서비스   \n",
       "2   AMZN                                     Amazon.com Inc         다양한 소매업   \n",
       "3  GOOGL                               Alphabet Inc Class A   소프트웨어 및 IT서비스   \n",
       "4   TSLA                                          Tesla Inc    자동차 및 자동차 부품   \n",
       "5   GOOG                               Alphabet Inc Class C   소프트웨어 및 IT서비스   \n",
       "6     FB                         Meta Platforms Inc Class A   소프트웨어 및 IT서비스   \n",
       "7   NVDA                                        NVIDIA Corp    반도체 및 반도체 장비   \n",
       "8  ONBPP  Old National Bancorp 40 Depositary Shares Rep ...              은행   \n",
       "9    PEP                                        PepsiCo Inc              음료   \n",
       "\n",
       "  IndustryCode  \n",
       "0       571060  \n",
       "1       572010  \n",
       "2       534020  \n",
       "3       572010  \n",
       "4       531010  \n",
       "5       572010  \n",
       "6       572010  \n",
       "7       571010  \n",
       "8       551010  \n",
       "9       541010  "
      ]
     },
     "execution_count": 4,
     "metadata": {},
     "output_type": "execute_result"
    }
   ],
   "source": [
    "dr_krx[:10]"
   ]
  },
  {
   "cell_type": "code",
   "execution_count": 8,
   "id": "b14ad742-8287-481e-848f-cafc66b2f776",
   "metadata": {},
   "outputs": [
    {
     "data": {
      "text/plain": [
       "<AxesSubplot:xlabel='Date'>"
      ]
     },
     "execution_count": 8,
     "metadata": {},
     "output_type": "execute_result"
    },
    {
     "data": {
      "image/png": "[encoded data removed]",
      "text/plain": [
       "<Figure size 432x288 with 1 Axes>"
      ]
     },
     "metadata": {
      "needs_background": "light"
     },
     "output_type": "display_data"
    }
   ],
   "source": [
    "df = fdr.DataReader('AAPL', start, end)\n",
    "df['Close'].plot()"
   ]
  },
  {
   "cell_type": "markdown",
   "id": "03079f9d-00ed-4104-a9ea-0c33b8a415e8",
   "metadata": {},
   "source": [
    "### Crawling"
   ]
  },
  {
   "cell_type": "code",
   "execution_count": 2,
   "id": "0f686013-44ea-40d4-ba54-74c076ae972a",
   "metadata": {
    "tags": []
   },
   "outputs": [],
   "source": [
    "# options\n",
    "headers = {\n",
    "    \"User-Agent\" : \"Mozilla/5.0 (Macintosh; Intel Mac OS X 10_15_7) AppleWebKit/537.36 (KHTML, like Gecko) Chrome/102.0.5005.61 Safari/537.36\"\n",
    "}\n",
    "\n",
    "# params = {\n",
    "#     'q' : 'AAPL',\n",
    "#     'hl' : 'en-US',\n",
    "#     'gl' : 'US',\n",
    "#     'ceid' : 'US%3Aen'\n",
    "# }\n",
    "# response = requests.get(\"https://news.google.com/search\", headers=headers, params=params)"
   ]
  },
  {
   "cell_type": "markdown",
   "id": "9490aa35-1986-4faf-a7fc-ff7e70fe7e5a",
   "metadata": {},
   "source": [
    "### title xpath 형식\n",
    "\n",
    "//*[@id=\"quoteNewsStream-0-Stream\"]/ul/li[1]/div/div/div[2]/h3/a/text()  \n",
    "//*[@id=\"quoteNewsStream-0-Stream\"]/ul/li[6]/div/div/div[2]/h3/a/text()  \n",
    "//*[@id=\"quoteNewsStream-0-Stream\"]/ul/li[8]/div/div/div[2]/h3/a/text()  \n",
    "//*[@id=\"quoteNewsStream-0-Stream\"]/ul/li[19]/div/div/div[2]/h3/a/text()  "
   ]
  },
  {
   "cell_type": "code",
   "execution_count": 3,
   "id": "0059a808-883f-4bc9-83c4-229282c5357b",
   "metadata": {},
   "outputs": [
    {
     "name": "stderr",
     "output_type": "stream",
     "text": [
      "/var/folders/xw/rbcyfp692g3c5w_0qcls7ncm0000gn/T/ipykernel_24070/2809960807.py:18: DeprecationWarning: executable_path has been deprecated, please pass in a Service object\n",
      "  driver = webdriver.Chrome(executable_path='/Users/parkdoyeong/Documents/Paper/STOCK2022/chromedriver', options=options)\n",
      "/var/folders/xw/rbcyfp692g3c5w_0qcls7ncm0000gn/T/ipykernel_24070/2809960807.py:33: DeprecationWarning: find_element_by_css_selector is deprecated. Please use find_element(by=By.CSS_SELECTOR, value=css_selector) instead\n",
      "  body = driver.find_element_by_css_selector('body')\n"
     ]
    }
   ],
   "source": [
    "titles = []\n",
    "\n",
    "# selenium setting\n",
    "url = \"https://finance.yahoo.com/quote/AAPL?p=AAPL&.tsrc=fin-srch\"\n",
    "whileSeconds = 10\n",
    "SCROLLTIME = 60\n",
    "\n",
    "# protect deny\n",
    "options = webdriver.ChromeOptions()\n",
    "options.add_experimental_option('excludeSwitches', ['enable-logging'])\n",
    "options.add_argument('user-agent=Mozilla/5.0 (Macintosh; Intel Mac OS X 10_15_7) AppleWebKit/537.36 (KHTML, like Gecko) Chrome/102.0.5005.61 Safari/537.36')\n",
    "\n",
    "# start, end\n",
    "start = datetime.datetime.now()\n",
    "end = start + datetime.timedelta(seconds=whileSeconds)    \n",
    "\n",
    "# open yahoo finance\n",
    "driver = webdriver.Chrome(executable_path='/Users/parkdoyeong/Documents/Paper/STOCK2022/chromedriver', options=options)\n",
    "driver.get(url)\n",
    "\n",
    "# scroll\n",
    "# excute_script method\n",
    "# while True:\n",
    "#     driver.execute_script('window.scrollTo(0, document.body.scrollHeight);')\n",
    "#     time.sleep(whileSeconds)\n",
    "    \n",
    "#     if datetime.datetime.now() > end:\n",
    "#         break\n",
    "\n",
    "# scroll\n",
    "# send_kes method\n",
    "driver.implicitly_wait(whileSeconds)\n",
    "body = driver.find_element_by_css_selector('body') \n",
    "\n",
    "for i in range(SCROLLTIME):\n",
    "    body.send_keys(Keys.PAGE_DOWN)\n",
    "    time.sleep(0.3)\n",
    "\n",
    "# xpath element -> string\n",
    "title = driver.find_element(By.XPATH, '//*[@id=\"quoteNewsStream-0-Stream\"]/ul')\n",
    "title = title.get_attribute('innerText')\n",
    "titles.append(title)\n",
    "\n",
    "driver.close()"
   ]
  },
  {
   "cell_type": "code",
   "execution_count": 19,
   "id": "51c18a3d-a159-4777-b746-5aad665d7da0",
   "metadata": {},
   "outputs": [
    {
     "data": {
      "text/plain": [
       "513"
      ]
     },
     "execution_count": 19,
     "metadata": {},
     "output_type": "execute_result"
    }
   ],
   "source": [
    "len(titles[0].split('\\n'))"
   ]
  },
  {
   "cell_type": "code",
   "execution_count": 15,
   "id": "e743060d-46c9-44d1-9b6c-23be9adfc1a9",
   "metadata": {},
   "outputs": [
    {
     "data": {
      "text/plain": [
       "1233"
      ]
     },
     "execution_count": 15,
     "metadata": {},
     "output_type": "execute_result"
    }
   ],
   "source": [
    "len(titles[0].split('\\n'))"
   ]
  },
  {
   "cell_type": "code",
   "execution_count": null,
   "id": "a7397612-064d-4e61-a7e8-084110cbfb75",
   "metadata": {},
   "outputs": [],
   "source": []
  }
 ],
 "metadata": {
  "kernelspec": {
   "display_name": "Python 3 (ipykernel)",
   "language": "python",
   "name": "python3"
  },
  "language_info": {
   "codemirror_mode": {
    "name": "ipython",
    "version": 3
   },
   "file_extension": ".py",
   "mimetype": "text/x-python",
   "name": "python",
   "nbconvert_exporter": "python",
   "pygments_lexer": "ipython3",
   "version": "3.8.13"
  }
 },
 "nbformat": 4,
 "nbformat_minor": 5
}
