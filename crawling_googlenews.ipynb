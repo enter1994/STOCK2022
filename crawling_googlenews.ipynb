{
 "cells": [
  {
   "cell_type": "code",
   "execution_count": 2,
   "id": "c01ac4da-ed5c-4dcf-95a8-42d83ef5d6fa",
   "metadata": {},
   "outputs": [],
   "source": [
    "import requests, lxml\n",
    "from bs4 import BeautifulSoup\n",
    "from selenium import webdriver\n",
    "from selenium.webdriver.chrome.options import Options\n",
    "import datetime, time"
   ]
  },
  {
   "cell_type": "code",
   "execution_count": 34,
   "id": "0f686013-44ea-40d4-ba54-74c076ae972a",
   "metadata": {
    "tags": []
   },
   "outputs": [],
   "source": [
    "# options\n",
    "SCROLL_PAUSE_TIME = 1\n",
    "headers = {\n",
    "    \"User-Agent\" : \"Mozilla/5.0 (Macintosh; Intel Mac OS X 10_15_7) AppleWebKit/537.36 (KHTML, like Gecko) Chrome/102.0.5005.61 Safari/537.36\"\n",
    "}\n",
    "\n",
    "# params = {\n",
    "#     'q' : 'AAPL',\n",
    "#     'hl' : 'en-US',\n",
    "#     'gl' : 'US',\n",
    "#     'ceid' : 'US%3Aen'\n",
    "# }\n",
    "# response = requests.get(\"https://news.google.com/search\", headers=headers, params=params)"
   ]
  },
  {
   "cell_type": "code",
   "execution_count": 49,
   "id": "a84b657a-9d3f-49dc-bfeb-ab3c22b0f085",
   "metadata": {
    "tags": []
   },
   "outputs": [
    {
     "name": "stderr",
     "output_type": "stream",
     "text": [
      "/var/folders/xw/rbcyfp692g3c5w_0qcls7ncm0000gn/T/ipykernel_25212/1069644110.py:5: DeprecationWarning: executable_path has been deprecated, please pass in a Service object\n",
      "  driver = webdriver.Chrome(executable_path='/Users/parkdoyeong/Documents/Paper/STOCK2022/chromedriver')\n"
     ]
    }
   ],
   "source": [
    "# selenium setting\n",
    "url = \"https://news.google.com/search?q=Amazon&hl=en-US&gl=US&ceid=US%3Aen\"\n",
    "whileSeconds = 60\n",
    "\n",
    "driver = webdriver.Chrome(executable_path='/Users/parkdoyeong/Documents/Paper/STOCK2022/chromedriver')\n",
    "driver.get(url)\n",
    "\n",
    "start = datetime.datetime.now()\n",
    "end = start + datetime.timedelta(seconds=whileSeconds)    \n",
    "\n",
    "while True:\n",
    "    driver.execute_script('window.scrollTo(0, document.body.scrollHeight);')\n",
    "    time.sleep(SCROLL_PAUSE_TIME)\n",
    "    if datetime.datetime.now() > end:\n",
    "        break"
   ]
  },
  {
   "cell_type": "code",
   "execution_count": 50,
   "id": "29a43a12-9008-4d7f-84c9-6082a69e4081",
   "metadata": {
    "tags": []
   },
   "outputs": [],
   "source": [
    "soup = BeautifulSoup(driver.page_source, 'lxml')\n",
    "titles = []\n",
    "\n",
    "for line in soup.select('h3'):\n",
    "    title = line.select_one('a').text\n",
    "    titles.append(title)"
   ]
  },
  {
   "cell_type": "code",
   "execution_count": 29,
   "id": "febe49fe-3d6b-4248-8254-85d571dcee4d",
   "metadata": {},
   "outputs": [],
   "source": [
    "def doScrollDown(whileSeconds):\n",
    "    start = datetime.datetime.now()\n",
    "    end = start + datetime.timedelta(seconds=whileSeconds)\n",
    "    \n",
    "    while True:\n",
    "        driver.execute_script('window.scrollTo(0, document.body.scrollHeight);')\n",
    "        time.sleep(SCROLL_PAUSE_TIME)\n",
    "        if datetime.datetime.now() > end:\n",
    "            break"
   ]
  },
  {
   "cell_type": "code",
   "execution_count": 36,
   "id": "b9cc01fb-810f-4d31-b2da-67acb5b3bf6f",
   "metadata": {},
   "outputs": [
    {
     "name": "stdout",
     "output_type": "stream",
     "text": [
      "None\n"
     ]
    }
   ],
   "source": [
    "print(doScrollDown(10))"
   ]
  },
  {
   "cell_type": "code",
   "execution_count": null,
   "id": "a7397612-064d-4e61-a7e8-084110cbfb75",
   "metadata": {},
   "outputs": [],
   "source": []
  }
 ],
 "metadata": {
  "kernelspec": {
   "display_name": "Python 3 (ipykernel)",
   "language": "python",
   "name": "python3"
  },
  "language_info": {
   "codemirror_mode": {
    "name": "ipython",
    "version": 3
   },
   "file_extension": ".py",
   "mimetype": "text/x-python",
   "name": "python",
   "nbconvert_exporter": "python",
   "pygments_lexer": "ipython3",
   "version": "3.8.13"
  }
 },
 "nbformat": 4,
 "nbformat_minor": 5
}
