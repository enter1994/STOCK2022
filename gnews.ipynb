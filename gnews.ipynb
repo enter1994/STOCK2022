{
 "cells": [
  {
   "cell_type": "code",
   "execution_count": 1,
   "id": "51d9c037-0d3e-4486-b93b-d53d0a60fc5c",
   "metadata": {},
   "outputs": [],
   "source": [
    "from gnews import GNews\n",
    "import inv"
   ]
  },
  {
   "cell_type": "code",
   "execution_count": 60,
   "id": "069e886a-d5b3-4bea-b81b-7a325bbb98f7",
   "metadata": {
    "scrolled": true,
    "tags": []
   },
   "outputs": [],
   "source": [
    "google_news = GNews('en', 'US')\n",
    "google_news.period = '90d'\n",
    "google_news.results = 10000\n",
    "google_news.exclude_websites = ['cnn.com']"
   ]
  },
  {
   "cell_type": "code",
   "execution_count": 61,
   "id": "acc31ece-66d4-4afa-8c47-2ddc6bad051b",
   "metadata": {},
   "outputs": [],
   "source": [
    "news = google_news.get_news('AAPL')"
   ]
  },
  {
   "cell_type": "code",
   "execution_count": 64,
   "id": "f39a647b-5aaa-478a-a686-e438e06bde05",
   "metadata": {},
   "outputs": [
    {
     "data": {
      "text/plain": [
       "{'title': 'Pre-Market Most Active for May 11, 2022 : TQQQ, SWCH, RDBX, SQQQ, OXY, QQQ, CSX, AAPL, U, RBLX, GSK, NIO - Nasdaq',\n",
       " 'description': 'Pre-Market Most Active for May 11, 2022 : TQQQ, SWCH, RDBX, SQQQ, OXY, QQQ, CSX, AAPL, U, RBLX, GSK, NIO  Nasdaq',\n",
       " 'published date': 'Wed, 11 May 2022 12:29:55 GMT',\n",
       " 'url': 'https://www.nasdaq.com/articles/pre-market-most-active-for-may-11-2022-%3A-tqqq-swch-rdbx-sqqq-oxy-qqq-csx-aapl-u-rblx-gsk',\n",
       " 'publisher': {'href': 'https://www.nasdaq.com', 'title': 'Nasdaq'}}"
      ]
     },
     "execution_count": 64,
     "metadata": {},
     "output_type": "execute_result"
    }
   ],
   "source": [
    "news[-1]"
   ]
  },
  {
   "cell_type": "code",
   "execution_count": 41,
   "id": "21bac2c6-108c-4eaf-93ac-98d753d0da77",
   "metadata": {},
   "outputs": [],
   "source": []
  },
  {
   "cell_type": "code",
   "execution_count": null,
   "id": "3ebaeb23-3d82-4196-93a5-86e4e0e6142d",
   "metadata": {},
   "outputs": [],
   "source": []
  },
  {
   "cell_type": "code",
   "execution_count": null,
   "id": "3ad5a338-deae-46e6-bcd7-ac985cb3a526",
   "metadata": {},
   "outputs": [],
   "source": []
  },
  {
   "cell_type": "code",
   "execution_count": null,
   "id": "7e9829f9-d287-4a32-8f4f-77e49c02274a",
   "metadata": {},
   "outputs": [],
   "source": []
  },
  {
   "cell_type": "code",
   "execution_count": null,
   "id": "e687b125-90da-4e94-9486-7d6cd817a67a",
   "metadata": {},
   "outputs": [],
   "source": []
  },
  {
   "cell_type": "code",
   "execution_count": null,
   "id": "39b1628d-e4cf-4e0d-9a4b-0ce34e6440e7",
   "metadata": {},
   "outputs": [],
   "source": []
  },
  {
   "cell_type": "code",
   "execution_count": null,
   "id": "ec5b4beb-3412-42c0-8da8-d9530004e461",
   "metadata": {},
   "outputs": [],
   "source": []
  },
  {
   "cell_type": "code",
   "execution_count": null,
   "id": "8a457b76-85f4-4e8e-af54-2c941906bc1e",
   "metadata": {},
   "outputs": [],
   "source": []
  },
  {
   "cell_type": "code",
   "execution_count": null,
   "id": "d37c3652-4a6e-4111-8e5a-8d5bde7940ef",
   "metadata": {},
   "outputs": [],
   "source": []
  },
  {
   "cell_type": "code",
   "execution_count": null,
   "id": "0a73eeea-4a93-40c1-a466-dd8899ac3daf",
   "metadata": {},
   "outputs": [],
   "source": []
  },
  {
   "cell_type": "code",
   "execution_count": null,
   "id": "0b8eba3b-0915-42e4-99c5-aa608e636bc4",
   "metadata": {},
   "outputs": [],
   "source": []
  },
  {
   "cell_type": "code",
   "execution_count": null,
   "id": "0198e6a1-292c-4324-90d9-6c5e36615638",
   "metadata": {},
   "outputs": [],
   "source": []
  },
  {
   "cell_type": "code",
   "execution_count": null,
   "id": "39ff4466-1eea-4fa2-9845-b7cb6581a3c3",
   "metadata": {},
   "outputs": [],
   "source": []
  }
 ],
 "metadata": {
  "kernelspec": {
   "display_name": "Python 3 (ipykernel)",
   "language": "python",
   "name": "python3"
  },
  "language_info": {
   "codemirror_mode": {
    "name": "ipython",
    "version": 3
   },
   "file_extension": ".py",
   "mimetype": "text/x-python",
   "name": "python",
   "nbconvert_exporter": "python",
   "pygments_lexer": "ipython3",
   "version": "3.8.13"
  }
 },
 "nbformat": 4,
 "nbformat_minor": 5
}
