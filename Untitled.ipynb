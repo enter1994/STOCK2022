{
 "cells": [
  {
   "cell_type": "code",
   "execution_count": 1,
   "id": "150bed01-4bcf-4cb6-b0e8-c60b8d6c402b",
   "metadata": {},
   "outputs": [],
   "source": [
    "from newsplease import NewsPlease"
   ]
  },
  {
   "cell_type": "code",
   "execution_count": 2,
   "id": "497cd4a2-636a-4423-8956-2f8767269e08",
   "metadata": {},
   "outputs": [],
   "source": [
    "article = NewsPlease.from_url('https://www.investing.com/equities/apple-computer-inc-commentary/6')"
   ]
  },
  {
   "cell_type": "code",
   "execution_count": 4,
   "id": "2ace5b04-0efd-40e6-b828-b6f1a13ac241",
   "metadata": {},
   "outputs": [
    {
     "data": {
      "text/plain": [
       "'Apple (AAPL) Stock Forums'"
      ]
     },
     "execution_count": 4,
     "metadata": {},
     "output_type": "execute_result"
    }
   ],
   "source": [
    "article.title\n"
   ]
  },
  {
   "cell_type": "code",
   "execution_count": null,
   "id": "75975a89-e89e-4f00-aad0-865e593711ed",
   "metadata": {},
   "outputs": [],
   "source": []
  }
 ],
 "metadata": {
  "kernelspec": {
   "display_name": "Python 3 (ipykernel)",
   "language": "python",
   "name": "python3"
  },
  "language_info": {
   "codemirror_mode": {
    "name": "ipython",
    "version": 3
   },
   "file_extension": ".py",
   "mimetype": "text/x-python",
   "name": "python",
   "nbconvert_exporter": "python",
   "pygments_lexer": "ipython3",
   "version": "3.8.13"
  }
 },
 "nbformat": 4,
 "nbformat_minor": 5
}
