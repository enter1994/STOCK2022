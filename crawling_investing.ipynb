{
 "cells": [
  {
   "cell_type": "code",
   "execution_count": 236,
   "id": "5368b2dd-4b49-4abb-ae69-6f79912b1bad",
   "metadata": {},
   "outputs": [],
   "source": [
    "import pandas as pd\n",
    "import numpy as np\n",
    "import requests\n",
    "from bs4 import BeautifulSoup\n",
    "from multiprocessing import Pool\n",
    "import FinanceDataReader as fdr\n",
    "import requests, lxml\n",
    "from selenium import webdriver\n",
    "from selenium.webdriver.chrome.options import Options\n",
    "from selenium.webdriver.common.by import By\n",
    "from selenium.webdriver.common.keys import Keys\n",
    "from selenium.webdriver.common.action_chains import ActionChains\n",
    "\n",
    "import time, datetime"
   ]
  },
  {
   "cell_type": "code",
   "execution_count": 100,
   "id": "0a966be1-02b7-406c-b658-372027ad617c",
   "metadata": {},
   "outputs": [],
   "source": [
    "def getInvesting(ticker):\n",
    "    target_address = 'https://www.google.com/search?q='+ticker+'+investing'\n",
    "    html = requests.get(target_address)\n",
    "    soup = BeautifulSoup(html.text, 'html.parser')\n",
    "    posts = soup.select('.kCrYT a ')\n",
    "    #for chooes first herf \n",
    "    href = str(posts[0].attrs['href'])\n",
    "    #then href is 'https:/www.investing/equities/stock&~~~~~~ \n",
    "    #so 1.find  start-index : index('equities') , end-index : index('&')\n",
    "    # and slicing href[start : end]\n",
    "    start = href.find('equities')\n",
    "    end = href.find('&')\n",
    "    # print(href[start:end])\n",
    "    return \"https://www.investing.com/\" +href[start:end]+'-commentary'"
   ]
  },
  {
   "cell_type": "code",
   "execution_count": 21,
   "id": "98ebf00a-d187-45f1-be1b-fa8d97049bdd",
   "metadata": {},
   "outputs": [],
   "source": [
    "def get_comments(target_address):\n",
    "    result = []\n",
    "    headers = {'User-Agent':\"Mozilla/5.0 (Macintosh; Intel Mac OS X 10_15_7) AppleWebKit/537.36 (KHTML, like Gecko) Chrome/102.0.5005.61 Safari/537.36\"}\n",
    "    html = requests.get(target_address)\n",
    "    soup = BeautifulSoup(html.text, 'html.parser')\n",
    "    print(soup)\n",
    "    posts = soup.find_all('div', {'class' : 'comment_content__AvzPV'})\n",
    "    for i in posts:\n",
    "        result.append(i.text.strip())\n",
    "    return result"
   ]
  },
  {
   "cell_type": "code",
   "execution_count": 335,
   "id": "cd00ba4e-0e64-490f-8653-7d6316e09390",
   "metadata": {},
   "outputs": [],
   "source": [
    "titles = []\n",
    "dates = []\n",
    "\n",
    "def get_title(corp):\n",
    "    \n",
    "    options = webdriver.ChromeOptions()\n",
    "    options.add_experimental_option('excludeSwitches', ['enable-logging'])\n",
    "    options.add_argument('user-agent=Mozilla/5.0 (Macintosh; Intel Mac OS X 10_15_7) AppleWebKit/537.36 (KHTML, like Gecko) Chrome/102.0.5005.61 Safari/537.36')\n",
    "    driver = webdriver.Chrome(executable_path='./chromedriver', options=options)\n",
    "    \n",
    "    driver.get(getInvesting(corp))\n",
    "    driver.implicitly_wait(2)\n",
    "\n",
    "    articles = driver.find_elements_by_class_name('comment_content__AvzPV')\n",
    "    soup = BeautifulSoup(driver.page_source, 'lxml')\n",
    "    \n",
    "    for line in articles:\n",
    "        titles.append(line.text)\n",
    "\n",
    "    for line in soup.select('div.comment_chat-header__36SjM span span'):\n",
    "        title = line.text\n",
    "        dates.append(title)        \n",
    "\n",
    "    page = 0\n",
    "    cnt = 0\n",
    "    \n",
    "    while True:\n",
    "        page += 2\n",
    "        \n",
    "        if page % 10 == 0:\n",
    "            time.sleep(10)\n",
    "        \n",
    "        url = getInvesting(corp)+ '/' + str(page)\n",
    "        \n",
    "        driver.get(url)\n",
    "        driver.implicitly_wait(10)\n",
    "\n",
    "        articles = driver.find_elements_by_class_name('comment_content__AvzPV')\n",
    "        soup = BeautifulSoup(driver.page_source, 'lxml')\n",
    "        link = soup.find_all('link', rel='canonical')\n",
    "        \n",
    "        if link[0]['href'] == getInvesting(corp):\n",
    "            print(cnt)\n",
    "            \n",
    "            break\n",
    "\n",
    "        for line in articles:\n",
    "            titles.append(line.text)\n",
    "            \n",
    "        for line in soup.select('div.comment_chat-header__36SjM span span'):\n",
    "            title = line.text\n",
    "            dates.append(title)\n",
    "        \n",
    "        cnt += 1\n",
    "        \n",
    "    driver.close()\n",
    "\n",
    "    return titles, dates"
   ]
  },
  {
   "cell_type": "code",
   "execution_count": 336,
   "id": "220168c8-93dc-4600-a124-942fb470c62f",
   "metadata": {
    "scrolled": true,
    "tags": []
   },
   "outputs": [
    {
     "name": "stderr",
     "output_type": "stream",
     "text": [
      "/var/folders/xw/rbcyfp692g3c5w_0qcls7ncm0000gn/T/ipykernel_21490/3144339217.py:9: DeprecationWarning: executable_path has been deprecated, please pass in a Service object\n",
      "  driver = webdriver.Chrome(executable_path='./chromedriver', options=options)\n",
      "/var/folders/xw/rbcyfp692g3c5w_0qcls7ncm0000gn/T/ipykernel_21490/3144339217.py:14: DeprecationWarning: find_elements_by_class_name is deprecated. Please use find_elements(by=By.CLASS_NAME, value=name) instead\n",
      "  articles = driver.find_elements_by_class_name('comment_content__AvzPV')\n",
      "/var/folders/xw/rbcyfp692g3c5w_0qcls7ncm0000gn/T/ipykernel_21490/3144339217.py:38: DeprecationWarning: find_elements_by_class_name is deprecated. Please use find_elements(by=By.CLASS_NAME, value=name) instead\n",
      "  articles = driver.find_elements_by_class_name('comment_content__AvzPV')\n"
     ]
    },
    {
     "ename": "NoSuchWindowException",
     "evalue": "Message: no such window: window was already closed\n  (Session info: chrome=102.0.5005.61)\nStacktrace:\n0   chromedriver                        0x0000000102eb9170 chromedriver + 4477296\n1   chromedriver                        0x0000000102e50c18 chromedriver + 4049944\n2   chromedriver                        0x0000000102aa2d40 chromedriver + 191808\n3   chromedriver                        0x0000000102a937d8 chromedriver + 128984\n4   chromedriver                        0x0000000102a8de34 chromedriver + 106036\n5   chromedriver                        0x0000000102afa078 chromedriver + 548984\n6   chromedriver                        0x0000000102ac6f58 chromedriver + 339800\n7   chromedriver                        0x0000000102e8ebd4 chromedriver + 4303828\n8   chromedriver                        0x0000000102e93094 chromedriver + 4321428\n9   chromedriver                        0x0000000102e97600 chromedriver + 4339200\n10  chromedriver                        0x0000000102e93af4 chromedriver + 4324084\n11  chromedriver                        0x0000000102e7252c chromedriver + 4187436\n12  chromedriver                        0x0000000102eab488 chromedriver + 4420744\n13  chromedriver                        0x0000000102eab5ec chromedriver + 4421100\n14  chromedriver                        0x0000000102ebf92c chromedriver + 4503852\n15  libsystem_pthread.dylib             0x00000001b486026c _pthread_start + 148\n16  libsystem_pthread.dylib             0x00000001b485b08c thread_start + 8\n",
     "output_type": "error",
     "traceback": [
      "\u001b[0;31m---------------------------------------------------------------------------\u001b[0m",
      "\u001b[0;31mNoSuchWindowException\u001b[0m                     Traceback (most recent call last)",
      "Input \u001b[0;32mIn [336]\u001b[0m, in \u001b[0;36m<cell line: 1>\u001b[0;34m()\u001b[0m\n\u001b[0;32m----> 1\u001b[0m result \u001b[38;5;241m=\u001b[39m \u001b[43mget_title\u001b[49m\u001b[43m(\u001b[49m\u001b[38;5;124;43m'\u001b[39;49m\u001b[38;5;124;43mTSLA\u001b[39;49m\u001b[38;5;124;43m'\u001b[39;49m\u001b[43m)\u001b[49m\n\u001b[1;32m      3\u001b[0m df \u001b[38;5;241m=\u001b[39m pd\u001b[38;5;241m.\u001b[39mDataFrame(\n\u001b[1;32m      4\u001b[0m     {\u001b[38;5;124m'\u001b[39m\u001b[38;5;124mDATE\u001b[39m\u001b[38;5;124m'\u001b[39m : result[\u001b[38;5;241m1\u001b[39m],\n\u001b[1;32m      5\u001b[0m     \u001b[38;5;124m'\u001b[39m\u001b[38;5;124mCOMMENT\u001b[39m\u001b[38;5;124m'\u001b[39m : result[\u001b[38;5;241m0\u001b[39m]})\n\u001b[1;32m      7\u001b[0m df\u001b[38;5;241m.\u001b[39mto_csv(\u001b[38;5;124m'\u001b[39m\u001b[38;5;124mTESLA.csv\u001b[39m\u001b[38;5;124m'\u001b[39m, index\u001b[38;5;241m=\u001b[39m\u001b[38;5;28;01mFalse\u001b[39;00m, encoding\u001b[38;5;241m=\u001b[39m\u001b[38;5;124m'\u001b[39m\u001b[38;5;124mUTF-8\u001b[39m\u001b[38;5;124m'\u001b[39m)\n",
      "Input \u001b[0;32mIn [335]\u001b[0m, in \u001b[0;36mget_title\u001b[0;34m(corp)\u001b[0m\n\u001b[1;32m     35\u001b[0m driver\u001b[38;5;241m.\u001b[39mget(url)\n\u001b[1;32m     36\u001b[0m driver\u001b[38;5;241m.\u001b[39mimplicitly_wait(\u001b[38;5;241m10\u001b[39m)\n\u001b[0;32m---> 38\u001b[0m articles \u001b[38;5;241m=\u001b[39m \u001b[43mdriver\u001b[49m\u001b[38;5;241;43m.\u001b[39;49m\u001b[43mfind_elements_by_class_name\u001b[49m\u001b[43m(\u001b[49m\u001b[38;5;124;43m'\u001b[39;49m\u001b[38;5;124;43mcomment_content__AvzPV\u001b[39;49m\u001b[38;5;124;43m'\u001b[39;49m\u001b[43m)\u001b[49m\n\u001b[1;32m     39\u001b[0m soup \u001b[38;5;241m=\u001b[39m BeautifulSoup(driver\u001b[38;5;241m.\u001b[39mpage_source, \u001b[38;5;124m'\u001b[39m\u001b[38;5;124mlxml\u001b[39m\u001b[38;5;124m'\u001b[39m)\n\u001b[1;32m     40\u001b[0m link \u001b[38;5;241m=\u001b[39m soup\u001b[38;5;241m.\u001b[39mfind_all(\u001b[38;5;124m'\u001b[39m\u001b[38;5;124mlink\u001b[39m\u001b[38;5;124m'\u001b[39m, rel\u001b[38;5;241m=\u001b[39m\u001b[38;5;124m'\u001b[39m\u001b[38;5;124mcanonical\u001b[39m\u001b[38;5;124m'\u001b[39m)\n",
      "File \u001b[0;32m~/miniforge3/envs/crawling/lib/python3.8/site-packages/selenium/webdriver/remote/webdriver.py:789\u001b[0m, in \u001b[0;36mWebDriver.find_elements_by_class_name\u001b[0;34m(self, name)\u001b[0m\n\u001b[1;32m    769\u001b[0m \u001b[38;5;124;03m\"\"\"\u001b[39;00m\n\u001b[1;32m    770\u001b[0m \u001b[38;5;124;03mFinds elements by class name.\u001b[39;00m\n\u001b[1;32m    771\u001b[0m \n\u001b[0;32m   (...)\u001b[0m\n\u001b[1;32m    782\u001b[0m \u001b[38;5;124;03m        elements = driver.find_elements_by_class_name('foo')\u001b[39;00m\n\u001b[1;32m    783\u001b[0m \u001b[38;5;124;03m\"\"\"\u001b[39;00m\n\u001b[1;32m    784\u001b[0m warnings\u001b[38;5;241m.\u001b[39mwarn(\n\u001b[1;32m    785\u001b[0m     \u001b[38;5;124m\"\u001b[39m\u001b[38;5;124mfind_elements_by_class_name is deprecated. Please use find_elements(by=By.CLASS_NAME, value=name) instead\u001b[39m\u001b[38;5;124m\"\u001b[39m,\n\u001b[1;32m    786\u001b[0m     \u001b[38;5;167;01mDeprecationWarning\u001b[39;00m,\n\u001b[1;32m    787\u001b[0m     stacklevel\u001b[38;5;241m=\u001b[39m\u001b[38;5;241m2\u001b[39m,\n\u001b[1;32m    788\u001b[0m )\n\u001b[0;32m--> 789\u001b[0m \u001b[38;5;28;01mreturn\u001b[39;00m \u001b[38;5;28;43mself\u001b[39;49m\u001b[38;5;241;43m.\u001b[39;49m\u001b[43mfind_elements\u001b[49m\u001b[43m(\u001b[49m\u001b[43mby\u001b[49m\u001b[38;5;241;43m=\u001b[39;49m\u001b[43mBy\u001b[49m\u001b[38;5;241;43m.\u001b[39;49m\u001b[43mCLASS_NAME\u001b[49m\u001b[43m,\u001b[49m\u001b[43m \u001b[49m\u001b[43mvalue\u001b[49m\u001b[38;5;241;43m=\u001b[39;49m\u001b[43mname\u001b[49m\u001b[43m)\u001b[49m\n",
      "File \u001b[0;32m~/miniforge3/envs/crawling/lib/python3.8/site-packages/selenium/webdriver/remote/webdriver.py:1284\u001b[0m, in \u001b[0;36mWebDriver.find_elements\u001b[0;34m(self, by, value)\u001b[0m\n\u001b[1;32m   1280\u001b[0m     value \u001b[38;5;241m=\u001b[39m \u001b[38;5;124m'\u001b[39m\u001b[38;5;124m[name=\u001b[39m\u001b[38;5;124m\"\u001b[39m\u001b[38;5;132;01m%s\u001b[39;00m\u001b[38;5;124m\"\u001b[39m\u001b[38;5;124m]\u001b[39m\u001b[38;5;124m'\u001b[39m \u001b[38;5;241m%\u001b[39m value\n\u001b[1;32m   1282\u001b[0m \u001b[38;5;66;03m# Return empty list if driver returns null\u001b[39;00m\n\u001b[1;32m   1283\u001b[0m \u001b[38;5;66;03m# See https://github.com/SeleniumHQ/selenium/issues/4555\u001b[39;00m\n\u001b[0;32m-> 1284\u001b[0m \u001b[38;5;28;01mreturn\u001b[39;00m \u001b[38;5;28;43mself\u001b[39;49m\u001b[38;5;241;43m.\u001b[39;49m\u001b[43mexecute\u001b[49m\u001b[43m(\u001b[49m\u001b[43mCommand\u001b[49m\u001b[38;5;241;43m.\u001b[39;49m\u001b[43mFIND_ELEMENTS\u001b[49m\u001b[43m,\u001b[49m\u001b[43m \u001b[49m\u001b[43m{\u001b[49m\n\u001b[1;32m   1285\u001b[0m \u001b[43m    \u001b[49m\u001b[38;5;124;43m'\u001b[39;49m\u001b[38;5;124;43musing\u001b[39;49m\u001b[38;5;124;43m'\u001b[39;49m\u001b[43m:\u001b[49m\u001b[43m \u001b[49m\u001b[43mby\u001b[49m\u001b[43m,\u001b[49m\n\u001b[1;32m   1286\u001b[0m \u001b[43m    \u001b[49m\u001b[38;5;124;43m'\u001b[39;49m\u001b[38;5;124;43mvalue\u001b[39;49m\u001b[38;5;124;43m'\u001b[39;49m\u001b[43m:\u001b[49m\u001b[43m \u001b[49m\u001b[43mvalue\u001b[49m\u001b[43m}\u001b[49m\u001b[43m)\u001b[49m[\u001b[38;5;124m'\u001b[39m\u001b[38;5;124mvalue\u001b[39m\u001b[38;5;124m'\u001b[39m] \u001b[38;5;129;01mor\u001b[39;00m []\n",
      "File \u001b[0;32m~/miniforge3/envs/crawling/lib/python3.8/site-packages/selenium/webdriver/remote/webdriver.py:430\u001b[0m, in \u001b[0;36mWebDriver.execute\u001b[0;34m(self, driver_command, params)\u001b[0m\n\u001b[1;32m    428\u001b[0m response \u001b[38;5;241m=\u001b[39m \u001b[38;5;28mself\u001b[39m\u001b[38;5;241m.\u001b[39mcommand_executor\u001b[38;5;241m.\u001b[39mexecute(driver_command, params)\n\u001b[1;32m    429\u001b[0m \u001b[38;5;28;01mif\u001b[39;00m response:\n\u001b[0;32m--> 430\u001b[0m     \u001b[38;5;28;43mself\u001b[39;49m\u001b[38;5;241;43m.\u001b[39;49m\u001b[43merror_handler\u001b[49m\u001b[38;5;241;43m.\u001b[39;49m\u001b[43mcheck_response\u001b[49m\u001b[43m(\u001b[49m\u001b[43mresponse\u001b[49m\u001b[43m)\u001b[49m\n\u001b[1;32m    431\u001b[0m     response[\u001b[38;5;124m'\u001b[39m\u001b[38;5;124mvalue\u001b[39m\u001b[38;5;124m'\u001b[39m] \u001b[38;5;241m=\u001b[39m \u001b[38;5;28mself\u001b[39m\u001b[38;5;241m.\u001b[39m_unwrap_value(\n\u001b[1;32m    432\u001b[0m         response\u001b[38;5;241m.\u001b[39mget(\u001b[38;5;124m'\u001b[39m\u001b[38;5;124mvalue\u001b[39m\u001b[38;5;124m'\u001b[39m, \u001b[38;5;28;01mNone\u001b[39;00m))\n\u001b[1;32m    433\u001b[0m     \u001b[38;5;28;01mreturn\u001b[39;00m response\n",
      "File \u001b[0;32m~/miniforge3/envs/crawling/lib/python3.8/site-packages/selenium/webdriver/remote/errorhandler.py:247\u001b[0m, in \u001b[0;36mErrorHandler.check_response\u001b[0;34m(self, response)\u001b[0m\n\u001b[1;32m    245\u001b[0m         alert_text \u001b[38;5;241m=\u001b[39m value[\u001b[38;5;124m'\u001b[39m\u001b[38;5;124malert\u001b[39m\u001b[38;5;124m'\u001b[39m]\u001b[38;5;241m.\u001b[39mget(\u001b[38;5;124m'\u001b[39m\u001b[38;5;124mtext\u001b[39m\u001b[38;5;124m'\u001b[39m)\n\u001b[1;32m    246\u001b[0m     \u001b[38;5;28;01mraise\u001b[39;00m exception_class(message, screen, stacktrace, alert_text)  \u001b[38;5;66;03m# type: ignore[call-arg]  # mypy is not smart enough here\u001b[39;00m\n\u001b[0;32m--> 247\u001b[0m \u001b[38;5;28;01mraise\u001b[39;00m exception_class(message, screen, stacktrace)\n",
      "\u001b[0;31mNoSuchWindowException\u001b[0m: Message: no such window: window was already closed\n  (Session info: chrome=102.0.5005.61)\nStacktrace:\n0   chromedriver                        0x0000000102eb9170 chromedriver + 4477296\n1   chromedriver                        0x0000000102e50c18 chromedriver + 4049944\n2   chromedriver                        0x0000000102aa2d40 chromedriver + 191808\n3   chromedriver                        0x0000000102a937d8 chromedriver + 128984\n4   chromedriver                        0x0000000102a8de34 chromedriver + 106036\n5   chromedriver                        0x0000000102afa078 chromedriver + 548984\n6   chromedriver                        0x0000000102ac6f58 chromedriver + 339800\n7   chromedriver                        0x0000000102e8ebd4 chromedriver + 4303828\n8   chromedriver                        0x0000000102e93094 chromedriver + 4321428\n9   chromedriver                        0x0000000102e97600 chromedriver + 4339200\n10  chromedriver                        0x0000000102e93af4 chromedriver + 4324084\n11  chromedriver                        0x0000000102e7252c chromedriver + 4187436\n12  chromedriver                        0x0000000102eab488 chromedriver + 4420744\n13  chromedriver                        0x0000000102eab5ec chromedriver + 4421100\n14  chromedriver                        0x0000000102ebf92c chromedriver + 4503852\n15  libsystem_pthread.dylib             0x00000001b486026c _pthread_start + 148\n16  libsystem_pthread.dylib             0x00000001b485b08c thread_start + 8\n"
     ]
    }
   ],
   "source": [
    "result = get_title('TSLA')\n",
    "\n",
    "df = pd.DataFrame(\n",
    "    {'DATE' : result[1],\n",
    "    'COMMENT' : result[0]})\n",
    "\n",
    "df.to_csv('TESLA.csv', index=False, encoding='UTF-8')"
   ]
  },
  {
   "cell_type": "code",
   "execution_count": 225,
   "id": "ca45957e-a6b9-4864-99cc-a34980137391",
   "metadata": {},
   "outputs": [
    {
     "name": "stderr",
     "output_type": "stream",
     "text": [
      "/var/folders/xw/rbcyfp692g3c5w_0qcls7ncm0000gn/T/ipykernel_21490/469981134.py:6: DeprecationWarning: executable_path has been deprecated, please pass in a Service object\n",
      "  driver = webdriver.Chrome(executable_path='./chromedriver', options=options)\n"
     ]
    }
   ],
   "source": [
    "dates = []\n",
    "\n",
    "options = webdriver.ChromeOptions()\n",
    "options.add_experimental_option('excludeSwitches', ['enable-logging'])\n",
    "options.add_argument('user-agent=Mozilla/5.0 (Macintosh; Intel Mac OS X 10_15_7) AppleWebKit/537.36 (KHTML, like Gecko) Chrome/102.0.5005.61 Safari/537.36')\n",
    "driver = webdriver.Chrome(executable_path='./chromedriver', options=options)\n",
    "\n",
    "driver.get(getInvesting('TSLA'))\n",
    "driver.implicitly_wait(2)\n",
    "\n",
    "soup = BeautifulSoup(driver.page_source, 'lxml')\n",
    "\n",
    "for line in soup.select('div.comment_chat-header__36SjM span span'):\n",
    "    title = line.text\n",
    "    dates.append(title)\n",
    "\n",
    "#comments > ul > li:nth-child(23) > div > div > div.comment_chat-header__36SjM > span > span\n",
    "    \n",
    "# dates = driver.find_element(by=By.CLASS_NAME, value='comment_user-info__AWjKG')\n",
    "# print(dates)\n",
    "# print(dates.text)\n",
    "#comments > ul > li:nth-child(24) > div > div > div.comment_chat-header__36SjM > span > span\n",
    "# for line in date:\n",
    "#     dates.append(line.text)"
   ]
  },
  {
   "cell_type": "code",
   "execution_count": 226,
   "id": "29f5e6b4-4d20-4e55-8937-ea2efb630f28",
   "metadata": {
    "scrolled": true,
    "tags": []
   },
   "outputs": [
    {
     "data": {
      "text/plain": [
       "['30 minutes ago',\n",
       " '1 hour ago',\n",
       " '11 hours ago',\n",
       " '10 hours ago',\n",
       " '10 hours ago',\n",
       " '11 hours ago',\n",
       " '12 hours ago',\n",
       " '12 hours ago',\n",
       " '13 hours ago',\n",
       " '12 hours ago',\n",
       " '12 hours ago',\n",
       " '13 hours ago',\n",
       " '8 hours ago',\n",
       " '14 hours ago',\n",
       " '15 hours ago',\n",
       " '13 hours ago',\n",
       " '15 hours ago',\n",
       " '15 hours ago',\n",
       " '15 hours ago',\n",
       " '16 hours ago',\n",
       " '17 hours ago',\n",
       " '17 hours ago',\n",
       " '17 hours ago',\n",
       " '16 hours ago',\n",
       " '17 hours ago',\n",
       " '17 hours ago',\n",
       " '17 hours ago',\n",
       " '17 hours ago',\n",
       " '17 hours ago',\n",
       " '18 hours ago',\n",
       " '18 hours ago',\n",
       " '17 hours ago',\n",
       " '16 hours ago',\n",
       " '19 hours ago',\n",
       " '18 hours ago',\n",
       " '18 hours ago',\n",
       " '19 hours ago',\n",
       " '22 hours ago',\n",
       " '21 hours ago',\n",
       " '23 hours ago',\n",
       " '23 hours ago']"
      ]
     },
     "execution_count": 226,
     "metadata": {},
     "output_type": "execute_result"
    }
   ],
   "source": [
    "dates"
   ]
  },
  {
   "cell_type": "code",
   "execution_count": null,
   "id": "c4a82f9a-99ce-428b-9520-e4f94434bac3",
   "metadata": {},
   "outputs": [],
   "source": []
  },
  {
   "cell_type": "code",
   "execution_count": null,
   "id": "1bb7c0cb-bd14-4506-af7e-2d73d55b73a7",
   "metadata": {},
   "outputs": [],
   "source": []
  }
 ],
 "metadata": {
  "kernelspec": {
   "display_name": "Python 3 (ipykernel)",
   "language": "python",
   "name": "python3"
  },
  "language_info": {
   "codemirror_mode": {
    "name": "ipython",
    "version": 3
   },
   "file_extension": ".py",
   "mimetype": "text/x-python",
   "name": "python",
   "nbconvert_exporter": "python",
   "pygments_lexer": "ipython3",
   "version": "3.8.13"
  }
 },
 "nbformat": 4,
 "nbformat_minor": 5
}
