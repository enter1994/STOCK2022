{
 "cells": [
  {
   "cell_type": "code",
   "execution_count": 1,
   "id": "5368b2dd-4b49-4abb-ae69-6f79912b1bad",
   "metadata": {},
   "outputs": [],
   "source": [
    "import pandas as pd\n",
    "import numpy as np\n",
    "import requests\n",
    "from bs4 import BeautifulSoup\n",
    "from multiprocessing import Pool\n",
    "import FinanceDataReader as fdr\n",
    "import requests, lxml\n",
    "from selenium import webdriver\n",
    "from selenium.webdriver.chrome.options import Options\n",
    "from selenium.webdriver.common.by import By\n",
    "from selenium.webdriver.common.keys import Keys\n",
    "from selenium.webdriver.common.action_chains import ActionChains\n",
    "from user_agent import generate_user_agent, generate_navigator\n",
    "import time, datetime"
   ]
  },
  {
   "cell_type": "code",
   "execution_count": 8,
   "id": "0a966be1-02b7-406c-b658-372027ad617c",
   "metadata": {},
   "outputs": [],
   "source": [
    "def getInvesting(ticker):\n",
    "    target_address = 'https://www.google.com/search?q='+ticker+'+investing'\n",
    "    html = requests.get(target_address)\n",
    "    soup = BeautifulSoup(html.text, 'html.parser')\n",
    "    posts = soup.select('.kCrYT a ')\n",
    "    #for chooes first herf \n",
    "    href = str(posts[0].attrs['href'])\n",
    "    #then href is 'https:/www.investing/equities/stock&~~~~~~ \n",
    "    #so 1.find  start-index : index('equities') , end-index : index('&')\n",
    "    # and slicing href[start : end]\n",
    "    start = href.find('equities')\n",
    "    end = href.find('&')\n",
    "    # print(href[start:end])\n",
    "    return \"https://www.investing.com/\" + href[start:end] + '-news'"
   ]
  },
  {
   "cell_type": "code",
   "execution_count": 9,
   "id": "a040357b-4a0e-451d-984b-375b090e704a",
   "metadata": {},
   "outputs": [
    {
     "data": {
      "text/plain": [
       "'https://www.investing.com/equities/apple-computer-inc-news'"
      ]
     },
     "execution_count": 9,
     "metadata": {},
     "output_type": "execute_result"
    }
   ],
   "source": [
    "getInvesting('AAPL')"
   ]
  },
  {
   "cell_type": "code",
   "execution_count": 4,
   "id": "cd00ba4e-0e64-490f-8653-7d6316e09390",
   "metadata": {},
   "outputs": [],
   "source": [
    "def get_title(corp):\n",
    "    comments = []\n",
    "    dates = []\n",
    "\n",
    "    page = 0\n",
    "    cnt = 0\n",
    "    WAIT = 10\n",
    "    \n",
    "    # webdriver options\n",
    "    options = webdriver.ChromeOptions()\n",
    "    options.add_experimental_option('excludeSwitches', ['enable-logging'])\n",
    "    \n",
    "    user_agent = generate_user_agent(os=('mac', 'linux'), device_type='desktop')\n",
    "    options.add_argument(str(user_agent))        \n",
    "    \n",
    "    driver = webdriver.Chrome(executable_path='./chromedriver', options=options)\n",
    "    \n",
    "    # open browser\n",
    "    driver.get(getInvesting(corp))\n",
    "    driver.implicitly_wait(WAIT)\n",
    "    \n",
    "    # seledium으로 크롤링 -> 서버 관릭자가 싫어함\n",
    "    # articles = driver.find_elements_by_class_name('comment_content__AvzPV')\n",
    "    \n",
    "    # bs4로 크롤링\n",
    "    soup = BeautifulSoup(driver.page_source, 'lxml')\n",
    "    \n",
    "    # comment\n",
    "    for line in soup.select('div div div.comment_content__AvzPV'):\n",
    "        sentence = line.text\n",
    "        comments.append(sentence)\n",
    "    \n",
    "    # date\n",
    "    for line in soup.select('div.comment_chat-header__36SjM span span'):\n",
    "        sentence = line.text\n",
    "        dates.append(sentence)\n",
    "    \n",
    "    # 2page부터 짝수 page crawling\n",
    "    while True:\n",
    "        page += 2\n",
    "        \n",
    "        if page % 50 == 0:\n",
    "            time.sleep(40)\n",
    "        \n",
    "        url = getInvesting(corp)+ '/' + str(page)            \n",
    "\n",
    "        options = webdriver.ChromeOptions()\n",
    "\n",
    "        # user_agent = generate_user_agent(os=('mac', 'linux'), device_type='desktop')\n",
    "        user_agent = generate_user_agent(device_type='desktop')\n",
    "        options.add_argument(str(user_agent))\n",
    "\n",
    "        driver = webdriver.Chrome(executable_path='./chromedriver', options=options)\n",
    "\n",
    "        driver.get(url)\n",
    "        driver.implicitly_wait(WAIT)\n",
    "        time.sleep(3)\n",
    "\n",
    "        # articles = driver.find_elements_by_class_name('comment_content__AvzPV')\n",
    "        soup = BeautifulSoup(driver.page_source, 'lxml')        \n",
    "        link = soup.find_all('link', rel='canonical')\n",
    "        \n",
    "        # end 조건\n",
    "        if link[0]['href'] == getInvesting(corp):\n",
    "            print('Count comment page: ', cnt)            \n",
    "            break\n",
    "\n",
    "\n",
    "       # comment\n",
    "        for line in soup.select('div div div.comment_content__AvzPV'):\n",
    "            sentence = line.text\n",
    "            comments.append(sentence)\n",
    "\n",
    "        # date\n",
    "        for line in soup.select('div.comment_chat-header__36SjM span span'):\n",
    "            sentence = line.text\n",
    "            dates.append(sentence)\n",
    "\n",
    "        cnt += 1\n",
    "        \n",
    "    driver.close()\n",
    "\n",
    "    return comments, dates"
   ]
  },
  {
   "cell_type": "code",
   "execution_count": 5,
   "id": "220168c8-93dc-4600-a124-942fb470c62f",
   "metadata": {
    "scrolled": true,
    "tags": []
   },
   "outputs": [],
   "source": [
    "def save_csv(corporate):\n",
    "    comments, dates = get_title(corporate)\n",
    "\n",
    "    df = pd.DataFrame(\n",
    "        {'DATE' : dates,\n",
    "        'COMMENT' : comments})\n",
    "\n",
    "    df.to_csv(f'{corporate}.csv', index=False, encoding='UTF-8')"
   ]
  },
  {
   "cell_type": "code",
   "execution_count": 4,
   "id": "d3cad145-056a-4a9e-af24-6a9d25674056",
   "metadata": {},
   "outputs": [
    {
     "data": {
      "text/plain": [
       "'https://www.investing.com/equities/a.o-smith-corp-commentary'"
      ]
     },
     "execution_count": 4,
     "metadata": {},
     "output_type": "execute_result"
    }
   ],
   "source": [
    "getInvesting('AOS')"
   ]
  },
  {
   "cell_type": "code",
   "execution_count": 100,
   "id": "edef7ed7-67e5-41ba-8baa-c2022a5e5e7f",
   "metadata": {},
   "outputs": [
    {
     "name": "stderr",
     "output_type": "stream",
     "text": [
      "/var/folders/xw/rbcyfp692g3c5w_0qcls7ncm0000gn/T/ipykernel_83867/3556084359.py:16: DeprecationWarning: executable_path has been deprecated, please pass in a Service object\n",
      "  driver = webdriver.Chrome(executable_path='./chromedriver', options=options)\n",
      "/var/folders/xw/rbcyfp692g3c5w_0qcls7ncm0000gn/T/ipykernel_83867/3556084359.py:53: DeprecationWarning: executable_path has been deprecated, please pass in a Service object\n",
      "  driver = webdriver.Chrome(executable_path='./chromedriver', options=options)\n"
     ]
    },
    {
     "ename": "IndexError",
     "evalue": "list index out of range",
     "output_type": "error",
     "traceback": [
      "\u001b[0;31m---------------------------------------------------------------------------\u001b[0m",
      "\u001b[0;31mIndexError\u001b[0m                                Traceback (most recent call last)",
      "Input \u001b[0;32mIn [100]\u001b[0m, in \u001b[0;36m<cell line: 1>\u001b[0;34m()\u001b[0m\n\u001b[0;32m----> 1\u001b[0m \u001b[43msave_csv\u001b[49m\u001b[43m(\u001b[49m\u001b[38;5;124;43m'\u001b[39;49m\u001b[38;5;124;43mAAPL\u001b[39;49m\u001b[38;5;124;43m'\u001b[39;49m\u001b[43m)\u001b[49m\n",
      "Input \u001b[0;32mIn [99]\u001b[0m, in \u001b[0;36msave_csv\u001b[0;34m(corporate)\u001b[0m\n\u001b[1;32m      1\u001b[0m \u001b[38;5;28;01mdef\u001b[39;00m \u001b[38;5;21msave_csv\u001b[39m(corporate):\n\u001b[0;32m----> 2\u001b[0m     comments, dates \u001b[38;5;241m=\u001b[39m \u001b[43mget_title\u001b[49m\u001b[43m(\u001b[49m\u001b[43mcorporate\u001b[49m\u001b[43m)\u001b[49m\n\u001b[1;32m      4\u001b[0m     df \u001b[38;5;241m=\u001b[39m pd\u001b[38;5;241m.\u001b[39mDataFrame(\n\u001b[1;32m      5\u001b[0m         {\u001b[38;5;124m'\u001b[39m\u001b[38;5;124mDATE\u001b[39m\u001b[38;5;124m'\u001b[39m : dates,\n\u001b[1;32m      6\u001b[0m         \u001b[38;5;124m'\u001b[39m\u001b[38;5;124mCOMMENT\u001b[39m\u001b[38;5;124m'\u001b[39m : comments})\n\u001b[1;32m      8\u001b[0m     df\u001b[38;5;241m.\u001b[39mto_csv(\u001b[38;5;124mf\u001b[39m\u001b[38;5;124m'\u001b[39m\u001b[38;5;132;01m{\u001b[39;00mcorporate\u001b[38;5;132;01m}\u001b[39;00m\u001b[38;5;124m.csv\u001b[39m\u001b[38;5;124m'\u001b[39m, index\u001b[38;5;241m=\u001b[39m\u001b[38;5;28;01mFalse\u001b[39;00m, encoding\u001b[38;5;241m=\u001b[39m\u001b[38;5;124m'\u001b[39m\u001b[38;5;124mUTF-8\u001b[39m\u001b[38;5;124m'\u001b[39m)\n",
      "Input \u001b[0;32mIn [98]\u001b[0m, in \u001b[0;36mget_title\u001b[0;34m(corp)\u001b[0m\n\u001b[1;32m     61\u001b[0m link \u001b[38;5;241m=\u001b[39m soup\u001b[38;5;241m.\u001b[39mfind_all(\u001b[38;5;124m'\u001b[39m\u001b[38;5;124mlink\u001b[39m\u001b[38;5;124m'\u001b[39m, rel\u001b[38;5;241m=\u001b[39m\u001b[38;5;124m'\u001b[39m\u001b[38;5;124mcanonical\u001b[39m\u001b[38;5;124m'\u001b[39m)\n\u001b[1;32m     63\u001b[0m \u001b[38;5;66;03m# end 조건\u001b[39;00m\n\u001b[0;32m---> 64\u001b[0m \u001b[38;5;28;01mif\u001b[39;00m \u001b[43mlink\u001b[49m\u001b[43m[\u001b[49m\u001b[38;5;241;43m0\u001b[39;49m\u001b[43m]\u001b[49m[\u001b[38;5;124m'\u001b[39m\u001b[38;5;124mhref\u001b[39m\u001b[38;5;124m'\u001b[39m] \u001b[38;5;241m==\u001b[39m getInvesting(corp):\n\u001b[1;32m     65\u001b[0m     \u001b[38;5;28mprint\u001b[39m(\u001b[38;5;124m'\u001b[39m\u001b[38;5;124mCount comment page: \u001b[39m\u001b[38;5;124m'\u001b[39m, cnt)            \n\u001b[1;32m     66\u001b[0m     \u001b[38;5;28;01mbreak\u001b[39;00m\n",
      "\u001b[0;31mIndexError\u001b[0m: list index out of range"
     ]
    }
   ],
   "source": [
    "save_csv('AAPL')"
   ]
  },
  {
   "cell_type": "code",
   "execution_count": null,
   "id": "2d40fb31-7d42-40a2-b4ff-d5e14eea8e76",
   "metadata": {},
   "outputs": [],
   "source": []
  },
  {
   "cell_type": "code",
   "execution_count": null,
   "id": "27aef33a-cd03-4f6b-b1ad-4e6d7cdbf4e1",
   "metadata": {},
   "outputs": [],
   "source": []
  },
  {
   "cell_type": "code",
   "execution_count": null,
   "id": "7a181f86-7461-442e-bf0a-abcffbffcdb4",
   "metadata": {},
   "outputs": [],
   "source": []
  },
  {
   "cell_type": "code",
   "execution_count": null,
   "id": "b54826b4-3262-4419-82f6-d3de0991c0dc",
   "metadata": {},
   "outputs": [],
   "source": []
  },
  {
   "cell_type": "code",
   "execution_count": null,
   "id": "2a0de92e-debc-4df5-b41c-b0434ba9cbff",
   "metadata": {},
   "outputs": [],
   "source": []
  },
  {
   "cell_type": "code",
   "execution_count": null,
   "id": "ce20b48b-6fc0-4615-8945-3bbb29b39c3c",
   "metadata": {},
   "outputs": [],
   "source": []
  }
 ],
 "metadata": {
  "kernelspec": {
   "display_name": "Python 3 (ipykernel)",
   "language": "python",
   "name": "python3"
  },
  "language_info": {
   "codemirror_mode": {
    "name": "ipython",
    "version": 3
   },
   "file_extension": ".py",
   "mimetype": "text/x-python",
   "name": "python",
   "nbconvert_exporter": "python",
   "pygments_lexer": "ipython3",
   "version": "3.8.13"
  }
 },
 "nbformat": 4,
 "nbformat_minor": 5
}
